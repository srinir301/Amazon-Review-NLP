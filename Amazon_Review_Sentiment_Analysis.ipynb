{
  "cells": [
    {
      "cell_type": "markdown",
      "source": [
        "# Summary\n",
        "\n",
        "This is a NLP sentiment analysis project that is predicting on the star rating a customer will give based on their Amazon product review. My stakeholder is Amazon and any company that sells their product on Amazon.com. This sentiment analysis can helps companies imporve their future or current products and imporve customer satisfaction with their products. I got this dataset from Amazon Web Services(AWS) and I only got wireless product reviews because the qireless products already have pver 8 million reviews. The dataset has 15 columns and I am predicting on the star rating column which goes from 1 star to 5 stars. I started out by getting rid of null and unnecessary values, fixing the class imbalance, and sampling 10,000 reviews out of the 8 million reviews. Once a I did the preprocessing I had to prepare the data for modeling by using word tokenization, dropping stopwords, lowercasing all text, stemming the texts, and using TFIDF vectorizer to get the importance of words. After all that I started to create models for classification. I started out with a base logistic regression model and it gave a good precision score of 79% which ended up being the best model. After that I started creating models for KNN, XGB, and random forest but the these models were not able to get a better precision score than the base logistic regression model. SMOTE did not fix the class imbalance so I used over sampler instead. I recommend using the base logistic regression model, but would not recommend using it to predict the negative and neutral reviews.\n"
      ],
      "metadata": {
        "id": "69ZVNdBwDHDy"
      }
    },
    {
      "cell_type": "code",
      "execution_count": 107,
      "metadata": {
        "colab": {
          "base_uri": "https://localhost:8080/"
        },
        "id": "goQZySbGtY6L",
        "outputId": "1793ab6e-5790-45c3-d136-9ba8b61e5d6b"
      },
      "outputs": [
        {
          "output_type": "stream",
          "name": "stderr",
          "text": [
            "[nltk_data] Downloading package stopwords to /root/nltk_data...\n",
            "[nltk_data]   Package stopwords is already up-to-date!\n",
            "[nltk_data] Downloading package punkt to /root/nltk_data...\n",
            "[nltk_data]   Package punkt is already up-to-date!\n"
          ]
        }
      ],
      "source": [
        "# Importing packages\n",
        "import pandas as pd\n",
        "import seaborn as sns\n",
        "import random\n",
        "import itertools\n",
        "import warnings\n",
        "warnings.filterwarnings(\"ignore\")\n",
        "from sklearn.model_selection import train_test_split\n",
        "from xgboost import XGBClassifier\n",
        "from imblearn.over_sampling import SMOTE\n",
        "from sklearn.linear_model import LogisticRegression\n",
        "from sklearn.ensemble import RandomForestClassifier, StackingClassifier\n",
        "from sklearn.metrics import ConfusionMatrixDisplay, classification_report\n",
        "from sklearn.metrics._plot.confusion_matrix import confusion_matrix\n",
        "from imblearn.pipeline import Pipeline\n",
        "from sklearn.neighbors import KNeighborsClassifier\n",
        "from sklearn.model_selection import GridSearchCV\n",
        "import nltk\n",
        "nltk.download('stopwords')\n",
        "nltk.download('punkt')\n",
        "from nltk import pos_tag\n",
        "from nltk.probability import FreqDist\n",
        "from nltk.corpus import stopwords\n",
        "from nltk.tokenize import regexp_tokenize, word_tokenize, RegexpTokenizer\n",
        "from sklearn.feature_extraction.text import TfidfVectorizer, CountVectorizer\n",
        "from nltk.stem import SnowballStemmer\n",
        "import matplotlib.pyplot as plt\n",
        "import string\n",
        "import re\n",
        "import numpy as np\n",
        "from imblearn.over_sampling import RandomOverSampler"
      ]
    },
    {
      "cell_type": "code",
      "execution_count": 3,
      "metadata": {
        "colab": {
          "base_uri": "https://localhost:8080/"
        },
        "id": "VbSLs3-bjHN2",
        "outputId": "b69725fb-b395-44bf-e93b-99c01a37d8e2"
      },
      "outputs": [
        {
          "output_type": "stream",
          "name": "stdout",
          "text": [
            "Mounted at /content/drive\n",
            "/content/drive/MyDrive/Colab_Notebooks\n"
          ]
        }
      ],
      "source": [
        "# Getting data from google drive\n",
        "from google.colab import drive\n",
        "drive.mount('/content/drive')\n",
        "%cd /content/drive/MyDrive/Colab_Notebooks"
      ]
    },
    {
      "cell_type": "code",
      "execution_count": 4,
      "metadata": {
        "colab": {
          "base_uri": "https://localhost:8080/"
        },
        "id": "aU3GvQxHXN2c",
        "outputId": "9fac8833-30ef-41cc-bee1-58ca759a2be8",
        "scrolled": true
      },
      "outputs": [
        {
          "output_type": "stream",
          "name": "stderr",
          "text": [
            "b'Skipping line 51163: expected 15 fields, saw 22\\n'\n",
            "b'Skipping line 77018: expected 15 fields, saw 22\\nSkipping line 97528: expected 15 fields, saw 22\\n'\n",
            "b'Skipping line 145503: expected 15 fields, saw 22\\nSkipping line 172172: expected 15 fields, saw 22\\nSkipping line 185136: expected 15 fields, saw 22\\nSkipping line 187592: expected 15 fields, saw 22\\n'\n",
            "b'Skipping line 222158: expected 15 fields, saw 22\\nSkipping line 232048: expected 15 fields, saw 22\\nSkipping line 232320: expected 15 fields, saw 22\\nSkipping line 234653: expected 15 fields, saw 22\\nSkipping line 257210: expected 15 fields, saw 22\\nSkipping line 261368: expected 15 fields, saw 22\\n'\n",
            "b'Skipping line 262843: expected 15 fields, saw 22\\nSkipping line 274082: expected 15 fields, saw 22\\nSkipping line 276172: expected 15 fields, saw 22\\nSkipping line 327076: expected 15 fields, saw 22\\n'\n",
            "b'Skipping line 328675: expected 15 fields, saw 22\\nSkipping line 366744: expected 15 fields, saw 22\\nSkipping line 380897: expected 15 fields, saw 22\\nSkipping line 385372: expected 15 fields, saw 22\\nSkipping line 386090: expected 15 fields, saw 22\\nSkipping line 390349: expected 15 fields, saw 22\\n'\n",
            "b'Skipping line 415621: expected 15 fields, saw 22\\nSkipping line 418639: expected 15 fields, saw 22\\nSkipping line 428228: expected 15 fields, saw 22\\nSkipping line 430263: expected 15 fields, saw 22\\nSkipping line 441782: expected 15 fields, saw 22\\n'\n",
            "b'Skipping line 468743: expected 15 fields, saw 22\\n'\n",
            "b'Skipping line 528339: expected 15 fields, saw 22\\nSkipping line 562081: expected 15 fields, saw 22\\nSkipping line 567006: expected 15 fields, saw 22\\nSkipping line 569246: expected 15 fields, saw 22\\nSkipping line 574405: expected 15 fields, saw 22\\n'\n",
            "b'Skipping line 603332: expected 15 fields, saw 22\\nSkipping line 636067: expected 15 fields, saw 22\\n'\n",
            "b'Skipping line 660230: expected 15 fields, saw 22\\nSkipping line 660828: expected 15 fields, saw 22\\nSkipping line 678625: expected 15 fields, saw 22\\n'\n",
            "b'Skipping line 756367: expected 15 fields, saw 22\\nSkipping line 760714: expected 15 fields, saw 22\\nSkipping line 786243: expected 15 fields, saw 22\\n'\n",
            "b'Skipping line 798324: expected 15 fields, saw 22\\nSkipping line 821088: expected 15 fields, saw 22\\nSkipping line 825319: expected 15 fields, saw 22\\n'\n",
            "b'Skipping line 852507: expected 15 fields, saw 22\\nSkipping line 866712: expected 15 fields, saw 22\\nSkipping line 869545: expected 15 fields, saw 22\\n'\n",
            "b'Skipping line 925491: expected 15 fields, saw 22\\nSkipping line 938153: expected 15 fields, saw 22\\nSkipping line 950901: expected 15 fields, saw 22\\nSkipping line 959387: expected 15 fields, saw 22\\nSkipping line 960759: expected 15 fields, saw 22\\n'\n",
            "b'Skipping line 1011924: expected 15 fields, saw 22\\nSkipping line 1029952: expected 15 fields, saw 22\\n'\n",
            "b'Skipping line 1052281: expected 15 fields, saw 22\\nSkipping line 1101791: expected 15 fields, saw 22\\nSkipping line 1111307: expected 15 fields, saw 22\\n'\n",
            "b'Skipping line 1154652: expected 15 fields, saw 22\\nSkipping line 1160926: expected 15 fields, saw 22\\n'\n",
            "b'Skipping line 1231416: expected 15 fields, saw 22\\n'\n",
            "b'Skipping line 1260501: expected 15 fields, saw 22\\nSkipping line 1277534: expected 15 fields, saw 22\\nSkipping line 1296369: expected 15 fields, saw 22\\nSkipping line 1307597: expected 15 fields, saw 22\\n'\n",
            "b'Skipping line 1325090: expected 15 fields, saw 22\\nSkipping line 1334579: expected 15 fields, saw 22\\nSkipping line 1334605: expected 15 fields, saw 22\\n'\n",
            "b'Skipping line 1376783: expected 15 fields, saw 22\\nSkipping line 1433258: expected 15 fields, saw 22\\nSkipping line 1434269: expected 15 fields, saw 22\\nSkipping line 1437609: expected 15 fields, saw 22\\nSkipping line 1439772: expected 15 fields, saw 22\\nSkipping line 1439787: expected 15 fields, saw 22\\n'\n",
            "b'Skipping line 1453075: expected 15 fields, saw 22\\nSkipping line 1459700: expected 15 fields, saw 22\\nSkipping line 1464111: expected 15 fields, saw 22\\nSkipping line 1488577: expected 15 fields, saw 22\\n'\n",
            "b'Skipping line 1557764: expected 15 fields, saw 22\\n'\n",
            "b'Skipping line 1578716: expected 15 fields, saw 22\\nSkipping line 1631571: expected 15 fields, saw 22\\n'\n",
            "b'Skipping line 1650716: expected 15 fields, saw 22\\nSkipping line 1652945: expected 15 fields, saw 22\\nSkipping line 1685704: expected 15 fields, saw 22\\nSkipping line 1694353: expected 15 fields, saw 22\\n'\n",
            "b'Skipping line 1730142: expected 15 fields, saw 22\\nSkipping line 1750283: expected 15 fields, saw 22\\nSkipping line 1755827: expected 15 fields, saw 22\\n'\n",
            "b'Skipping line 1771363: expected 15 fields, saw 22\\nSkipping line 1778652: expected 15 fields, saw 22\\nSkipping line 1786040: expected 15 fields, saw 22\\nSkipping line 1811130: expected 15 fields, saw 22\\n'\n",
            "b'Skipping line 1851243: expected 15 fields, saw 22\\nSkipping line 1859576: expected 15 fields, saw 22\\nSkipping line 1873227: expected 15 fields, saw 22\\nSkipping line 1875708: expected 15 fields, saw 22\\nSkipping line 1875744: expected 15 fields, saw 22\\nSkipping line 1876464: expected 15 fields, saw 22\\n'\n",
            "b'Skipping line 1911896: expected 15 fields, saw 22\\nSkipping line 1927903: expected 15 fields, saw 22\\nSkipping line 1956728: expected 15 fields, saw 22\\nSkipping line 1961194: expected 15 fields, saw 22\\nSkipping line 1964795: expected 15 fields, saw 22\\n'\n",
            "b'Skipping line 1972104: expected 15 fields, saw 22\\nSkipping line 1984043: expected 15 fields, saw 22\\nSkipping line 2014391: expected 15 fields, saw 22\\nSkipping line 2028519: expected 15 fields, saw 22\\nSkipping line 2031468: expected 15 fields, saw 22\\n'\n",
            "b'Skipping line 2043552: expected 15 fields, saw 22\\nSkipping line 2055083: expected 15 fields, saw 22\\nSkipping line 2057381: expected 15 fields, saw 22\\nSkipping line 2059594: expected 15 fields, saw 22\\nSkipping line 2062807: expected 15 fields, saw 22\\nSkipping line 2074663: expected 15 fields, saw 22\\nSkipping line 2091271: expected 15 fields, saw 22\\n'\n",
            "b'Skipping line 2141672: expected 15 fields, saw 22\\nSkipping line 2155845: expected 15 fields, saw 22\\n'\n",
            "b'Skipping line 2203178: expected 15 fields, saw 22\\nSkipping line 2213973: expected 15 fields, saw 22\\nSkipping line 2226402: expected 15 fields, saw 22\\n'\n",
            "b'Skipping line 2228466: expected 15 fields, saw 22\\nSkipping line 2240607: expected 15 fields, saw 22\\n'\n",
            "b'Skipping line 2375154: expected 15 fields, saw 22\\nSkipping line 2392796: expected 15 fields, saw 22\\nSkipping line 2418255: expected 15 fields, saw 22\\nSkipping line 2420805: expected 15 fields, saw 22\\nSkipping line 2422512: expected 15 fields, saw 22\\n'\n",
            "b'Skipping line 2456502: expected 15 fields, saw 22\\nSkipping line 2461503: expected 15 fields, saw 22\\n'\n",
            "b'Skipping line 2502272: expected 15 fields, saw 22\\nSkipping line 2508333: expected 15 fields, saw 22\\nSkipping line 2516880: expected 15 fields, saw 22\\nSkipping line 2527783: expected 15 fields, saw 22\\nSkipping line 2554258: expected 15 fields, saw 22\\n'\n",
            "b'Skipping line 2559624: expected 15 fields, saw 22\\nSkipping line 2615834: expected 15 fields, saw 22\\n'\n",
            "b'Skipping line 2649950: expected 15 fields, saw 22\\nSkipping line 2655521: expected 15 fields, saw 22\\nSkipping line 2662038: expected 15 fields, saw 22\\n'\n",
            "b'Skipping line 2704137: expected 15 fields, saw 22\\nSkipping line 2747242: expected 15 fields, saw 22\\nSkipping line 2749072: expected 15 fields, saw 22\\n'\n",
            "b'Skipping line 2769812: expected 15 fields, saw 22\\nSkipping line 2806620: expected 15 fields, saw 22\\n'\n",
            "b'Skipping line 2868142: expected 15 fields, saw 22\\n'\n",
            "b'Skipping line 2928728: expected 15 fields, saw 22\\n'\n",
            "b'Skipping line 3060440: expected 15 fields, saw 22\\nSkipping line 3074844: expected 15 fields, saw 22\\nSkipping line 3078673: expected 15 fields, saw 22\\n'\n",
            "b'Skipping line 3086850: expected 15 fields, saw 22\\nSkipping line 3097846: expected 15 fields, saw 22\\nSkipping line 3108353: expected 15 fields, saw 22\\nSkipping line 3108833: expected 15 fields, saw 22\\nSkipping line 3141546: expected 15 fields, saw 22\\nSkipping line 3141841: expected 15 fields, saw 22\\n'\n",
            "b'Skipping line 3177323: expected 15 fields, saw 22\\n'\n",
            "b'Skipping line 3301495: expected 15 fields, saw 22\\nSkipping line 3303685: expected 15 fields, saw 22\\nSkipping line 3307866: expected 15 fields, saw 22\\nSkipping line 3331179: expected 15 fields, saw 22\\n'\n",
            "b'Skipping line 3350797: expected 15 fields, saw 22\\nSkipping line 3353129: expected 15 fields, saw 22\\nSkipping line 3359991: expected 15 fields, saw 22\\nSkipping line 3374754: expected 15 fields, saw 22\\nSkipping line 3384256: expected 15 fields, saw 22\\n'\n",
            "b'Skipping line 3466921: expected 15 fields, saw 22\\n'\n",
            "b'Skipping line 3489262: expected 15 fields, saw 22\\nSkipping line 3495576: expected 15 fields, saw 22\\nSkipping line 3523962: expected 15 fields, saw 22\\nSkipping line 3529611: expected 15 fields, saw 22\\nSkipping line 3531020: expected 15 fields, saw 22\\nSkipping line 3536942: expected 15 fields, saw 22\\n'\n",
            "b'Skipping line 3541414: expected 15 fields, saw 22\\nSkipping line 3552928: expected 15 fields, saw 22\\nSkipping line 3586921: expected 15 fields, saw 22\\nSkipping line 3599085: expected 15 fields, saw 22\\n'\n",
            "b'Skipping line 3613803: expected 15 fields, saw 22\\nSkipping line 3615552: expected 15 fields, saw 22\\nSkipping line 3617751: expected 15 fields, saw 22\\nSkipping line 3640481: expected 15 fields, saw 22\\nSkipping line 3665208: expected 15 fields, saw 22\\n'\n",
            "b'Skipping line 3675914: expected 15 fields, saw 22\\n'\n",
            "b'Skipping line 3738934: expected 15 fields, saw 22\\nSkipping line 3744765: expected 15 fields, saw 22\\nSkipping line 3770180: expected 15 fields, saw 22\\nSkipping line 3777748: expected 15 fields, saw 22\\nSkipping line 3780701: expected 15 fields, saw 22\\n'\n",
            "b'Skipping line 3837914: expected 15 fields, saw 22\\nSkipping line 3858205: expected 15 fields, saw 22\\n'\n",
            "b'Skipping line 3917010: expected 15 fields, saw 22\\nSkipping line 3928876: expected 15 fields, saw 22\\n'\n",
            "b'Skipping line 3953578: expected 15 fields, saw 22\\n'\n",
            "b'Skipping line 3998250: expected 15 fields, saw 22\\nSkipping line 4014291: expected 15 fields, saw 22\\n'\n",
            "b'Skipping line 4108511: expected 15 fields, saw 22\\n'\n",
            "b'Skipping line 4159047: expected 15 fields, saw 22\\nSkipping line 4159918: expected 15 fields, saw 22\\n'\n",
            "b'Skipping line 4278132: expected 15 fields, saw 22\\nSkipping line 4280362: expected 15 fields, saw 22\\nSkipping line 4319821: expected 15 fields, saw 22\\n'\n",
            "b'Skipping line 4346435: expected 15 fields, saw 22\\nSkipping line 4352265: expected 15 fields, saw 22\\nSkipping line 4363896: expected 15 fields, saw 22\\nSkipping line 4383897: expected 15 fields, saw 22\\nSkipping line 4385506: expected 15 fields, saw 22\\n'\n",
            "b'Skipping line 4482367: expected 15 fields, saw 22\\nSkipping line 4491605: expected 15 fields, saw 22\\nSkipping line 4520374: expected 15 fields, saw 22\\n'\n",
            "b'Skipping line 4540276: expected 15 fields, saw 22\\nSkipping line 4546846: expected 15 fields, saw 22\\nSkipping line 4572266: expected 15 fields, saw 22\\nSkipping line 4575956: expected 15 fields, saw 22\\n'\n",
            "b'Skipping line 4591310: expected 15 fields, saw 22\\n'\n",
            "b'Skipping line 4689145: expected 15 fields, saw 22\\nSkipping line 4702660: expected 15 fields, saw 22\\nSkipping line 4716887: expected 15 fields, saw 22\\n'\n",
            "b'Skipping line 4735482: expected 15 fields, saw 22\\nSkipping line 4781074: expected 15 fields, saw 22\\n'\n",
            "b'Skipping line 4804591: expected 15 fields, saw 22\\n'\n",
            "b'Skipping line 4990535: expected 15 fields, saw 22\\n'\n",
            "b'Skipping line 5415775: expected 15 fields, saw 22\\n'\n",
            "b'Skipping line 5506042: expected 15 fields, saw 22\\nSkipping line 5522317: expected 15 fields, saw 22\\n'\n",
            "b'Skipping line 5625291: expected 15 fields, saw 22\\n'\n",
            "b'Skipping line 5860345: expected 15 fields, saw 22\\n'\n",
            "b'Skipping line 5939648: expected 15 fields, saw 22\\n'\n",
            "b'Skipping line 6027713: expected 15 fields, saw 22\\n'\n",
            "b'Skipping line 6146975: expected 15 fields, saw 22\\n'\n",
            "b'Skipping line 6388986: expected 15 fields, saw 22\\n'\n",
            "b'Skipping line 7073026: expected 15 fields, saw 22\\n'\n",
            "b'Skipping line 7311194: expected 15 fields, saw 22\\n'\n",
            "b'Skipping line 7952497: expected 15 fields, saw 22\\n'\n",
            "b'Skipping line 8416412: expected 15 fields, saw 22\\n'\n"
          ]
        }
      ],
      "source": [
        "# Loading the data as df and skipped the unreadable lines\n",
        "df = pd.read_csv('wireless.tsv', sep='\\t', error_bad_lines=False)"
      ]
    },
    {
      "cell_type": "code",
      "execution_count": 5,
      "metadata": {
        "colab": {
          "base_uri": "https://localhost:8080/"
        },
        "id": "0tq8KJyOXN2f",
        "outputId": "28aaa924-7445-4590-9c28-df1a24c754ed",
        "scrolled": true
      },
      "outputs": [
        {
          "output_type": "execute_result",
          "data": {
            "text/plain": [
              "8991589"
            ]
          },
          "metadata": {},
          "execution_count": 5
        }
      ],
      "source": [
        "# Checking how many rows are in the data\n",
        "len(df)"
      ]
    },
    {
      "cell_type": "code",
      "execution_count": 6,
      "metadata": {
        "colab": {
          "base_uri": "https://localhost:8080/",
          "height": 867
        },
        "id": "XTwNyh6eXN2g",
        "outputId": "33875960-08ae-4474-8a05-c59ff7a3fea4"
      },
      "outputs": [
        {
          "output_type": "execute_result",
          "data": {
            "text/plain": [
              "        marketplace  ...  review_date\n",
              "0                US  ...   2015-08-31\n",
              "1                US  ...   2015-08-31\n",
              "2                US  ...   2015-08-31\n",
              "3                US  ...   2015-08-31\n",
              "4                US  ...   2015-08-31\n",
              "...             ...  ...          ...\n",
              "8991584          US  ...   1999-07-13\n",
              "8991585          US  ...   1999-07-13\n",
              "8991586          US  ...   1999-01-03\n",
              "8991587          US  ...   1998-12-26\n",
              "8991588          US  ...   1998-12-04\n",
              "\n",
              "[8991589 rows x 15 columns]"
            ],
            "text/html": [
              "\n",
              "  <div id=\"df-113de7a6-161a-4a27-bf32-dea2a78df5a3\">\n",
              "    <div class=\"colab-df-container\">\n",
              "      <div>\n",
              "<style scoped>\n",
              "    .dataframe tbody tr th:only-of-type {\n",
              "        vertical-align: middle;\n",
              "    }\n",
              "\n",
              "    .dataframe tbody tr th {\n",
              "        vertical-align: top;\n",
              "    }\n",
              "\n",
              "    .dataframe thead th {\n",
              "        text-align: right;\n",
              "    }\n",
              "</style>\n",
              "<table border=\"1\" class=\"dataframe\">\n",
              "  <thead>\n",
              "    <tr style=\"text-align: right;\">\n",
              "      <th></th>\n",
              "      <th>marketplace</th>\n",
              "      <th>customer_id</th>\n",
              "      <th>review_id</th>\n",
              "      <th>product_id</th>\n",
              "      <th>product_parent</th>\n",
              "      <th>product_title</th>\n",
              "      <th>product_category</th>\n",
              "      <th>star_rating</th>\n",
              "      <th>helpful_votes</th>\n",
              "      <th>total_votes</th>\n",
              "      <th>vine</th>\n",
              "      <th>verified_purchase</th>\n",
              "      <th>review_headline</th>\n",
              "      <th>review_body</th>\n",
              "      <th>review_date</th>\n",
              "    </tr>\n",
              "  </thead>\n",
              "  <tbody>\n",
              "    <tr>\n",
              "      <th>0</th>\n",
              "      <td>US</td>\n",
              "      <td>16414143</td>\n",
              "      <td>R3W4P9UBGNGH1U</td>\n",
              "      <td>B00YL0EKWE</td>\n",
              "      <td>852431543</td>\n",
              "      <td>LG G4 Case Hard Transparent Slim Clear Cover f...</td>\n",
              "      <td>Wireless</td>\n",
              "      <td>2</td>\n",
              "      <td>1.0</td>\n",
              "      <td>3.0</td>\n",
              "      <td>N</td>\n",
              "      <td>Y</td>\n",
              "      <td>Looks good, functions meh</td>\n",
              "      <td>2 issues  -  Once I turned on the circle apps ...</td>\n",
              "      <td>2015-08-31</td>\n",
              "    </tr>\n",
              "    <tr>\n",
              "      <th>1</th>\n",
              "      <td>US</td>\n",
              "      <td>50800750</td>\n",
              "      <td>R15V54KBMTQWAY</td>\n",
              "      <td>B00XK95RPQ</td>\n",
              "      <td>516894650</td>\n",
              "      <td>Selfie Stick Fiblastiq&amp;trade; Extendable Wirel...</td>\n",
              "      <td>Wireless</td>\n",
              "      <td>4</td>\n",
              "      <td>0.0</td>\n",
              "      <td>0.0</td>\n",
              "      <td>N</td>\n",
              "      <td>N</td>\n",
              "      <td>A fun little gadget</td>\n",
              "      <td>I’m embarrassed to admit that until recently, ...</td>\n",
              "      <td>2015-08-31</td>\n",
              "    </tr>\n",
              "    <tr>\n",
              "      <th>2</th>\n",
              "      <td>US</td>\n",
              "      <td>15184378</td>\n",
              "      <td>RY8I449HNXSVF</td>\n",
              "      <td>B00SXRXUKO</td>\n",
              "      <td>984297154</td>\n",
              "      <td>Tribe AB40 Water Resistant Sports Armband with...</td>\n",
              "      <td>Wireless</td>\n",
              "      <td>5</td>\n",
              "      <td>0.0</td>\n",
              "      <td>0.0</td>\n",
              "      <td>N</td>\n",
              "      <td>Y</td>\n",
              "      <td>Five Stars</td>\n",
              "      <td>Fits iPhone 6 well</td>\n",
              "      <td>2015-08-31</td>\n",
              "    </tr>\n",
              "    <tr>\n",
              "      <th>3</th>\n",
              "      <td>US</td>\n",
              "      <td>10203548</td>\n",
              "      <td>R18TLJYCKJFLSR</td>\n",
              "      <td>B009V5X1CE</td>\n",
              "      <td>279912704</td>\n",
              "      <td>RAVPower® Element 10400mAh External Battery US...</td>\n",
              "      <td>Wireless</td>\n",
              "      <td>5</td>\n",
              "      <td>0.0</td>\n",
              "      <td>0.0</td>\n",
              "      <td>N</td>\n",
              "      <td>Y</td>\n",
              "      <td>Great charger</td>\n",
              "      <td>Great charger.  I easily get 3+ charges on a S...</td>\n",
              "      <td>2015-08-31</td>\n",
              "    </tr>\n",
              "    <tr>\n",
              "      <th>4</th>\n",
              "      <td>US</td>\n",
              "      <td>488280</td>\n",
              "      <td>R1NK26SWS53B8Q</td>\n",
              "      <td>B00D93OVF0</td>\n",
              "      <td>662791300</td>\n",
              "      <td>Fosmon Micro USB Value Pack Bundle for Samsung...</td>\n",
              "      <td>Wireless</td>\n",
              "      <td>5</td>\n",
              "      <td>0.0</td>\n",
              "      <td>0.0</td>\n",
              "      <td>N</td>\n",
              "      <td>Y</td>\n",
              "      <td>Five Stars</td>\n",
              "      <td>Great for the price :-)</td>\n",
              "      <td>2015-08-31</td>\n",
              "    </tr>\n",
              "    <tr>\n",
              "      <th>...</th>\n",
              "      <td>...</td>\n",
              "      <td>...</td>\n",
              "      <td>...</td>\n",
              "      <td>...</td>\n",
              "      <td>...</td>\n",
              "      <td>...</td>\n",
              "      <td>...</td>\n",
              "      <td>...</td>\n",
              "      <td>...</td>\n",
              "      <td>...</td>\n",
              "      <td>...</td>\n",
              "      <td>...</td>\n",
              "      <td>...</td>\n",
              "      <td>...</td>\n",
              "      <td>...</td>\n",
              "    </tr>\n",
              "    <tr>\n",
              "      <th>8991584</th>\n",
              "      <td>US</td>\n",
              "      <td>51706541</td>\n",
              "      <td>R3ZKCWKG4097P</td>\n",
              "      <td>B00000J40U</td>\n",
              "      <td>91541241</td>\n",
              "      <td>Garmin GPS III Waterproof Hiking GPS</td>\n",
              "      <td>Wireless</td>\n",
              "      <td>4</td>\n",
              "      <td>12.0</td>\n",
              "      <td>12.0</td>\n",
              "      <td>N</td>\n",
              "      <td>N</td>\n",
              "      <td>When you really need to know.</td>\n",
              "      <td>We train search and rescue dogs in Colorado an...</td>\n",
              "      <td>1999-07-13</td>\n",
              "    </tr>\n",
              "    <tr>\n",
              "      <th>8991585</th>\n",
              "      <td>US</td>\n",
              "      <td>51660758</td>\n",
              "      <td>R2D0X18EHNKEOJ</td>\n",
              "      <td>B00000JBRT</td>\n",
              "      <td>226432064</td>\n",
              "      <td>Uniden BC245XLT Handheld Scanner</td>\n",
              "      <td>Wireless</td>\n",
              "      <td>5</td>\n",
              "      <td>10.0</td>\n",
              "      <td>13.0</td>\n",
              "      <td>N</td>\n",
              "      <td>N</td>\n",
              "      <td>A must have for trunked radio systems</td>\n",
              "      <td>I have had the BC245XLT for almost a week now....</td>\n",
              "      <td>1999-07-13</td>\n",
              "    </tr>\n",
              "    <tr>\n",
              "      <th>8991586</th>\n",
              "      <td>US</td>\n",
              "      <td>53076522</td>\n",
              "      <td>R292SJRN80H8OQ</td>\n",
              "      <td>B00000DM9D</td>\n",
              "      <td>730627849</td>\n",
              "      <td>Garmin GPS II Plus Waterproof Hiking GPS</td>\n",
              "      <td>Wireless</td>\n",
              "      <td>4</td>\n",
              "      <td>1.0</td>\n",
              "      <td>6.0</td>\n",
              "      <td>N</td>\n",
              "      <td>N</td>\n",
              "      <td>Better suit for US market</td>\n",
              "      <td>I brought my Gramin GPS II last month.  The fe...</td>\n",
              "      <td>1999-01-03</td>\n",
              "    </tr>\n",
              "    <tr>\n",
              "      <th>8991587</th>\n",
              "      <td>US</td>\n",
              "      <td>52780824</td>\n",
              "      <td>R3HA5IXDCVJ65K</td>\n",
              "      <td>B00000DM9D</td>\n",
              "      <td>730627849</td>\n",
              "      <td>Garmin GPS II Plus Waterproof Hiking GPS</td>\n",
              "      <td>Wireless</td>\n",
              "      <td>5</td>\n",
              "      <td>24.0</td>\n",
              "      <td>25.0</td>\n",
              "      <td>N</td>\n",
              "      <td>N</td>\n",
              "      <td>A rugged, spectacular essential for wilderness...</td>\n",
              "      <td>I made a 4 day, 3 night solo hike in Big Bend ...</td>\n",
              "      <td>1998-12-26</td>\n",
              "    </tr>\n",
              "    <tr>\n",
              "      <th>8991588</th>\n",
              "      <td>US</td>\n",
              "      <td>52165522</td>\n",
              "      <td>R3T0HNHSZUC0ZW</td>\n",
              "      <td>B00000DM9D</td>\n",
              "      <td>730627849</td>\n",
              "      <td>Garmin GPS II Plus Waterproof Hiking GPS</td>\n",
              "      <td>Wireless</td>\n",
              "      <td>4</td>\n",
              "      <td>15.0</td>\n",
              "      <td>15.0</td>\n",
              "      <td>N</td>\n",
              "      <td>N</td>\n",
              "      <td>Excellent Product; Easier to use than other mo...</td>\n",
              "      <td>The Garmin GPS II, II Plus, and III are all ex...</td>\n",
              "      <td>1998-12-04</td>\n",
              "    </tr>\n",
              "  </tbody>\n",
              "</table>\n",
              "<p>8991589 rows × 15 columns</p>\n",
              "</div>\n",
              "      <button class=\"colab-df-convert\" onclick=\"convertToInteractive('df-113de7a6-161a-4a27-bf32-dea2a78df5a3')\"\n",
              "              title=\"Convert this dataframe to an interactive table.\"\n",
              "              style=\"display:none;\">\n",
              "        \n",
              "  <svg xmlns=\"http://www.w3.org/2000/svg\" height=\"24px\"viewBox=\"0 0 24 24\"\n",
              "       width=\"24px\">\n",
              "    <path d=\"M0 0h24v24H0V0z\" fill=\"none\"/>\n",
              "    <path d=\"M18.56 5.44l.94 2.06.94-2.06 2.06-.94-2.06-.94-.94-2.06-.94 2.06-2.06.94zm-11 1L8.5 8.5l.94-2.06 2.06-.94-2.06-.94L8.5 2.5l-.94 2.06-2.06.94zm10 10l.94 2.06.94-2.06 2.06-.94-2.06-.94-.94-2.06-.94 2.06-2.06.94z\"/><path d=\"M17.41 7.96l-1.37-1.37c-.4-.4-.92-.59-1.43-.59-.52 0-1.04.2-1.43.59L10.3 9.45l-7.72 7.72c-.78.78-.78 2.05 0 2.83L4 21.41c.39.39.9.59 1.41.59.51 0 1.02-.2 1.41-.59l7.78-7.78 2.81-2.81c.8-.78.8-2.07 0-2.86zM5.41 20L4 18.59l7.72-7.72 1.47 1.35L5.41 20z\"/>\n",
              "  </svg>\n",
              "      </button>\n",
              "      \n",
              "  <style>\n",
              "    .colab-df-container {\n",
              "      display:flex;\n",
              "      flex-wrap:wrap;\n",
              "      gap: 12px;\n",
              "    }\n",
              "\n",
              "    .colab-df-convert {\n",
              "      background-color: #E8F0FE;\n",
              "      border: none;\n",
              "      border-radius: 50%;\n",
              "      cursor: pointer;\n",
              "      display: none;\n",
              "      fill: #1967D2;\n",
              "      height: 32px;\n",
              "      padding: 0 0 0 0;\n",
              "      width: 32px;\n",
              "    }\n",
              "\n",
              "    .colab-df-convert:hover {\n",
              "      background-color: #E2EBFA;\n",
              "      box-shadow: 0px 1px 2px rgba(60, 64, 67, 0.3), 0px 1px 3px 1px rgba(60, 64, 67, 0.15);\n",
              "      fill: #174EA6;\n",
              "    }\n",
              "\n",
              "    [theme=dark] .colab-df-convert {\n",
              "      background-color: #3B4455;\n",
              "      fill: #D2E3FC;\n",
              "    }\n",
              "\n",
              "    [theme=dark] .colab-df-convert:hover {\n",
              "      background-color: #434B5C;\n",
              "      box-shadow: 0px 1px 3px 1px rgba(0, 0, 0, 0.15);\n",
              "      filter: drop-shadow(0px 1px 2px rgba(0, 0, 0, 0.3));\n",
              "      fill: #FFFFFF;\n",
              "    }\n",
              "  </style>\n",
              "\n",
              "      <script>\n",
              "        const buttonEl =\n",
              "          document.querySelector('#df-113de7a6-161a-4a27-bf32-dea2a78df5a3 button.colab-df-convert');\n",
              "        buttonEl.style.display =\n",
              "          google.colab.kernel.accessAllowed ? 'block' : 'none';\n",
              "\n",
              "        async function convertToInteractive(key) {\n",
              "          const element = document.querySelector('#df-113de7a6-161a-4a27-bf32-dea2a78df5a3');\n",
              "          const dataTable =\n",
              "            await google.colab.kernel.invokeFunction('convertToInteractive',\n",
              "                                                     [key], {});\n",
              "          if (!dataTable) return;\n",
              "\n",
              "          const docLinkHtml = 'Like what you see? Visit the ' +\n",
              "            '<a target=\"_blank\" href=https://colab.research.google.com/notebooks/data_table.ipynb>data table notebook</a>'\n",
              "            + ' to learn more about interactive tables.';\n",
              "          element.innerHTML = '';\n",
              "          dataTable['output_type'] = 'display_data';\n",
              "          await google.colab.output.renderOutput(dataTable, element);\n",
              "          const docLink = document.createElement('div');\n",
              "          docLink.innerHTML = docLinkHtml;\n",
              "          element.appendChild(docLink);\n",
              "        }\n",
              "      </script>\n",
              "    </div>\n",
              "  </div>\n",
              "  "
            ]
          },
          "metadata": {},
          "execution_count": 6
        }
      ],
      "source": [
        "# Loading the data\n",
        "df"
      ]
    },
    {
      "cell_type": "markdown",
      "source": [
        "## Preprocessing\n",
        "  - Getting rid of null values\n",
        "  - Getting rid unnessecary rows\n",
        "  - Sampling of 10,000 random rows"
      ],
      "metadata": {
        "id": "hWPC2zEf2BWz"
      }
    },
    {
      "cell_type": "code",
      "execution_count": null,
      "metadata": {
        "colab": {
          "base_uri": "https://localhost:8080/"
        },
        "id": "NZHSXrZeXN2h",
        "outputId": "26026837-e739-42a8-bfcc-edf2c7398c90"
      },
      "outputs": [
        {
          "output_type": "execute_result",
          "data": {
            "text/plain": [
              "Wireless      8991479\n",
              "2009-03-23          2\n",
              "2010-04-07          2\n",
              "2010-03-20          2\n",
              "2010-09-08          2\n",
              "               ...   \n",
              "2011-05-23          1\n",
              "2011-05-25          1\n",
              "2011-06-20          1\n",
              "2011-07-28          1\n",
              "2008-11-18          1\n",
              "Name: product_category, Length: 103, dtype: int64"
            ]
          },
          "metadata": {},
          "execution_count": 6
        }
      ],
      "source": [
        "# Looking at the value counts in the product category column\n",
        "# Need only the 'wireless' values\n",
        "df['product_category'].value_counts()"
      ]
    },
    {
      "cell_type": "code",
      "execution_count": null,
      "metadata": {
        "colab": {
          "base_uri": "https://localhost:8080/"
        },
        "id": "kT0_hwqvXN2j",
        "outputId": "dde23692-dc86-41f5-cec0-80c28aaefbbd"
      },
      "outputs": [
        {
          "output_type": "stream",
          "name": "stdout",
          "text": [
            "<class 'pandas.core.frame.DataFrame'>\n",
            "RangeIndex: 8991589 entries, 0 to 8991588\n",
            "Data columns (total 15 columns):\n",
            " #   Column             Dtype  \n",
            "---  ------             -----  \n",
            " 0   marketplace        object \n",
            " 1   customer_id        int64  \n",
            " 2   review_id          object \n",
            " 3   product_id         object \n",
            " 4   product_parent     int64  \n",
            " 5   product_title      object \n",
            " 6   product_category   object \n",
            " 7   star_rating        object \n",
            " 8   helpful_votes      float64\n",
            " 9   total_votes        float64\n",
            " 10  vine               object \n",
            " 11  verified_purchase  object \n",
            " 12  review_headline    object \n",
            " 13  review_body        object \n",
            " 14  review_date        object \n",
            "dtypes: float64(2), int64(2), object(11)\n",
            "memory usage: 1.0+ GB\n"
          ]
        }
      ],
      "source": [
        "# Looking at the dtype of the columns\n",
        "df.info()"
      ]
    },
    {
      "cell_type": "code",
      "execution_count": 7,
      "metadata": {
        "id": "b6WnEz_SXN2k"
      },
      "outputs": [],
      "source": [
        "# Only including the 'wireless' values for the product_category column\n",
        "df = df[df['product_category'].str.contains('Wireless')]"
      ]
    },
    {
      "cell_type": "code",
      "execution_count": null,
      "metadata": {
        "colab": {
          "base_uri": "https://localhost:8080/"
        },
        "id": "DKP0g6E-XN2n",
        "outputId": "8f2df31a-d621-438a-8729-5f6661e5339f"
      },
      "outputs": [
        {
          "output_type": "execute_result",
          "data": {
            "text/plain": [
              "marketplace            0\n",
              "customer_id            0\n",
              "review_id              0\n",
              "product_id             0\n",
              "product_parent         0\n",
              "product_title          0\n",
              "product_category       0\n",
              "star_rating            0\n",
              "helpful_votes          0\n",
              "total_votes            0\n",
              "vine                   0\n",
              "verified_purchase      0\n",
              "review_headline       90\n",
              "review_body          538\n",
              "review_date           41\n",
              "dtype: int64"
            ]
          },
          "metadata": {},
          "execution_count": 12
        }
      ],
      "source": [
        "# Looking for null values\n",
        "df.isna().sum()"
      ]
    },
    {
      "cell_type": "code",
      "execution_count": 9,
      "metadata": {
        "id": "fSOBKwq1XN2p"
      },
      "outputs": [],
      "source": [
        "# Dropped all null values\n",
        "df.dropna(subset = ['review_body'], inplace=True)\n",
        "df.dropna(subset = ['review_headline'], inplace=True)\n",
        "df.dropna(subset = ['review_date'], inplace=True)"
      ]
    },
    {
      "cell_type": "code",
      "execution_count": 12,
      "metadata": {
        "colab": {
          "base_uri": "https://localhost:8080/",
          "height": 867
        },
        "id": "upygaqARXN2x",
        "outputId": "81e6db4f-748b-4e68-89fc-dfc2939ac614"
      },
      "outputs": [
        {
          "output_type": "execute_result",
          "data": {
            "text/plain": [
              "        marketplace  ...  review_date\n",
              "3459164          US  ...   2014-11-21\n",
              "5188743          US  ...   2014-04-17\n",
              "3320459          US  ...   2014-12-04\n",
              "5836236          US  ...   2013-12-30\n",
              "3670429          US  ...   2014-10-30\n",
              "...             ...  ...          ...\n",
              "7952753          US  ...   2012-08-17\n",
              "5244670          US  ...   2014-04-06\n",
              "1183774          US  ...   2015-05-25\n",
              "6999396          US  ...   2013-04-29\n",
              "1577026          US  ...   2015-04-20\n",
              "\n",
              "[10000 rows x 15 columns]"
            ],
            "text/html": [
              "\n",
              "  <div id=\"df-93d8a79e-bc5a-4c88-a8f7-460c0bddf1c3\">\n",
              "    <div class=\"colab-df-container\">\n",
              "      <div>\n",
              "<style scoped>\n",
              "    .dataframe tbody tr th:only-of-type {\n",
              "        vertical-align: middle;\n",
              "    }\n",
              "\n",
              "    .dataframe tbody tr th {\n",
              "        vertical-align: top;\n",
              "    }\n",
              "\n",
              "    .dataframe thead th {\n",
              "        text-align: right;\n",
              "    }\n",
              "</style>\n",
              "<table border=\"1\" class=\"dataframe\">\n",
              "  <thead>\n",
              "    <tr style=\"text-align: right;\">\n",
              "      <th></th>\n",
              "      <th>marketplace</th>\n",
              "      <th>customer_id</th>\n",
              "      <th>review_id</th>\n",
              "      <th>product_id</th>\n",
              "      <th>product_parent</th>\n",
              "      <th>product_title</th>\n",
              "      <th>product_category</th>\n",
              "      <th>star_rating</th>\n",
              "      <th>helpful_votes</th>\n",
              "      <th>total_votes</th>\n",
              "      <th>vine</th>\n",
              "      <th>verified_purchase</th>\n",
              "      <th>review_headline</th>\n",
              "      <th>review_body</th>\n",
              "      <th>review_date</th>\n",
              "    </tr>\n",
              "  </thead>\n",
              "  <tbody>\n",
              "    <tr>\n",
              "      <th>3459164</th>\n",
              "      <td>US</td>\n",
              "      <td>45111270</td>\n",
              "      <td>R24Y40PFGXPABC</td>\n",
              "      <td>B00H7KO4LM</td>\n",
              "      <td>320593273</td>\n",
              "      <td>Gym Workout Sports Armband Strap for Apple iPo...</td>\n",
              "      <td>Wireless</td>\n",
              "      <td>5</td>\n",
              "      <td>0.0</td>\n",
              "      <td>0.0</td>\n",
              "      <td>N</td>\n",
              "      <td>Y</td>\n",
              "      <td>Five Stars</td>\n",
              "      <td>great price...but band wears out and loses it ...</td>\n",
              "      <td>2014-11-21</td>\n",
              "    </tr>\n",
              "    <tr>\n",
              "      <th>5188743</th>\n",
              "      <td>US</td>\n",
              "      <td>21553839</td>\n",
              "      <td>R176X2J5LVA396</td>\n",
              "      <td>B003ZBZ64Q</td>\n",
              "      <td>355647540</td>\n",
              "      <td>External Battery, New Trent iCarrier 12000mAh ...</td>\n",
              "      <td>Wireless</td>\n",
              "      <td>5</td>\n",
              "      <td>0.0</td>\n",
              "      <td>0.0</td>\n",
              "      <td>N</td>\n",
              "      <td>N</td>\n",
              "      <td>Great portable power!</td>\n",
              "      <td>I bought this product specifically for a week ...</td>\n",
              "      <td>2014-04-17</td>\n",
              "    </tr>\n",
              "    <tr>\n",
              "      <th>3320459</th>\n",
              "      <td>US</td>\n",
              "      <td>34618560</td>\n",
              "      <td>R3E4Q4EGG64G2Z</td>\n",
              "      <td>B00MAWQPJQ</td>\n",
              "      <td>481664990</td>\n",
              "      <td>Galaxy Note 4 Case, Slim Armor Case for Note 4</td>\n",
              "      <td>Wireless</td>\n",
              "      <td>5</td>\n",
              "      <td>0.0</td>\n",
              "      <td>0.0</td>\n",
              "      <td>N</td>\n",
              "      <td>Y</td>\n",
              "      <td>Tough armor is not so great. This case is better</td>\n",
              "      <td>This one fits very well and has suffered a few...</td>\n",
              "      <td>2014-12-04</td>\n",
              "    </tr>\n",
              "    <tr>\n",
              "      <th>5836236</th>\n",
              "      <td>US</td>\n",
              "      <td>10631348</td>\n",
              "      <td>R1K14I596V0ZBW</td>\n",
              "      <td>B00CZ151K6</td>\n",
              "      <td>953952518</td>\n",
              "      <td>Doctor Who Tardis Police Box Hard Snap on Case...</td>\n",
              "      <td>Wireless</td>\n",
              "      <td>5</td>\n",
              "      <td>0.0</td>\n",
              "      <td>0.0</td>\n",
              "      <td>N</td>\n",
              "      <td>Y</td>\n",
              "      <td>Amazing</td>\n",
              "      <td>I am a huge fan of the show and this is one of...</td>\n",
              "      <td>2013-12-30</td>\n",
              "    </tr>\n",
              "    <tr>\n",
              "      <th>3670429</th>\n",
              "      <td>US</td>\n",
              "      <td>39526799</td>\n",
              "      <td>R2T0PNYJNK20OR</td>\n",
              "      <td>B00JH88GB6</td>\n",
              "      <td>742767901</td>\n",
              "      <td>Spigen Slim Armor iPhone 6 Case with Air Cushi...</td>\n",
              "      <td>Wireless</td>\n",
              "      <td>5</td>\n",
              "      <td>0.0</td>\n",
              "      <td>0.0</td>\n",
              "      <td>N</td>\n",
              "      <td>Y</td>\n",
              "      <td>Five Stars</td>\n",
              "      <td>Everything fine</td>\n",
              "      <td>2014-10-30</td>\n",
              "    </tr>\n",
              "    <tr>\n",
              "      <th>...</th>\n",
              "      <td>...</td>\n",
              "      <td>...</td>\n",
              "      <td>...</td>\n",
              "      <td>...</td>\n",
              "      <td>...</td>\n",
              "      <td>...</td>\n",
              "      <td>...</td>\n",
              "      <td>...</td>\n",
              "      <td>...</td>\n",
              "      <td>...</td>\n",
              "      <td>...</td>\n",
              "      <td>...</td>\n",
              "      <td>...</td>\n",
              "      <td>...</td>\n",
              "      <td>...</td>\n",
              "    </tr>\n",
              "    <tr>\n",
              "      <th>7952753</th>\n",
              "      <td>US</td>\n",
              "      <td>35143498</td>\n",
              "      <td>R2N6AM022CSIXF</td>\n",
              "      <td>B007IP3KKC</td>\n",
              "      <td>737702804</td>\n",
              "      <td>LG Lucid 4G (Verizon) Premium Combo Pack - Wal...</td>\n",
              "      <td>Wireless</td>\n",
              "      <td>4</td>\n",
              "      <td>1.0</td>\n",
              "      <td>1.0</td>\n",
              "      <td>N</td>\n",
              "      <td>Y</td>\n",
              "      <td>Lucid chargers</td>\n",
              "      <td>perfect package at very reasonable price.  ini...</td>\n",
              "      <td>2012-08-17</td>\n",
              "    </tr>\n",
              "    <tr>\n",
              "      <th>5244670</th>\n",
              "      <td>US</td>\n",
              "      <td>2813891</td>\n",
              "      <td>RK4LBFHJ04F1D</td>\n",
              "      <td>B00GPD935E</td>\n",
              "      <td>400002023</td>\n",
              "      <td>Generic iPhone 5C Armor Slim Case Heavy Duty C...</td>\n",
              "      <td>Wireless</td>\n",
              "      <td>5</td>\n",
              "      <td>0.0</td>\n",
              "      <td>0.0</td>\n",
              "      <td>N</td>\n",
              "      <td>Y</td>\n",
              "      <td>iPhone case</td>\n",
              "      <td>The iPhone case is really cool and the picture...</td>\n",
              "      <td>2014-04-06</td>\n",
              "    </tr>\n",
              "    <tr>\n",
              "      <th>1183774</th>\n",
              "      <td>US</td>\n",
              "      <td>25003818</td>\n",
              "      <td>R2VRPGXUX1KIF1</td>\n",
              "      <td>B00SXNVXPM</td>\n",
              "      <td>896926468</td>\n",
              "      <td>Car Mount, Ramkon Magnetic Universal Air Vent ...</td>\n",
              "      <td>Wireless</td>\n",
              "      <td>5</td>\n",
              "      <td>0.0</td>\n",
              "      <td>0.0</td>\n",
              "      <td>N</td>\n",
              "      <td>N</td>\n",
              "      <td>Nice addition to my car</td>\n",
              "      <td>Great cell phone holder I was really surprised...</td>\n",
              "      <td>2015-05-25</td>\n",
              "    </tr>\n",
              "    <tr>\n",
              "      <th>6999396</th>\n",
              "      <td>US</td>\n",
              "      <td>12816711</td>\n",
              "      <td>R2EIMVR5T53K9C</td>\n",
              "      <td>B007K6DTUU</td>\n",
              "      <td>770777604</td>\n",
              "      <td>Amzer AMZ93528 Shellster Case Cover for Apple ...</td>\n",
              "      <td>Wireless</td>\n",
              "      <td>4.0</td>\n",
              "      <td>1.0</td>\n",
              "      <td>1.0</td>\n",
              "      <td>N</td>\n",
              "      <td>Y</td>\n",
              "      <td>Great fit and slim too</td>\n",
              "      <td>Fits the Ipod touch great and is a versatile h...</td>\n",
              "      <td>2013-04-29</td>\n",
              "    </tr>\n",
              "    <tr>\n",
              "      <th>1577026</th>\n",
              "      <td>US</td>\n",
              "      <td>15732021</td>\n",
              "      <td>R390HFF1002B77</td>\n",
              "      <td>B00O5ZNMB0</td>\n",
              "      <td>409530303</td>\n",
              "      <td>oneBuyone Bundle of 5 Extra long(6 feet/2m) Ny...</td>\n",
              "      <td>Wireless</td>\n",
              "      <td>1</td>\n",
              "      <td>0.0</td>\n",
              "      <td>0.0</td>\n",
              "      <td>N</td>\n",
              "      <td>Y</td>\n",
              "      <td>One of them has already broken after a couple ...</td>\n",
              "      <td>One of them has already broken after a couple ...</td>\n",
              "      <td>2015-04-20</td>\n",
              "    </tr>\n",
              "  </tbody>\n",
              "</table>\n",
              "<p>10000 rows × 15 columns</p>\n",
              "</div>\n",
              "      <button class=\"colab-df-convert\" onclick=\"convertToInteractive('df-93d8a79e-bc5a-4c88-a8f7-460c0bddf1c3')\"\n",
              "              title=\"Convert this dataframe to an interactive table.\"\n",
              "              style=\"display:none;\">\n",
              "        \n",
              "  <svg xmlns=\"http://www.w3.org/2000/svg\" height=\"24px\"viewBox=\"0 0 24 24\"\n",
              "       width=\"24px\">\n",
              "    <path d=\"M0 0h24v24H0V0z\" fill=\"none\"/>\n",
              "    <path d=\"M18.56 5.44l.94 2.06.94-2.06 2.06-.94-2.06-.94-.94-2.06-.94 2.06-2.06.94zm-11 1L8.5 8.5l.94-2.06 2.06-.94-2.06-.94L8.5 2.5l-.94 2.06-2.06.94zm10 10l.94 2.06.94-2.06 2.06-.94-2.06-.94-.94-2.06-.94 2.06-2.06.94z\"/><path d=\"M17.41 7.96l-1.37-1.37c-.4-.4-.92-.59-1.43-.59-.52 0-1.04.2-1.43.59L10.3 9.45l-7.72 7.72c-.78.78-.78 2.05 0 2.83L4 21.41c.39.39.9.59 1.41.59.51 0 1.02-.2 1.41-.59l7.78-7.78 2.81-2.81c.8-.78.8-2.07 0-2.86zM5.41 20L4 18.59l7.72-7.72 1.47 1.35L5.41 20z\"/>\n",
              "  </svg>\n",
              "      </button>\n",
              "      \n",
              "  <style>\n",
              "    .colab-df-container {\n",
              "      display:flex;\n",
              "      flex-wrap:wrap;\n",
              "      gap: 12px;\n",
              "    }\n",
              "\n",
              "    .colab-df-convert {\n",
              "      background-color: #E8F0FE;\n",
              "      border: none;\n",
              "      border-radius: 50%;\n",
              "      cursor: pointer;\n",
              "      display: none;\n",
              "      fill: #1967D2;\n",
              "      height: 32px;\n",
              "      padding: 0 0 0 0;\n",
              "      width: 32px;\n",
              "    }\n",
              "\n",
              "    .colab-df-convert:hover {\n",
              "      background-color: #E2EBFA;\n",
              "      box-shadow: 0px 1px 2px rgba(60, 64, 67, 0.3), 0px 1px 3px 1px rgba(60, 64, 67, 0.15);\n",
              "      fill: #174EA6;\n",
              "    }\n",
              "\n",
              "    [theme=dark] .colab-df-convert {\n",
              "      background-color: #3B4455;\n",
              "      fill: #D2E3FC;\n",
              "    }\n",
              "\n",
              "    [theme=dark] .colab-df-convert:hover {\n",
              "      background-color: #434B5C;\n",
              "      box-shadow: 0px 1px 3px 1px rgba(0, 0, 0, 0.15);\n",
              "      filter: drop-shadow(0px 1px 2px rgba(0, 0, 0, 0.3));\n",
              "      fill: #FFFFFF;\n",
              "    }\n",
              "  </style>\n",
              "\n",
              "      <script>\n",
              "        const buttonEl =\n",
              "          document.querySelector('#df-93d8a79e-bc5a-4c88-a8f7-460c0bddf1c3 button.colab-df-convert');\n",
              "        buttonEl.style.display =\n",
              "          google.colab.kernel.accessAllowed ? 'block' : 'none';\n",
              "\n",
              "        async function convertToInteractive(key) {\n",
              "          const element = document.querySelector('#df-93d8a79e-bc5a-4c88-a8f7-460c0bddf1c3');\n",
              "          const dataTable =\n",
              "            await google.colab.kernel.invokeFunction('convertToInteractive',\n",
              "                                                     [key], {});\n",
              "          if (!dataTable) return;\n",
              "\n",
              "          const docLinkHtml = 'Like what you see? Visit the ' +\n",
              "            '<a target=\"_blank\" href=https://colab.research.google.com/notebooks/data_table.ipynb>data table notebook</a>'\n",
              "            + ' to learn more about interactive tables.';\n",
              "          element.innerHTML = '';\n",
              "          dataTable['output_type'] = 'display_data';\n",
              "          await google.colab.output.renderOutput(dataTable, element);\n",
              "          const docLink = document.createElement('div');\n",
              "          docLink.innerHTML = docLinkHtml;\n",
              "          element.appendChild(docLink);\n",
              "        }\n",
              "      </script>\n",
              "    </div>\n",
              "  </div>\n",
              "  "
            ]
          },
          "metadata": {},
          "execution_count": 12
        }
      ],
      "source": [
        "# Sampled 10,000 values at random\n",
        "onemill_df = df.sample(10000, random_state=42)\n",
        "onemill_df"
      ]
    },
    {
      "cell_type": "code",
      "execution_count": 13,
      "metadata": {
        "colab": {
          "base_uri": "https://localhost:8080/"
        },
        "id": "pvh1DTPJXN2x",
        "outputId": "7a97180a-fad4-4c3d-c61e-6af76befb678"
      },
      "outputs": [
        {
          "output_type": "stream",
          "name": "stdout",
          "text": [
            "['i', 'me', 'my', 'myself', 'we', 'our', 'ours', 'ourselves', 'you', \"you're\", \"you've\", \"you'll\", \"you'd\", 'your', 'yours', 'yourself', 'yourselves', 'he', 'him', 'his', 'himself', 'she', \"she's\", 'her', 'hers', 'herself', 'it', \"it's\", 'its', 'itself', 'they', 'them', 'their', 'theirs', 'themselves', 'what', 'which', 'who', 'whom', 'this', 'that', \"that'll\", 'these', 'those', 'am', 'is', 'are', 'was', 'were', 'be', 'been', 'being', 'have', 'has', 'had', 'having', 'do', 'does', 'did', 'doing', 'a', 'an', 'the', 'and', 'but', 'if', 'or', 'because', 'as', 'until', 'while', 'of', 'at', 'by', 'for', 'with', 'about', 'against', 'between', 'into', 'through', 'during', 'before', 'after', 'above', 'below', 'to', 'from', 'up', 'down', 'in', 'out', 'on', 'off', 'over', 'under', 'again', 'further', 'then', 'once', 'here', 'there', 'when', 'where', 'why', 'how', 'all', 'any', 'both', 'each', 'few', 'more', 'most', 'other', 'some', 'such', 'no', 'nor', 'not', 'only', 'own', 'same', 'so', 'than', 'too', 'very', 's', 't', 'can', 'will', 'just', 'don', \"don't\", 'should', \"should've\", 'now', 'd', 'll', 'm', 'o', 're', 've', 'y', 'ain', 'aren', \"aren't\", 'couldn', \"couldn't\", 'didn', \"didn't\", 'doesn', \"doesn't\", 'hadn', \"hadn't\", 'hasn', \"hasn't\", 'haven', \"haven't\", 'isn', \"isn't\", 'ma', 'mightn', \"mightn't\", 'mustn', \"mustn't\", 'needn', \"needn't\", 'shan', \"shan't\", 'shouldn', \"shouldn't\", 'wasn', \"wasn't\", 'weren', \"weren't\", 'won', \"won't\", 'wouldn', \"wouldn't\"]\n"
          ]
        }
      ],
      "source": [
        "# Checking the stop words\n",
        "stop_words = stopwords.words('english')\n",
        "print(stop_words)"
      ]
    },
    {
      "cell_type": "code",
      "execution_count": 15,
      "metadata": {
        "id": "O-qnB6uMXN2z"
      },
      "outputs": [],
      "source": [
        "# Coverting the star_rating column from an object to an integer\n",
        "onemill_df['star_rating'] = onemill_df['star_rating'].astype(int)"
      ]
    },
    {
      "cell_type": "code",
      "execution_count": 17,
      "metadata": {
        "colab": {
          "base_uri": "https://localhost:8080/",
          "height": 467
        },
        "id": "seSR0LiCXN21",
        "outputId": "8ebed846-1b8d-4a3e-c1b4-13d32d4c8d80"
      },
      "outputs": [
        {
          "output_type": "execute_result",
          "data": {
            "text/plain": [
              "<Axes: xlabel='star_rating', ylabel='count'>"
            ]
          },
          "metadata": {},
          "execution_count": 17
        },
        {
          "output_type": "display_data",
          "data": {
            "text/plain": [
              "<Figure size 640x480 with 1 Axes>"
            ],
            "image/png": "[encoded data removed]"
          },
          "metadata": {}
        }
      ],
      "source": [
        "# Checking the counts of ech value in the star_rating column\n",
        "# Seems to be a class imbalance\n",
        "sns.countplot(x='star_rating', data=onemill_df)"
      ]
    },
    {
      "cell_type": "markdown",
      "source": [
        "## Preparation\n",
        "  - Word tokenization\n",
        "  - Getting rid of stopwords\n",
        "  - Lowercasing all text\n",
        "  - Snowball stemmer\n",
        "  - TFIDF Vectorization "
      ],
      "metadata": {
        "id": "zSOiNJNQ2WqH"
      }
    },
    {
      "cell_type": "code",
      "execution_count": 18,
      "metadata": {
        "id": "KbAwEDuEXN29"
      },
      "outputs": [],
      "source": [
        "# Splitting all the sentences into words in the reviews\n",
        "corpus = [word_tokenize(text) for text in onemill_df['review_body']]"
      ]
    },
    {
      "cell_type": "code",
      "execution_count": 19,
      "metadata": {
        "colab": {
          "base_uri": "https://localhost:8080/"
        },
        "id": "enuorY4-XN2-",
        "outputId": "5bb4d623-feeb-4ac0-c61e-83477669ebe5"
      },
      "outputs": [
        {
          "output_type": "stream",
          "name": "stdout",
          "text": [
            "['great', 'price', '...', 'but', 'band', 'wears', 'out', 'and', 'loses', 'it', 'lasticity', 'very', 'easy']\n"
          ]
        }
      ],
      "source": [
        "# Getting the first review split up\n",
        "print(corpus[0])"
      ]
    },
    {
      "cell_type": "code",
      "execution_count": 20,
      "metadata": {
        "colab": {
          "base_uri": "https://localhost:8080/"
        },
        "id": "oAOtj487XN2-",
        "outputId": "40d5154a-1788-4760-9377-c4bfd0a0f273"
      },
      "outputs": [
        {
          "output_type": "stream",
          "name": "stdout",
          "text": [
            "(594418,)\n",
            "20912\n"
          ]
        }
      ],
      "source": [
        "# Flattening the tokenized words so that it can be taken in by the models\n",
        "flatten_corpus = pd.Series(list(itertools.chain(*corpus)))\n",
        "print(flatten_corpus.shape)\n",
        "print(len(flatten_corpus.unique()))"
      ]
    },
    {
      "cell_type": "code",
      "execution_count": 21,
      "metadata": {
        "colab": {
          "base_uri": "https://localhost:8080/"
        },
        "id": "vWEvfD2GXN2_",
        "outputId": "aebd6ee4-0d4e-43ef-fc26-ed96372bae12"
      },
      "outputs": [
        {
          "output_type": "execute_result",
          "data": {
            "text/plain": [
              ".                 28575\n",
              "the               23845\n",
              "I                 16591\n",
              ",                 15369\n",
              "it                13856\n",
              "                  ...  \n",
              "marcas                1\n",
              "preferidas            1\n",
              "disaster-proof        1\n",
              "rubbeer               1\n",
              "embarrassing          1\n",
              "Length: 20912, dtype: int64"
            ]
          },
          "metadata": {},
          "execution_count": 21
        }
      ],
      "source": [
        "# Checking the most common words or symbols\n",
        "# We need to get rid of these periods an commas\n",
        "flatten_corpus.value_counts()"
      ]
    },
    {
      "cell_type": "code",
      "execution_count": 22,
      "metadata": {
        "colab": {
          "base_uri": "https://localhost:8080/"
        },
        "id": "2l-NjWGjXN3A",
        "outputId": "50d454bf-7985-44bb-f199-037b9e76906c"
      },
      "outputs": [
        {
          "output_type": "execute_result",
          "data": {
            "text/plain": [
              "10840"
            ]
          },
          "metadata": {},
          "execution_count": 22
        }
      ],
      "source": [
        "# Checking how many words only occur once in the whole data\n",
        "# Those words are not that important so it's better tot delete them\n",
        "(flatten_corpus.value_counts() == 1).sum()"
      ]
    },
    {
      "cell_type": "code",
      "execution_count": 23,
      "metadata": {
        "id": "H-ThIlpAXN3A"
      },
      "outputs": [],
      "source": [
        "# Getting the unique values from the corpus and making them into a dicti value\n",
        "dicti = pd.Series(flatten_corpus.unique())"
      ]
    },
    {
      "cell_type": "code",
      "execution_count": 24,
      "metadata": {
        "colab": {
          "base_uri": "https://localhost:8080/"
        },
        "id": "xeKV-VNmXN3B",
        "outputId": "3307a209-9d68-44a6-918f-ec481bfb80f4"
      },
      "outputs": [
        {
          "output_type": "execute_result",
          "data": {
            "text/plain": [
              "137         6\n",
              "140         4\n",
              "207         3\n",
              "302         2\n",
              "323        34\n",
              "         ... \n",
              "20426     906\n",
              "20451    2400\n",
              "20575     168\n",
              "20595    6035\n",
              "20677    3595\n",
              "Length: 278, dtype: object"
            ]
          },
          "metadata": {},
          "execution_count": 24
        }
      ],
      "source": [
        "# Checking for numeric values and we might need to get rid of them\n",
        "dicti[dicti.str.isnumeric()]"
      ]
    },
    {
      "cell_type": "code",
      "execution_count": 25,
      "metadata": {
        "id": "AzPgc3d8XN3C"
      },
      "outputs": [],
      "source": [
        "# Lower casing and getting rid of all the stop words to make the models less complex\n",
        "def normalizer(doc):\n",
        "    lower_text = [x.lower() for x in word_tokenize(doc) if ((x.isalpha()) & (x not in stop_words))]\n",
        "    return lower_text"
      ]
    },
    {
      "cell_type": "code",
      "execution_count": 26,
      "metadata": {
        "colab": {
          "base_uri": "https://localhost:8080/",
          "height": 1000
        },
        "id": "B-HsslLbXN3C",
        "outputId": "2b3d560e-747f-4e37-b8ca-cae238bb1615"
      },
      "outputs": [
        {
          "output_type": "execute_result",
          "data": {
            "text/plain": [
              "        marketplace  ...                                          lowercase\n",
              "3459164          US  ...  [great, price, band, wears, loses, lasticity, ...\n",
              "5188743          US  ...  [i, bought, product, specifically, week, long,...\n",
              "3320459          US  ...  [this, one, fits, well, suffered, drops, witho...\n",
              "5836236          US  ...  [i, huge, fan, show, one, best, things, add, e...\n",
              "3670429          US  ...                                 [everything, fine]\n",
              "...             ...  ...                                                ...\n",
              "7952753          US  ...  [perfect, package, reasonable, price, initial,...\n",
              "5244670          US  ...  [the, iphone, case, really, cool, picture, gal...\n",
              "1183774          US  ...  [great, cell, phone, holder, i, really, surpri...\n",
              "6999396          US  ...  [fits, ipod, touch, great, versatile, holder, ...\n",
              "1577026          US  ...  [one, already, broken, couple, weeks, the, con...\n",
              "\n",
              "[10000 rows x 16 columns]"
            ],
            "text/html": [
              "\n",
              "  <div id=\"df-a890bb37-7ef9-4e00-bf54-5db22a32564f\">\n",
              "    <div class=\"colab-df-container\">\n",
              "      <div>\n",
              "<style scoped>\n",
              "    .dataframe tbody tr th:only-of-type {\n",
              "        vertical-align: middle;\n",
              "    }\n",
              "\n",
              "    .dataframe tbody tr th {\n",
              "        vertical-align: top;\n",
              "    }\n",
              "\n",
              "    .dataframe thead th {\n",
              "        text-align: right;\n",
              "    }\n",
              "</style>\n",
              "<table border=\"1\" class=\"dataframe\">\n",
              "  <thead>\n",
              "    <tr style=\"text-align: right;\">\n",
              "      <th></th>\n",
              "      <th>marketplace</th>\n",
              "      <th>customer_id</th>\n",
              "      <th>review_id</th>\n",
              "      <th>product_id</th>\n",
              "      <th>product_parent</th>\n",
              "      <th>product_title</th>\n",
              "      <th>product_category</th>\n",
              "      <th>star_rating</th>\n",
              "      <th>helpful_votes</th>\n",
              "      <th>total_votes</th>\n",
              "      <th>vine</th>\n",
              "      <th>verified_purchase</th>\n",
              "      <th>review_headline</th>\n",
              "      <th>review_body</th>\n",
              "      <th>review_date</th>\n",
              "      <th>lowercase</th>\n",
              "    </tr>\n",
              "  </thead>\n",
              "  <tbody>\n",
              "    <tr>\n",
              "      <th>3459164</th>\n",
              "      <td>US</td>\n",
              "      <td>45111270</td>\n",
              "      <td>R24Y40PFGXPABC</td>\n",
              "      <td>B00H7KO4LM</td>\n",
              "      <td>320593273</td>\n",
              "      <td>Gym Workout Sports Armband Strap for Apple iPo...</td>\n",
              "      <td>Wireless</td>\n",
              "      <td>5</td>\n",
              "      <td>0.0</td>\n",
              "      <td>0.0</td>\n",
              "      <td>N</td>\n",
              "      <td>Y</td>\n",
              "      <td>Five Stars</td>\n",
              "      <td>great price...but band wears out and loses it ...</td>\n",
              "      <td>2014-11-21</td>\n",
              "      <td>[great, price, band, wears, loses, lasticity, ...</td>\n",
              "    </tr>\n",
              "    <tr>\n",
              "      <th>5188743</th>\n",
              "      <td>US</td>\n",
              "      <td>21553839</td>\n",
              "      <td>R176X2J5LVA396</td>\n",
              "      <td>B003ZBZ64Q</td>\n",
              "      <td>355647540</td>\n",
              "      <td>External Battery, New Trent iCarrier 12000mAh ...</td>\n",
              "      <td>Wireless</td>\n",
              "      <td>5</td>\n",
              "      <td>0.0</td>\n",
              "      <td>0.0</td>\n",
              "      <td>N</td>\n",
              "      <td>N</td>\n",
              "      <td>Great portable power!</td>\n",
              "      <td>I bought this product specifically for a week ...</td>\n",
              "      <td>2014-04-17</td>\n",
              "      <td>[i, bought, product, specifically, week, long,...</td>\n",
              "    </tr>\n",
              "    <tr>\n",
              "      <th>3320459</th>\n",
              "      <td>US</td>\n",
              "      <td>34618560</td>\n",
              "      <td>R3E4Q4EGG64G2Z</td>\n",
              "      <td>B00MAWQPJQ</td>\n",
              "      <td>481664990</td>\n",
              "      <td>Galaxy Note 4 Case, Slim Armor Case for Note 4</td>\n",
              "      <td>Wireless</td>\n",
              "      <td>5</td>\n",
              "      <td>0.0</td>\n",
              "      <td>0.0</td>\n",
              "      <td>N</td>\n",
              "      <td>Y</td>\n",
              "      <td>Tough armor is not so great. This case is better</td>\n",
              "      <td>This one fits very well and has suffered a few...</td>\n",
              "      <td>2014-12-04</td>\n",
              "      <td>[this, one, fits, well, suffered, drops, witho...</td>\n",
              "    </tr>\n",
              "    <tr>\n",
              "      <th>5836236</th>\n",
              "      <td>US</td>\n",
              "      <td>10631348</td>\n",
              "      <td>R1K14I596V0ZBW</td>\n",
              "      <td>B00CZ151K6</td>\n",
              "      <td>953952518</td>\n",
              "      <td>Doctor Who Tardis Police Box Hard Snap on Case...</td>\n",
              "      <td>Wireless</td>\n",
              "      <td>5</td>\n",
              "      <td>0.0</td>\n",
              "      <td>0.0</td>\n",
              "      <td>N</td>\n",
              "      <td>Y</td>\n",
              "      <td>Amazing</td>\n",
              "      <td>I am a huge fan of the show and this is one of...</td>\n",
              "      <td>2013-12-30</td>\n",
              "      <td>[i, huge, fan, show, one, best, things, add, e...</td>\n",
              "    </tr>\n",
              "    <tr>\n",
              "      <th>3670429</th>\n",
              "      <td>US</td>\n",
              "      <td>39526799</td>\n",
              "      <td>R2T0PNYJNK20OR</td>\n",
              "      <td>B00JH88GB6</td>\n",
              "      <td>742767901</td>\n",
              "      <td>Spigen Slim Armor iPhone 6 Case with Air Cushi...</td>\n",
              "      <td>Wireless</td>\n",
              "      <td>5</td>\n",
              "      <td>0.0</td>\n",
              "      <td>0.0</td>\n",
              "      <td>N</td>\n",
              "      <td>Y</td>\n",
              "      <td>Five Stars</td>\n",
              "      <td>Everything fine</td>\n",
              "      <td>2014-10-30</td>\n",
              "      <td>[everything, fine]</td>\n",
              "    </tr>\n",
              "    <tr>\n",
              "      <th>...</th>\n",
              "      <td>...</td>\n",
              "      <td>...</td>\n",
              "      <td>...</td>\n",
              "      <td>...</td>\n",
              "      <td>...</td>\n",
              "      <td>...</td>\n",
              "      <td>...</td>\n",
              "      <td>...</td>\n",
              "      <td>...</td>\n",
              "      <td>...</td>\n",
              "      <td>...</td>\n",
              "      <td>...</td>\n",
              "      <td>...</td>\n",
              "      <td>...</td>\n",
              "      <td>...</td>\n",
              "      <td>...</td>\n",
              "    </tr>\n",
              "    <tr>\n",
              "      <th>7952753</th>\n",
              "      <td>US</td>\n",
              "      <td>35143498</td>\n",
              "      <td>R2N6AM022CSIXF</td>\n",
              "      <td>B007IP3KKC</td>\n",
              "      <td>737702804</td>\n",
              "      <td>LG Lucid 4G (Verizon) Premium Combo Pack - Wal...</td>\n",
              "      <td>Wireless</td>\n",
              "      <td>4</td>\n",
              "      <td>1.0</td>\n",
              "      <td>1.0</td>\n",
              "      <td>N</td>\n",
              "      <td>Y</td>\n",
              "      <td>Lucid chargers</td>\n",
              "      <td>perfect package at very reasonable price.  ini...</td>\n",
              "      <td>2012-08-17</td>\n",
              "      <td>[perfect, package, reasonable, price, initial,...</td>\n",
              "    </tr>\n",
              "    <tr>\n",
              "      <th>5244670</th>\n",
              "      <td>US</td>\n",
              "      <td>2813891</td>\n",
              "      <td>RK4LBFHJ04F1D</td>\n",
              "      <td>B00GPD935E</td>\n",
              "      <td>400002023</td>\n",
              "      <td>Generic iPhone 5C Armor Slim Case Heavy Duty C...</td>\n",
              "      <td>Wireless</td>\n",
              "      <td>5</td>\n",
              "      <td>0.0</td>\n",
              "      <td>0.0</td>\n",
              "      <td>N</td>\n",
              "      <td>Y</td>\n",
              "      <td>iPhone case</td>\n",
              "      <td>The iPhone case is really cool and the picture...</td>\n",
              "      <td>2014-04-06</td>\n",
              "      <td>[the, iphone, case, really, cool, picture, gal...</td>\n",
              "    </tr>\n",
              "    <tr>\n",
              "      <th>1183774</th>\n",
              "      <td>US</td>\n",
              "      <td>25003818</td>\n",
              "      <td>R2VRPGXUX1KIF1</td>\n",
              "      <td>B00SXNVXPM</td>\n",
              "      <td>896926468</td>\n",
              "      <td>Car Mount, Ramkon Magnetic Universal Air Vent ...</td>\n",
              "      <td>Wireless</td>\n",
              "      <td>5</td>\n",
              "      <td>0.0</td>\n",
              "      <td>0.0</td>\n",
              "      <td>N</td>\n",
              "      <td>N</td>\n",
              "      <td>Nice addition to my car</td>\n",
              "      <td>Great cell phone holder I was really surprised...</td>\n",
              "      <td>2015-05-25</td>\n",
              "      <td>[great, cell, phone, holder, i, really, surpri...</td>\n",
              "    </tr>\n",
              "    <tr>\n",
              "      <th>6999396</th>\n",
              "      <td>US</td>\n",
              "      <td>12816711</td>\n",
              "      <td>R2EIMVR5T53K9C</td>\n",
              "      <td>B007K6DTUU</td>\n",
              "      <td>770777604</td>\n",
              "      <td>Amzer AMZ93528 Shellster Case Cover for Apple ...</td>\n",
              "      <td>Wireless</td>\n",
              "      <td>4</td>\n",
              "      <td>1.0</td>\n",
              "      <td>1.0</td>\n",
              "      <td>N</td>\n",
              "      <td>Y</td>\n",
              "      <td>Great fit and slim too</td>\n",
              "      <td>Fits the Ipod touch great and is a versatile h...</td>\n",
              "      <td>2013-04-29</td>\n",
              "      <td>[fits, ipod, touch, great, versatile, holder, ...</td>\n",
              "    </tr>\n",
              "    <tr>\n",
              "      <th>1577026</th>\n",
              "      <td>US</td>\n",
              "      <td>15732021</td>\n",
              "      <td>R390HFF1002B77</td>\n",
              "      <td>B00O5ZNMB0</td>\n",
              "      <td>409530303</td>\n",
              "      <td>oneBuyone Bundle of 5 Extra long(6 feet/2m) Ny...</td>\n",
              "      <td>Wireless</td>\n",
              "      <td>1</td>\n",
              "      <td>0.0</td>\n",
              "      <td>0.0</td>\n",
              "      <td>N</td>\n",
              "      <td>Y</td>\n",
              "      <td>One of them has already broken after a couple ...</td>\n",
              "      <td>One of them has already broken after a couple ...</td>\n",
              "      <td>2015-04-20</td>\n",
              "      <td>[one, already, broken, couple, weeks, the, con...</td>\n",
              "    </tr>\n",
              "  </tbody>\n",
              "</table>\n",
              "<p>10000 rows × 16 columns</p>\n",
              "</div>\n",
              "      <button class=\"colab-df-convert\" onclick=\"convertToInteractive('df-a890bb37-7ef9-4e00-bf54-5db22a32564f')\"\n",
              "              title=\"Convert this dataframe to an interactive table.\"\n",
              "              style=\"display:none;\">\n",
              "        \n",
              "  <svg xmlns=\"http://www.w3.org/2000/svg\" height=\"24px\"viewBox=\"0 0 24 24\"\n",
              "       width=\"24px\">\n",
              "    <path d=\"M0 0h24v24H0V0z\" fill=\"none\"/>\n",
              "    <path d=\"M18.56 5.44l.94 2.06.94-2.06 2.06-.94-2.06-.94-.94-2.06-.94 2.06-2.06.94zm-11 1L8.5 8.5l.94-2.06 2.06-.94-2.06-.94L8.5 2.5l-.94 2.06-2.06.94zm10 10l.94 2.06.94-2.06 2.06-.94-2.06-.94-.94-2.06-.94 2.06-2.06.94z\"/><path d=\"M17.41 7.96l-1.37-1.37c-.4-.4-.92-.59-1.43-.59-.52 0-1.04.2-1.43.59L10.3 9.45l-7.72 7.72c-.78.78-.78 2.05 0 2.83L4 21.41c.39.39.9.59 1.41.59.51 0 1.02-.2 1.41-.59l7.78-7.78 2.81-2.81c.8-.78.8-2.07 0-2.86zM5.41 20L4 18.59l7.72-7.72 1.47 1.35L5.41 20z\"/>\n",
              "  </svg>\n",
              "      </button>\n",
              "      \n",
              "  <style>\n",
              "    .colab-df-container {\n",
              "      display:flex;\n",
              "      flex-wrap:wrap;\n",
              "      gap: 12px;\n",
              "    }\n",
              "\n",
              "    .colab-df-convert {\n",
              "      background-color: #E8F0FE;\n",
              "      border: none;\n",
              "      border-radius: 50%;\n",
              "      cursor: pointer;\n",
              "      display: none;\n",
              "      fill: #1967D2;\n",
              "      height: 32px;\n",
              "      padding: 0 0 0 0;\n",
              "      width: 32px;\n",
              "    }\n",
              "\n",
              "    .colab-df-convert:hover {\n",
              "      background-color: #E2EBFA;\n",
              "      box-shadow: 0px 1px 2px rgba(60, 64, 67, 0.3), 0px 1px 3px 1px rgba(60, 64, 67, 0.15);\n",
              "      fill: #174EA6;\n",
              "    }\n",
              "\n",
              "    [theme=dark] .colab-df-convert {\n",
              "      background-color: #3B4455;\n",
              "      fill: #D2E3FC;\n",
              "    }\n",
              "\n",
              "    [theme=dark] .colab-df-convert:hover {\n",
              "      background-color: #434B5C;\n",
              "      box-shadow: 0px 1px 3px 1px rgba(0, 0, 0, 0.15);\n",
              "      filter: drop-shadow(0px 1px 2px rgba(0, 0, 0, 0.3));\n",
              "      fill: #FFFFFF;\n",
              "    }\n",
              "  </style>\n",
              "\n",
              "      <script>\n",
              "        const buttonEl =\n",
              "          document.querySelector('#df-a890bb37-7ef9-4e00-bf54-5db22a32564f button.colab-df-convert');\n",
              "        buttonEl.style.display =\n",
              "          google.colab.kernel.accessAllowed ? 'block' : 'none';\n",
              "\n",
              "        async function convertToInteractive(key) {\n",
              "          const element = document.querySelector('#df-a890bb37-7ef9-4e00-bf54-5db22a32564f');\n",
              "          const dataTable =\n",
              "            await google.colab.kernel.invokeFunction('convertToInteractive',\n",
              "                                                     [key], {});\n",
              "          if (!dataTable) return;\n",
              "\n",
              "          const docLinkHtml = 'Like what you see? Visit the ' +\n",
              "            '<a target=\"_blank\" href=https://colab.research.google.com/notebooks/data_table.ipynb>data table notebook</a>'\n",
              "            + ' to learn more about interactive tables.';\n",
              "          element.innerHTML = '';\n",
              "          dataTable['output_type'] = 'display_data';\n",
              "          await google.colab.output.renderOutput(dataTable, element);\n",
              "          const docLink = document.createElement('div');\n",
              "          docLink.innerHTML = docLinkHtml;\n",
              "          element.appendChild(docLink);\n",
              "        }\n",
              "      </script>\n",
              "    </div>\n",
              "  </div>\n",
              "  "
            ]
          },
          "metadata": {},
          "execution_count": 26
        }
      ],
      "source": [
        "# Applying the normalizer to the dataset as a new column\n",
        "onemill_df['lowercase'] = onemill_df['review_body'].apply(normalizer)\n",
        "onemill_df"
      ]
    },
    {
      "cell_type": "code",
      "execution_count": 27,
      "metadata": {
        "colab": {
          "base_uri": "https://localhost:8080/"
        },
        "id": "DI1kapuJXN3D",
        "outputId": "fc43d787-d099-47dc-f82e-f576793b2a65"
      },
      "outputs": [
        {
          "output_type": "stream",
          "name": "stdout",
          "text": [
            "['great', 'price', 'band', 'wears', 'loses', 'lasticity', 'easy']\n"
          ]
        }
      ],
      "source": [
        "# Looking at the first row of the lowercase column\n",
        "print(onemill_df['lowercase'].iloc[0])"
      ]
    },
    {
      "cell_type": "code",
      "execution_count": 28,
      "metadata": {
        "colab": {
          "base_uri": "https://localhost:8080/"
        },
        "id": "rDEDdpHVXN3E",
        "outputId": "dfb91239-ee82-43f1-b7f8-e0ec7f2c67a9"
      },
      "outputs": [
        {
          "output_type": "stream",
          "name": "stdout",
          "text": [
            "12771\n"
          ]
        }
      ],
      "source": [
        "# Flattening the lower column so that it can be taken in by the models\n",
        "lower_flat = pd.Series(list(itertools.chain(*onemill_df['lowercase'])))\n",
        "new_dict = lower_flat.unique()\n",
        "print(len(new_dict))"
      ]
    },
    {
      "cell_type": "code",
      "execution_count": 29,
      "metadata": {
        "colab": {
          "base_uri": "https://localhost:8080/"
        },
        "id": "wBA7mhZ4XN3G",
        "outputId": "bf9dc1fa-9471-47fa-e0cd-869813290be6",
        "scrolled": true
      },
      "outputs": [
        {
          "output_type": "stream",
          "name": "stdout",
          "text": [
            "20912\n"
          ]
        }
      ],
      "source": [
        "# There are less unique values now compared to before because it went from 20,912 unique values to 12,771 unique values\n",
        "print(len(dicti))"
      ]
    },
    {
      "cell_type": "code",
      "execution_count": 31,
      "metadata": {
        "colab": {
          "base_uri": "https://localhost:8080/"
        },
        "id": "0aRRuN03XN3H",
        "outputId": "e5420d36-31bc-4127-aad4-246eb4e8419b"
      },
      "outputs": [
        {
          "output_type": "stream",
          "name": "stdout",
          "text": [
            "great price band wear lose lastic easi\n"
          ]
        }
      ],
      "source": [
        "# Using snowball stemmer because it takes in shorter words and takes less as long compared to other stemmers and lemmatization\n",
        "snow_stem = SnowballStemmer(language='english')\n",
        "snow_doc = []\n",
        "for index, row in onemill_df.iterrows():\n",
        "    words = ' '.join(row['lowercase'])\n",
        "    words = words.split()\n",
        "    stemmed_words = [snow_stem.stem(word) for word in words]\n",
        "    snow_doc.append(' '.join(stemmed_words))\n",
        "\n",
        "print(snow_doc[0])"
      ]
    },
    {
      "cell_type": "code",
      "execution_count": 32,
      "metadata": {
        "colab": {
          "base_uri": "https://localhost:8080/"
        },
        "id": "HEkQ2GJIXN3J",
        "outputId": "117ed632-1d40-4d95-cc8a-5071fd612a7c"
      },
      "outputs": [
        {
          "output_type": "stream",
          "name": "stdout",
          "text": [
            "i bought product specif week long trip br br i use ever br br it charg fast easi take import part travel br br would recommend anyon look portabl power\n"
          ]
        }
      ],
      "source": [
        "# Printing the second row of the stemmed texts \n",
        "print(snow_doc[1])"
      ]
    },
    {
      "cell_type": "code",
      "execution_count": 33,
      "metadata": {
        "id": "VwgL8wOyXN3K"
      },
      "outputs": [],
      "source": [
        "# Making a new column with the snow doc stemming\n",
        "onemill_df['snow_doc'] = snow_doc"
      ]
    },
    {
      "cell_type": "code",
      "source": [
        "# Set up figure and axes\n",
        "fig, axes = plt.subplots(nrows=5, figsize=(12, 12))\n",
        "\n",
        "# Empty dict to hold words that have already been plotted and their colors\n",
        "plotted_words_and_colors = {}\n",
        "# Establishing color palette to pull from\n",
        "# (If you get an error message about popping from an empty list, increase this #)\n",
        "color_palette = sns.color_palette('cividis', n_colors=38)\n",
        "\n",
        "# Creating a plot for each rating\n",
        "data_by_rating = [y for _, y in onemill_df.groupby('star_rating', as_index=False)]\n",
        "for idx, rating_df in enumerate(data_by_rating):\n",
        "    # Find top 10 words in each rating\n",
        "    all_words_in_rating = rating_df.lowercase.explode()\n",
        "    top_10 = all_words_in_rating.value_counts()[:10]\n",
        "    \n",
        "    # Select appropriate colors, reusing colors if words repeat\n",
        "    colors = []\n",
        "    for word in top_10.index:\n",
        "        if word not in plotted_words_and_colors:\n",
        "            new_color = color_palette.pop(0)\n",
        "            plotted_words_and_colors[word] = new_color\n",
        "        colors.append(plotted_words_and_colors[word])\n",
        "    \n",
        "    # Select axes, plot data, set title\n",
        "    ax = axes[idx]\n",
        "    ax.bar(top_10.index, top_10.values, color=colors)\n",
        "    ax.set_title(str(rating_df.iloc[0].star_rating).title())\n",
        "    \n",
        "fig.tight_layout()"
      ],
      "metadata": {
        "colab": {
          "base_uri": "https://localhost:8080/",
          "height": 1000
        },
        "id": "-rQwN7buSK2d",
        "outputId": "fe92cf6f-2c1f-4c1c-b4bc-dbf49ca7f57b"
      },
      "execution_count": 37,
      "outputs": [
        {
          "output_type": "display_data",
          "data": {
            "text/plain": [
              "<Figure size 1200x1200 with 5 Axes>"
            ],
            "image/png": "[encoded data removed]"
          },
          "metadata": {}
        }
      ]
    },
    {
      "cell_type": "code",
      "source": [
        "# Lowering the classes from 5 to 3\n",
        "dic = {1:0, 2:0, 3:1,4:2,5:2 }"
      ],
      "metadata": {
        "id": "mMexW9bKkIfX"
      },
      "execution_count": 38,
      "outputs": []
    },
    {
      "cell_type": "code",
      "execution_count": 39,
      "metadata": {
        "id": "oKt1vuD6XN3N"
      },
      "outputs": [],
      "source": [
        "# Train test splitting the with the applied dic on the y train\n",
        "X = onemill_df['snow_doc']\n",
        "y = onemill_df['star_rating'].astype(int).map(dic)\n",
        "X_train, X_test, y_train, y_test = train_test_split(X, y, stratify=y, test_size=0.2, random_state=42)"
      ]
    },
    {
      "cell_type": "code",
      "execution_count": 40,
      "metadata": {
        "colab": {
          "base_uri": "https://localhost:8080/"
        },
        "id": "EnnTK4c4XN3O",
        "outputId": "4e7b870a-a11b-4b49-9317-69ad6f95dc0e"
      },
      "outputs": [
        {
          "output_type": "stream",
          "name": "stdout",
          "text": [
            "Vocabulary Size:  452\n"
          ]
        }
      ],
      "source": [
        "# Using a tfidf vectorizer because it takes in the importance of words and not just the counts\n",
        "tfid = TfidfVectorizer(min_df=0.01, max_df=1.)\n",
        "X_train_tf = tfid.fit_transform(X_train)\n",
        "X_test_tf = tfid.transform(X_test)\n",
        "print('Vocabulary Size: ', len(tfid.get_feature_names_out()))"
      ]
    },
    {
      "cell_type": "code",
      "source": [
        "# Reshapping, over sampling, and using tfidf vectorizer for models not in pipeline\n",
        "X_train_reshaped = X_train.values.reshape((-1, 1))\n",
        "y_train_reshaped = y_train.values.reshape((-1, 1))\n",
        "oversampler = RandomOverSampler(random_state=42)\n",
        "X_train_resampled, y_train_resampled = oversampler.fit_resample(X_train_reshaped, y_train_reshaped)\n",
        "vect = TfidfVectorizer(min_df=0.01, max_df=1.)\n",
        "X_train_flattened = np.concatenate(X_train_resampled).ravel().astype(str)\n",
        "X_train_vect = vect.fit_transform(X_train_flattened)\n",
        "X_test_vect = vect.transform(X_test)"
      ],
      "metadata": {
        "id": "bbhLPDOGdsx2"
      },
      "execution_count": 46,
      "outputs": []
    },
    {
      "cell_type": "markdown",
      "source": [
        "## Best Model: Base Logistic Regression Model"
      ],
      "metadata": {
        "id": "ZNG6RrAX14OP"
      }
    },
    {
      "cell_type": "code",
      "source": [
        "# Creating base logitsic regression model and fitting it\n",
        "logregbase = LogisticRegression()\n",
        "logregbase.fit(X_train_vect, y_train_resampled)"
      ],
      "metadata": {
        "colab": {
          "base_uri": "https://localhost:8080/",
          "height": 75
        },
        "id": "HqatJY8YTZs2",
        "outputId": "d522239e-5d32-4f63-8db5-f694da9b9445"
      },
      "execution_count": 47,
      "outputs": [
        {
          "output_type": "execute_result",
          "data": {
            "text/plain": [
              "LogisticRegression()"
            ],
            "text/html": [
              "<style>#sk-container-id-2 {color: black;background-color: white;}#sk-container-id-2 pre{padding: 0;}#sk-container-id-2 div.sk-toggleable {background-color: white;}#sk-container-id-2 label.sk-toggleable__label {cursor: pointer;display: block;width: 100%;margin-bottom: 0;padding: 0.3em;box-sizing: border-box;text-align: center;}#sk-container-id-2 label.sk-toggleable__label-arrow:before {content: \"▸\";float: left;margin-right: 0.25em;color: #696969;}#sk-container-id-2 label.sk-toggleable__label-arrow:hover:before {color: black;}#sk-container-id-2 div.sk-estimator:hover label.sk-toggleable__label-arrow:before {color: black;}#sk-container-id-2 div.sk-toggleable__content {max-height: 0;max-width: 0;overflow: hidden;text-align: left;background-color: #f0f8ff;}#sk-container-id-2 div.sk-toggleable__content pre {margin: 0.2em;color: black;border-radius: 0.25em;background-color: #f0f8ff;}#sk-container-id-2 input.sk-toggleable__control:checked~div.sk-toggleable__content {max-height: 200px;max-width: 100%;overflow: auto;}#sk-container-id-2 input.sk-toggleable__control:checked~label.sk-toggleable__label-arrow:before {content: \"▾\";}#sk-container-id-2 div.sk-estimator input.sk-toggleable__control:checked~label.sk-toggleable__label {background-color: #d4ebff;}#sk-container-id-2 div.sk-label input.sk-toggleable__control:checked~label.sk-toggleable__label {background-color: #d4ebff;}#sk-container-id-2 input.sk-hidden--visually {border: 0;clip: rect(1px 1px 1px 1px);clip: rect(1px, 1px, 1px, 1px);height: 1px;margin: -1px;overflow: hidden;padding: 0;position: absolute;width: 1px;}#sk-container-id-2 div.sk-estimator {font-family: monospace;background-color: #f0f8ff;border: 1px dotted black;border-radius: 0.25em;box-sizing: border-box;margin-bottom: 0.5em;}#sk-container-id-2 div.sk-estimator:hover {background-color: #d4ebff;}#sk-container-id-2 div.sk-parallel-item::after {content: \"\";width: 100%;border-bottom: 1px solid gray;flex-grow: 1;}#sk-container-id-2 div.sk-label:hover label.sk-toggleable__label {background-color: #d4ebff;}#sk-container-id-2 div.sk-serial::before {content: \"\";position: absolute;border-left: 1px solid gray;box-sizing: border-box;top: 0;bottom: 0;left: 50%;z-index: 0;}#sk-container-id-2 div.sk-serial {display: flex;flex-direction: column;align-items: center;background-color: white;padding-right: 0.2em;padding-left: 0.2em;position: relative;}#sk-container-id-2 div.sk-item {position: relative;z-index: 1;}#sk-container-id-2 div.sk-parallel {display: flex;align-items: stretch;justify-content: center;background-color: white;position: relative;}#sk-container-id-2 div.sk-item::before, #sk-container-id-2 div.sk-parallel-item::before {content: \"\";position: absolute;border-left: 1px solid gray;box-sizing: border-box;top: 0;bottom: 0;left: 50%;z-index: -1;}#sk-container-id-2 div.sk-parallel-item {display: flex;flex-direction: column;z-index: 1;position: relative;background-color: white;}#sk-container-id-2 div.sk-parallel-item:first-child::after {align-self: flex-end;width: 50%;}#sk-container-id-2 div.sk-parallel-item:last-child::after {align-self: flex-start;width: 50%;}#sk-container-id-2 div.sk-parallel-item:only-child::after {width: 0;}#sk-container-id-2 div.sk-dashed-wrapped {border: 1px dashed gray;margin: 0 0.4em 0.5em 0.4em;box-sizing: border-box;padding-bottom: 0.4em;background-color: white;}#sk-container-id-2 div.sk-label label {font-family: monospace;font-weight: bold;display: inline-block;line-height: 1.2em;}#sk-container-id-2 div.sk-label-container {text-align: center;}#sk-container-id-2 div.sk-container {/* jupyter's `normalize.less` sets `[hidden] { display: none; }` but bootstrap.min.css set `[hidden] { display: none !important; }` so we also need the `!important` here to be able to override the default hidden behavior on the sphinx rendered scikit-learn.org. See: https://github.com/scikit-learn/scikit-learn/issues/21755 */display: inline-block !important;position: relative;}#sk-container-id-2 div.sk-text-repr-fallback {display: none;}</style><div id=\"sk-container-id-2\" class=\"sk-top-container\"><div class=\"sk-text-repr-fallback\"><pre>LogisticRegression()</pre><b>In a Jupyter environment, please rerun this cell to show the HTML representation or trust the notebook. <br />On GitHub, the HTML representation is unable to render, please try loading this page with nbviewer.org.</b></div><div class=\"sk-container\" hidden><div class=\"sk-item\"><div class=\"sk-estimator sk-toggleable\"><input class=\"sk-toggleable__control sk-hidden--visually\" id=\"sk-estimator-id-2\" type=\"checkbox\" checked><label for=\"sk-estimator-id-2\" class=\"sk-toggleable__label sk-toggleable__label-arrow\">LogisticRegression</label><div class=\"sk-toggleable__content\"><pre>LogisticRegression()</pre></div></div></div></div></div>"
            ]
          },
          "metadata": {},
          "execution_count": 47
        }
      ]
    },
    {
      "cell_type": "code",
      "source": [
        "# Printing test and train scores\n",
        "# Seems like a little overfitting\n",
        "print(logregbase.score(X_test_vect, y_test))\n",
        "print(logregbase.score(X_train_vect, y_train_resampled))"
      ],
      "metadata": {
        "colab": {
          "base_uri": "https://localhost:8080/"
        },
        "id": "5Tp_qQdwTZ4w",
        "outputId": "41c31ef3-e167-45df-b121-da477c22e525"
      },
      "execution_count": 48,
      "outputs": [
        {
          "output_type": "stream",
          "name": "stdout",
          "text": [
            "0.7015\n",
            "0.7569077013521458\n"
          ]
        }
      ]
    },
    {
      "cell_type": "code",
      "source": [
        "# Creating confusion matrix\n",
        "ConfusionMatrixDisplay.from_estimator(logregbase, X_test_vect, y_test)"
      ],
      "metadata": {
        "colab": {
          "base_uri": "https://localhost:8080/",
          "height": 466
        },
        "id": "2s9lq6BpTaIt",
        "outputId": "0d775202-9beb-455d-f56b-8de471e69165"
      },
      "execution_count": 49,
      "outputs": [
        {
          "output_type": "execute_result",
          "data": {
            "text/plain": [
              "<sklearn.metrics._plot.confusion_matrix.ConfusionMatrixDisplay at 0x7f54feb59a30>"
            ]
          },
          "metadata": {},
          "execution_count": 49
        },
        {
          "output_type": "display_data",
          "data": {
            "text/plain": [
              "<Figure size 640x480 with 2 Axes>"
            ],
            "image/png": "[encoded data removed]"
          },
          "metadata": {}
        }
      ]
    },
    {
      "cell_type": "code",
      "source": [
        "# CReating prediction and classification report for model\n",
        "# Has a good precision score\n",
        "# We want to check for precision because we want a good positive class prediction\n",
        "y_logreg_pred = logregbase.predict(X_test_vect)\n",
        "\n",
        "print(classification_report(y_test, y_logreg_pred))"
      ],
      "metadata": {
        "colab": {
          "base_uri": "https://localhost:8080/"
        },
        "id": "Bd3s0h4iTaQ4",
        "outputId": "9cc08662-abee-42dd-9e66-813949b6f7a9"
      },
      "execution_count": 50,
      "outputs": [
        {
          "output_type": "stream",
          "name": "stdout",
          "text": [
            "              precision    recall  f1-score   support\n",
            "\n",
            "           0       0.57      0.63      0.60       405\n",
            "           1       0.21      0.49      0.29       178\n",
            "           2       0.93      0.75      0.83      1417\n",
            "\n",
            "    accuracy                           0.70      2000\n",
            "   macro avg       0.57      0.62      0.57      2000\n",
            "weighted avg       0.79      0.70      0.74      2000\n",
            "\n"
          ]
        }
      ]
    },
    {
      "cell_type": "markdown",
      "source": [
        "## Logistic Regression model in Pipeline"
      ],
      "metadata": {
        "id": "Uuou-2CT29ZY"
      }
    },
    {
      "cell_type": "code",
      "execution_count": 109,
      "metadata": {
        "id": "jcEbmolbXN3b"
      },
      "outputs": [],
      "source": [
        "# Logstic regression model in pipeline and stacking it\n",
        "lmodels = [('logreg', LogisticRegression())]\n",
        "sclog = StackingClassifier(lmodels)"
      ]
    },
    {
      "cell_type": "code",
      "execution_count": 110,
      "metadata": {
        "colab": {
          "base_uri": "https://localhost:8080/",
          "height": 223
        },
        "id": "0Udbrb3VyBbK",
        "outputId": "d2027f4c-b22b-431c-af0f-9c3a60da5a55"
      },
      "outputs": [
        {
          "output_type": "execute_result",
          "data": {
            "text/plain": [
              "Pipeline(steps=[('smote', SMOTE()),\n",
              "                ('lmodel',\n",
              "                 StackingClassifier(estimators=[('logreg',\n",
              "                                                 LogisticRegression())]))])"
            ],
            "text/html": [
              "<style>#sk-container-id-6 {color: black;background-color: white;}#sk-container-id-6 pre{padding: 0;}#sk-container-id-6 div.sk-toggleable {background-color: white;}#sk-container-id-6 label.sk-toggleable__label {cursor: pointer;display: block;width: 100%;margin-bottom: 0;padding: 0.3em;box-sizing: border-box;text-align: center;}#sk-container-id-6 label.sk-toggleable__label-arrow:before {content: \"▸\";float: left;margin-right: 0.25em;color: #696969;}#sk-container-id-6 label.sk-toggleable__label-arrow:hover:before {color: black;}#sk-container-id-6 div.sk-estimator:hover label.sk-toggleable__label-arrow:before {color: black;}#sk-container-id-6 div.sk-toggleable__content {max-height: 0;max-width: 0;overflow: hidden;text-align: left;background-color: #f0f8ff;}#sk-container-id-6 div.sk-toggleable__content pre {margin: 0.2em;color: black;border-radius: 0.25em;background-color: #f0f8ff;}#sk-container-id-6 input.sk-toggleable__control:checked~div.sk-toggleable__content {max-height: 200px;max-width: 100%;overflow: auto;}#sk-container-id-6 input.sk-toggleable__control:checked~label.sk-toggleable__label-arrow:before {content: \"▾\";}#sk-container-id-6 div.sk-estimator input.sk-toggleable__control:checked~label.sk-toggleable__label {background-color: #d4ebff;}#sk-container-id-6 div.sk-label input.sk-toggleable__control:checked~label.sk-toggleable__label {background-color: #d4ebff;}#sk-container-id-6 input.sk-hidden--visually {border: 0;clip: rect(1px 1px 1px 1px);clip: rect(1px, 1px, 1px, 1px);height: 1px;margin: -1px;overflow: hidden;padding: 0;position: absolute;width: 1px;}#sk-container-id-6 div.sk-estimator {font-family: monospace;background-color: #f0f8ff;border: 1px dotted black;border-radius: 0.25em;box-sizing: border-box;margin-bottom: 0.5em;}#sk-container-id-6 div.sk-estimator:hover {background-color: #d4ebff;}#sk-container-id-6 div.sk-parallel-item::after {content: \"\";width: 100%;border-bottom: 1px solid gray;flex-grow: 1;}#sk-container-id-6 div.sk-label:hover label.sk-toggleable__label {background-color: #d4ebff;}#sk-container-id-6 div.sk-serial::before {content: \"\";position: absolute;border-left: 1px solid gray;box-sizing: border-box;top: 0;bottom: 0;left: 50%;z-index: 0;}#sk-container-id-6 div.sk-serial {display: flex;flex-direction: column;align-items: center;background-color: white;padding-right: 0.2em;padding-left: 0.2em;position: relative;}#sk-container-id-6 div.sk-item {position: relative;z-index: 1;}#sk-container-id-6 div.sk-parallel {display: flex;align-items: stretch;justify-content: center;background-color: white;position: relative;}#sk-container-id-6 div.sk-item::before, #sk-container-id-6 div.sk-parallel-item::before {content: \"\";position: absolute;border-left: 1px solid gray;box-sizing: border-box;top: 0;bottom: 0;left: 50%;z-index: -1;}#sk-container-id-6 div.sk-parallel-item {display: flex;flex-direction: column;z-index: 1;position: relative;background-color: white;}#sk-container-id-6 div.sk-parallel-item:first-child::after {align-self: flex-end;width: 50%;}#sk-container-id-6 div.sk-parallel-item:last-child::after {align-self: flex-start;width: 50%;}#sk-container-id-6 div.sk-parallel-item:only-child::after {width: 0;}#sk-container-id-6 div.sk-dashed-wrapped {border: 1px dashed gray;margin: 0 0.4em 0.5em 0.4em;box-sizing: border-box;padding-bottom: 0.4em;background-color: white;}#sk-container-id-6 div.sk-label label {font-family: monospace;font-weight: bold;display: inline-block;line-height: 1.2em;}#sk-container-id-6 div.sk-label-container {text-align: center;}#sk-container-id-6 div.sk-container {/* jupyter's `normalize.less` sets `[hidden] { display: none; }` but bootstrap.min.css set `[hidden] { display: none !important; }` so we also need the `!important` here to be able to override the default hidden behavior on the sphinx rendered scikit-learn.org. See: https://github.com/scikit-learn/scikit-learn/issues/21755 */display: inline-block !important;position: relative;}#sk-container-id-6 div.sk-text-repr-fallback {display: none;}</style><div id=\"sk-container-id-6\" class=\"sk-top-container\"><div class=\"sk-text-repr-fallback\"><pre>Pipeline(steps=[(&#x27;smote&#x27;, SMOTE()),\n",
              "                (&#x27;lmodel&#x27;,\n",
              "                 StackingClassifier(estimators=[(&#x27;logreg&#x27;,\n",
              "                                                 LogisticRegression())]))])</pre><b>In a Jupyter environment, please rerun this cell to show the HTML representation or trust the notebook. <br />On GitHub, the HTML representation is unable to render, please try loading this page with nbviewer.org.</b></div><div class=\"sk-container\" hidden><div class=\"sk-item sk-dashed-wrapped\"><div class=\"sk-label-container\"><div class=\"sk-label sk-toggleable\"><input class=\"sk-toggleable__control sk-hidden--visually\" id=\"sk-estimator-id-6\" type=\"checkbox\" ><label for=\"sk-estimator-id-6\" class=\"sk-toggleable__label sk-toggleable__label-arrow\">Pipeline</label><div class=\"sk-toggleable__content\"><pre>Pipeline(steps=[(&#x27;smote&#x27;, SMOTE()),\n",
              "                (&#x27;lmodel&#x27;,\n",
              "                 StackingClassifier(estimators=[(&#x27;logreg&#x27;,\n",
              "                                                 LogisticRegression())]))])</pre></div></div></div><div class=\"sk-serial\"><div class=\"sk-item\"><div class=\"sk-estimator sk-toggleable\"><input class=\"sk-toggleable__control sk-hidden--visually\" id=\"sk-estimator-id-7\" type=\"checkbox\" ><label for=\"sk-estimator-id-7\" class=\"sk-toggleable__label sk-toggleable__label-arrow\">SMOTE</label><div class=\"sk-toggleable__content\"><pre>SMOTE()</pre></div></div></div><div class=\"sk-item\"><div class=\"sk-label-container\"><div class=\"sk-label sk-toggleable\"><input class=\"sk-toggleable__control sk-hidden--visually\" id=\"sk-estimator-id-8\" type=\"checkbox\" ><label for=\"sk-estimator-id-8\" class=\"sk-toggleable__label sk-toggleable__label-arrow\">lmodel: StackingClassifier</label><div class=\"sk-toggleable__content\"><pre>StackingClassifier(estimators=[(&#x27;logreg&#x27;, LogisticRegression())])</pre></div></div></div><div class=\"sk-serial\"><div class=\"sk-item\"><div class=\"sk-parallel\"><div class=\"sk-parallel-item\"><div class=\"sk-item\"><div class=\"sk-label-container\"><div class=\"sk-label sk-toggleable\"><label>logreg</label></div></div><div class=\"sk-serial\"><div class=\"sk-item\"><div class=\"sk-estimator sk-toggleable\"><input class=\"sk-toggleable__control sk-hidden--visually\" id=\"sk-estimator-id-9\" type=\"checkbox\" ><label for=\"sk-estimator-id-9\" class=\"sk-toggleable__label sk-toggleable__label-arrow\">LogisticRegression</label><div class=\"sk-toggleable__content\"><pre>LogisticRegression()</pre></div></div></div></div></div></div></div></div><div class=\"sk-item\"><div class=\"sk-parallel\"><div class=\"sk-parallel-item\"><div class=\"sk-item\"><div class=\"sk-label-container\"><div class=\"sk-label sk-toggleable\"><label>final_estimator</label></div></div><div class=\"sk-serial\"><div class=\"sk-item\"><div class=\"sk-estimator sk-toggleable\"><input class=\"sk-toggleable__control sk-hidden--visually\" id=\"sk-estimator-id-10\" type=\"checkbox\" ><label for=\"sk-estimator-id-10\" class=\"sk-toggleable__label sk-toggleable__label-arrow\">LogisticRegression</label><div class=\"sk-toggleable__content\"><pre>LogisticRegression()</pre></div></div></div></div></div></div></div></div></div></div></div></div></div></div>"
            ]
          },
          "metadata": {},
          "execution_count": 110
        }
      ],
      "source": [
        "# Fitting the pipline with SMOTE to help with class imbalance\n",
        "logpl = Pipeline([('smote', SMOTE()), ('lmodel', sclog)])\n",
        "logpl.fit(X_train_tf, y_train)"
      ]
    },
    {
      "cell_type": "code",
      "execution_count": null,
      "metadata": {
        "colab": {
          "base_uri": "https://localhost:8080/"
        },
        "id": "1BFNguN7yNn2",
        "outputId": "0dd8aa0c-89a9-4291-9db5-3addfce2cafc"
      },
      "outputs": [
        {
          "output_type": "stream",
          "name": "stdout",
          "text": [
            "0.693\n",
            "0.74875\n"
          ]
        }
      ],
      "source": [
        "# Score for train and test\n",
        "print(logpl.score(X_test_tf, y_test))\n",
        "print(logpl.score(X_train_tf, y_train))"
      ]
    },
    {
      "cell_type": "code",
      "execution_count": null,
      "metadata": {
        "colab": {
          "base_uri": "https://localhost:8080/",
          "height": 467
        },
        "id": "KDJyw4jiyTu1",
        "outputId": "3b640d60-2cf4-42f3-a0db-cd25622f1657"
      },
      "outputs": [
        {
          "output_type": "execute_result",
          "data": {
            "text/plain": [
              "<sklearn.metrics._plot.confusion_matrix.ConfusionMatrixDisplay at 0x7f9f86390d30>"
            ]
          },
          "metadata": {},
          "execution_count": 49
        },
        {
          "output_type": "display_data",
          "data": {
            "text/plain": [
              "<Figure size 640x480 with 2 Axes>"
            ],
            "image/png": "[encoded data removed]"
          },
          "metadata": {}
        }
      ],
      "source": [
        "# Creating confusion matrix\n",
        "ConfusionMatrixDisplay.from_estimator(logpl, X_test_tf, y_test)"
      ]
    },
    {
      "cell_type": "code",
      "execution_count": null,
      "metadata": {
        "colab": {
          "base_uri": "https://localhost:8080/"
        },
        "id": "aFdby35SyVtC",
        "outputId": "870bc43c-8558-4d3d-ccbb-267f4fcb3de9"
      },
      "outputs": [
        {
          "output_type": "stream",
          "name": "stdout",
          "text": [
            "              precision    recall  f1-score   support\n",
            "\n",
            "           0       0.61      0.60      0.60       405\n",
            "           1       0.19      0.48      0.27       178\n",
            "           2       0.91      0.75      0.82      1417\n",
            "\n",
            "    accuracy                           0.69      2000\n",
            "   macro avg       0.57      0.61      0.57      2000\n",
            "weighted avg       0.79      0.69      0.73      2000\n",
            "\n"
          ]
        }
      ],
      "source": [
        "# Predicting on the test and creating a classification report\n",
        "log_pred = logpl.predict(X_test_tf)\n",
        "print(classification_report(y_test, log_pred))"
      ]
    },
    {
      "cell_type": "code",
      "execution_count": null,
      "metadata": {
        "colab": {
          "base_uri": "https://localhost:8080/",
          "height": 247
        },
        "id": "QKXEza6-ymlJ",
        "outputId": "1ece81fe-a2fc-463f-a8ac-2cb9292bb82b"
      },
      "outputs": [
        {
          "data": {
            "text/html": [
              "<style>#sk-container-id-3 {color: black;background-color: white;}#sk-container-id-3 pre{padding: 0;}#sk-container-id-3 div.sk-toggleable {background-color: white;}#sk-container-id-3 label.sk-toggleable__label {cursor: pointer;display: block;width: 100%;margin-bottom: 0;padding: 0.3em;box-sizing: border-box;text-align: center;}#sk-container-id-3 label.sk-toggleable__label-arrow:before {content: \"▸\";float: left;margin-right: 0.25em;color: #696969;}#sk-container-id-3 label.sk-toggleable__label-arrow:hover:before {color: black;}#sk-container-id-3 div.sk-estimator:hover label.sk-toggleable__label-arrow:before {color: black;}#sk-container-id-3 div.sk-toggleable__content {max-height: 0;max-width: 0;overflow: hidden;text-align: left;background-color: #f0f8ff;}#sk-container-id-3 div.sk-toggleable__content pre {margin: 0.2em;color: black;border-radius: 0.25em;background-color: #f0f8ff;}#sk-container-id-3 input.sk-toggleable__control:checked~div.sk-toggleable__content {max-height: 200px;max-width: 100%;overflow: auto;}#sk-container-id-3 input.sk-toggleable__control:checked~label.sk-toggleable__label-arrow:before {content: \"▾\";}#sk-container-id-3 div.sk-estimator input.sk-toggleable__control:checked~label.sk-toggleable__label {background-color: #d4ebff;}#sk-container-id-3 div.sk-label input.sk-toggleable__control:checked~label.sk-toggleable__label {background-color: #d4ebff;}#sk-container-id-3 input.sk-hidden--visually {border: 0;clip: rect(1px 1px 1px 1px);clip: rect(1px, 1px, 1px, 1px);height: 1px;margin: -1px;overflow: hidden;padding: 0;position: absolute;width: 1px;}#sk-container-id-3 div.sk-estimator {font-family: monospace;background-color: #f0f8ff;border: 1px dotted black;border-radius: 0.25em;box-sizing: border-box;margin-bottom: 0.5em;}#sk-container-id-3 div.sk-estimator:hover {background-color: #d4ebff;}#sk-container-id-3 div.sk-parallel-item::after {content: \"\";width: 100%;border-bottom: 1px solid gray;flex-grow: 1;}#sk-container-id-3 div.sk-label:hover label.sk-toggleable__label {background-color: #d4ebff;}#sk-container-id-3 div.sk-serial::before {content: \"\";position: absolute;border-left: 1px solid gray;box-sizing: border-box;top: 0;bottom: 0;left: 50%;z-index: 0;}#sk-container-id-3 div.sk-serial {display: flex;flex-direction: column;align-items: center;background-color: white;padding-right: 0.2em;padding-left: 0.2em;position: relative;}#sk-container-id-3 div.sk-item {position: relative;z-index: 1;}#sk-container-id-3 div.sk-parallel {display: flex;align-items: stretch;justify-content: center;background-color: white;position: relative;}#sk-container-id-3 div.sk-item::before, #sk-container-id-3 div.sk-parallel-item::before {content: \"\";position: absolute;border-left: 1px solid gray;box-sizing: border-box;top: 0;bottom: 0;left: 50%;z-index: -1;}#sk-container-id-3 div.sk-parallel-item {display: flex;flex-direction: column;z-index: 1;position: relative;background-color: white;}#sk-container-id-3 div.sk-parallel-item:first-child::after {align-self: flex-end;width: 50%;}#sk-container-id-3 div.sk-parallel-item:last-child::after {align-self: flex-start;width: 50%;}#sk-container-id-3 div.sk-parallel-item:only-child::after {width: 0;}#sk-container-id-3 div.sk-dashed-wrapped {border: 1px dashed gray;margin: 0 0.4em 0.5em 0.4em;box-sizing: border-box;padding-bottom: 0.4em;background-color: white;}#sk-container-id-3 div.sk-label label {font-family: monospace;font-weight: bold;display: inline-block;line-height: 1.2em;}#sk-container-id-3 div.sk-label-container {text-align: center;}#sk-container-id-3 div.sk-container {/* jupyter's `normalize.less` sets `[hidden] { display: none; }` but bootstrap.min.css set `[hidden] { display: none !important; }` so we also need the `!important` here to be able to override the default hidden behavior on the sphinx rendered scikit-learn.org. See: https://github.com/scikit-learn/scikit-learn/issues/21755 */display: inline-block !important;position: relative;}#sk-container-id-3 div.sk-text-repr-fallback {display: none;}</style><div id=\"sk-container-id-3\" class=\"sk-top-container\"><div class=\"sk-text-repr-fallback\"><pre>GridSearchCV(cv=5,\n",
              "             estimator=Pipeline(steps=[(&#x27;smote&#x27;, SMOTE()),\n",
              "                                       (&#x27;lmodel&#x27;,\n",
              "                                        StackingClassifier(estimators=[(&#x27;logreg&#x27;,\n",
              "                                                                        LogisticRegression())]))]),\n",
              "             n_jobs=-1,\n",
              "             param_grid={&#x27;lmodel__logreg__C&#x27;: [0.0001, 0.001, 0.01, 0.1, 1, 10,\n",
              "                                               100, 1000],\n",
              "                         &#x27;lmodel__logreg__penalty&#x27;: [&#x27;l2&#x27;]},\n",
              "             scoring=&#x27;roc_auc&#x27;)</pre><b>In a Jupyter environment, please rerun this cell to show the HTML representation or trust the notebook. <br />On GitHub, the HTML representation is unable to render, please try loading this page with nbviewer.org.</b></div><div class=\"sk-container\" hidden><div class=\"sk-item sk-dashed-wrapped\"><div class=\"sk-label-container\"><div class=\"sk-label sk-toggleable\"><input class=\"sk-toggleable__control sk-hidden--visually\" id=\"sk-estimator-id-13\" type=\"checkbox\" ><label for=\"sk-estimator-id-13\" class=\"sk-toggleable__label sk-toggleable__label-arrow\">GridSearchCV</label><div class=\"sk-toggleable__content\"><pre>GridSearchCV(cv=5,\n",
              "             estimator=Pipeline(steps=[(&#x27;smote&#x27;, SMOTE()),\n",
              "                                       (&#x27;lmodel&#x27;,\n",
              "                                        StackingClassifier(estimators=[(&#x27;logreg&#x27;,\n",
              "                                                                        LogisticRegression())]))]),\n",
              "             n_jobs=-1,\n",
              "             param_grid={&#x27;lmodel__logreg__C&#x27;: [0.0001, 0.001, 0.01, 0.1, 1, 10,\n",
              "                                               100, 1000],\n",
              "                         &#x27;lmodel__logreg__penalty&#x27;: [&#x27;l2&#x27;]},\n",
              "             scoring=&#x27;roc_auc&#x27;)</pre></div></div></div><div class=\"sk-parallel\"><div class=\"sk-parallel-item\"><div class=\"sk-item\"><div class=\"sk-label-container\"><div class=\"sk-label sk-toggleable\"><input class=\"sk-toggleable__control sk-hidden--visually\" id=\"sk-estimator-id-14\" type=\"checkbox\" ><label for=\"sk-estimator-id-14\" class=\"sk-toggleable__label sk-toggleable__label-arrow\">estimator: Pipeline</label><div class=\"sk-toggleable__content\"><pre>Pipeline(steps=[(&#x27;smote&#x27;, SMOTE()),\n",
              "                (&#x27;lmodel&#x27;,\n",
              "                 StackingClassifier(estimators=[(&#x27;logreg&#x27;,\n",
              "                                                 LogisticRegression())]))])</pre></div></div></div><div class=\"sk-serial\"><div class=\"sk-item\"><div class=\"sk-serial\"><div class=\"sk-item\"><div class=\"sk-estimator sk-toggleable\"><input class=\"sk-toggleable__control sk-hidden--visually\" id=\"sk-estimator-id-15\" type=\"checkbox\" ><label for=\"sk-estimator-id-15\" class=\"sk-toggleable__label sk-toggleable__label-arrow\">SMOTE</label><div class=\"sk-toggleable__content\"><pre>SMOTE()</pre></div></div></div><div class=\"sk-item\"><div class=\"sk-label-container\"><div class=\"sk-label sk-toggleable\"><input class=\"sk-toggleable__control sk-hidden--visually\" id=\"sk-estimator-id-16\" type=\"checkbox\" ><label for=\"sk-estimator-id-16\" class=\"sk-toggleable__label sk-toggleable__label-arrow\">lmodel: StackingClassifier</label><div class=\"sk-toggleable__content\"><pre>StackingClassifier(estimators=[(&#x27;logreg&#x27;, LogisticRegression())])</pre></div></div></div><div class=\"sk-serial\"><div class=\"sk-item\"><div class=\"sk-parallel\"><div class=\"sk-parallel-item\"><div class=\"sk-item\"><div class=\"sk-label-container\"><div class=\"sk-label sk-toggleable\"><label>logreg</label></div></div><div class=\"sk-serial\"><div class=\"sk-item\"><div class=\"sk-estimator sk-toggleable\"><input class=\"sk-toggleable__control sk-hidden--visually\" id=\"sk-estimator-id-17\" type=\"checkbox\" ><label for=\"sk-estimator-id-17\" class=\"sk-toggleable__label sk-toggleable__label-arrow\">LogisticRegression</label><div class=\"sk-toggleable__content\"><pre>LogisticRegression()</pre></div></div></div></div></div></div></div></div><div class=\"sk-item\"><div class=\"sk-parallel\"><div class=\"sk-parallel-item\"><div class=\"sk-item\"><div class=\"sk-label-container\"><div class=\"sk-label sk-toggleable\"><label>final_estimator</label></div></div><div class=\"sk-serial\"><div class=\"sk-item\"><div class=\"sk-estimator sk-toggleable\"><input class=\"sk-toggleable__control sk-hidden--visually\" id=\"sk-estimator-id-18\" type=\"checkbox\" ><label for=\"sk-estimator-id-18\" class=\"sk-toggleable__label sk-toggleable__label-arrow\">LogisticRegression</label><div class=\"sk-toggleable__content\"><pre>LogisticRegression()</pre></div></div></div></div></div></div></div></div></div></div></div></div></div></div></div></div></div></div></div>"
            ],
            "text/plain": [
              "GridSearchCV(cv=5,\n",
              "             estimator=Pipeline(steps=[('smote', SMOTE()),\n",
              "                                       ('lmodel',\n",
              "                                        StackingClassifier(estimators=[('logreg',\n",
              "                                                                        LogisticRegression())]))]),\n",
              "             n_jobs=-1,\n",
              "             param_grid={'lmodel__logreg__C': [0.0001, 0.001, 0.01, 0.1, 1, 10,\n",
              "                                               100, 1000],\n",
              "                         'lmodel__logreg__penalty': ['l2']},\n",
              "             scoring='roc_auc')"
            ]
          },
          "execution_count": 71,
          "metadata": {},
          "output_type": "execute_result"
        }
      ],
      "source": [
        "# Creating a grid for C and penalty\n",
        "log_grid = {'lmodel__logreg__C': [1e-4, 1e-3, 1e-2, 1e-1, 1, 10, 100, 1000],\n",
        "            'lmodel__logreg__penalty': ['l2']}\n",
        "\n",
        "log_search = GridSearchCV(estimator=logpl,\n",
        "                          param_grid=log_grid,\n",
        "                          scoring='roc_auc',\n",
        "                          cv=5,\n",
        "                          n_jobs=-1)\n",
        "\n",
        "log_search.fit(X_train_tf, y_train)"
      ]
    },
    {
      "cell_type": "code",
      "execution_count": null,
      "metadata": {
        "colab": {
          "base_uri": "https://localhost:8080/"
        },
        "id": "nQehdsEMzm7q",
        "outputId": "70206009-3b0f-4387-c484-b4d25419acf7"
      },
      "outputs": [
        {
          "data": {
            "text/plain": [
              "{'lmodel__logreg__C': 0.0001, 'lmodel__logreg__penalty': 'l2'}"
            ]
          },
          "execution_count": 77,
          "metadata": {},
          "output_type": "execute_result"
        }
      ],
      "source": [
        "# Best params seem to be C at 0.0001\n",
        "log_search.best_params_"
      ]
    },
    {
      "cell_type": "markdown",
      "source": [
        "## Logistic Regression model without Pipeline"
      ],
      "metadata": {
        "id": "Dl5SkkDw3PYc"
      }
    },
    {
      "cell_type": "code",
      "source": [
        "# Logistic Regression Model with best parameters\n",
        "logreg = LogisticRegression(penalty='l2', C=0.0001)\n",
        "logreg.fit(X_train_vect, y_train_resampled)"
      ],
      "metadata": {
        "colab": {
          "base_uri": "https://localhost:8080/",
          "height": 75
        },
        "id": "akkhZcCxrqwc",
        "outputId": "6c860110-a860-4516-b2e4-8e6c0211a815"
      },
      "execution_count": 99,
      "outputs": [
        {
          "output_type": "execute_result",
          "data": {
            "text/plain": [
              "LogisticRegression(C=0.0001)"
            ],
            "text/html": [
              "<style>#sk-container-id-4 {color: black;background-color: white;}#sk-container-id-4 pre{padding: 0;}#sk-container-id-4 div.sk-toggleable {background-color: white;}#sk-container-id-4 label.sk-toggleable__label {cursor: pointer;display: block;width: 100%;margin-bottom: 0;padding: 0.3em;box-sizing: border-box;text-align: center;}#sk-container-id-4 label.sk-toggleable__label-arrow:before {content: \"▸\";float: left;margin-right: 0.25em;color: #696969;}#sk-container-id-4 label.sk-toggleable__label-arrow:hover:before {color: black;}#sk-container-id-4 div.sk-estimator:hover label.sk-toggleable__label-arrow:before {color: black;}#sk-container-id-4 div.sk-toggleable__content {max-height: 0;max-width: 0;overflow: hidden;text-align: left;background-color: #f0f8ff;}#sk-container-id-4 div.sk-toggleable__content pre {margin: 0.2em;color: black;border-radius: 0.25em;background-color: #f0f8ff;}#sk-container-id-4 input.sk-toggleable__control:checked~div.sk-toggleable__content {max-height: 200px;max-width: 100%;overflow: auto;}#sk-container-id-4 input.sk-toggleable__control:checked~label.sk-toggleable__label-arrow:before {content: \"▾\";}#sk-container-id-4 div.sk-estimator input.sk-toggleable__control:checked~label.sk-toggleable__label {background-color: #d4ebff;}#sk-container-id-4 div.sk-label input.sk-toggleable__control:checked~label.sk-toggleable__label {background-color: #d4ebff;}#sk-container-id-4 input.sk-hidden--visually {border: 0;clip: rect(1px 1px 1px 1px);clip: rect(1px, 1px, 1px, 1px);height: 1px;margin: -1px;overflow: hidden;padding: 0;position: absolute;width: 1px;}#sk-container-id-4 div.sk-estimator {font-family: monospace;background-color: #f0f8ff;border: 1px dotted black;border-radius: 0.25em;box-sizing: border-box;margin-bottom: 0.5em;}#sk-container-id-4 div.sk-estimator:hover {background-color: #d4ebff;}#sk-container-id-4 div.sk-parallel-item::after {content: \"\";width: 100%;border-bottom: 1px solid gray;flex-grow: 1;}#sk-container-id-4 div.sk-label:hover label.sk-toggleable__label {background-color: #d4ebff;}#sk-container-id-4 div.sk-serial::before {content: \"\";position: absolute;border-left: 1px solid gray;box-sizing: border-box;top: 0;bottom: 0;left: 50%;z-index: 0;}#sk-container-id-4 div.sk-serial {display: flex;flex-direction: column;align-items: center;background-color: white;padding-right: 0.2em;padding-left: 0.2em;position: relative;}#sk-container-id-4 div.sk-item {position: relative;z-index: 1;}#sk-container-id-4 div.sk-parallel {display: flex;align-items: stretch;justify-content: center;background-color: white;position: relative;}#sk-container-id-4 div.sk-item::before, #sk-container-id-4 div.sk-parallel-item::before {content: \"\";position: absolute;border-left: 1px solid gray;box-sizing: border-box;top: 0;bottom: 0;left: 50%;z-index: -1;}#sk-container-id-4 div.sk-parallel-item {display: flex;flex-direction: column;z-index: 1;position: relative;background-color: white;}#sk-container-id-4 div.sk-parallel-item:first-child::after {align-self: flex-end;width: 50%;}#sk-container-id-4 div.sk-parallel-item:last-child::after {align-self: flex-start;width: 50%;}#sk-container-id-4 div.sk-parallel-item:only-child::after {width: 0;}#sk-container-id-4 div.sk-dashed-wrapped {border: 1px dashed gray;margin: 0 0.4em 0.5em 0.4em;box-sizing: border-box;padding-bottom: 0.4em;background-color: white;}#sk-container-id-4 div.sk-label label {font-family: monospace;font-weight: bold;display: inline-block;line-height: 1.2em;}#sk-container-id-4 div.sk-label-container {text-align: center;}#sk-container-id-4 div.sk-container {/* jupyter's `normalize.less` sets `[hidden] { display: none; }` but bootstrap.min.css set `[hidden] { display: none !important; }` so we also need the `!important` here to be able to override the default hidden behavior on the sphinx rendered scikit-learn.org. See: https://github.com/scikit-learn/scikit-learn/issues/21755 */display: inline-block !important;position: relative;}#sk-container-id-4 div.sk-text-repr-fallback {display: none;}</style><div id=\"sk-container-id-4\" class=\"sk-top-container\"><div class=\"sk-text-repr-fallback\"><pre>LogisticRegression(C=0.0001)</pre><b>In a Jupyter environment, please rerun this cell to show the HTML representation or trust the notebook. <br />On GitHub, the HTML representation is unable to render, please try loading this page with nbviewer.org.</b></div><div class=\"sk-container\" hidden><div class=\"sk-item\"><div class=\"sk-estimator sk-toggleable\"><input class=\"sk-toggleable__control sk-hidden--visually\" id=\"sk-estimator-id-4\" type=\"checkbox\" checked><label for=\"sk-estimator-id-4\" class=\"sk-toggleable__label sk-toggleable__label-arrow\">LogisticRegression</label><div class=\"sk-toggleable__content\"><pre>LogisticRegression(C=0.0001)</pre></div></div></div></div></div>"
            ]
          },
          "metadata": {},
          "execution_count": 99
        }
      ]
    },
    {
      "cell_type": "code",
      "source": [
        "# Train and test scores of model\n",
        "print(logreg.score(X_test_vect, y_test))\n",
        "print(logreg.score(X_train_vect, y_train_resampled))"
      ],
      "metadata": {
        "colab": {
          "base_uri": "https://localhost:8080/"
        },
        "id": "swdZYCFxrrB2",
        "outputId": "30957f6b-e595-4317-f41d-dae2669dcd82"
      },
      "execution_count": 100,
      "outputs": [
        {
          "output_type": "stream",
          "name": "stdout",
          "text": [
            "0.6355\n",
            "0.6442092886537331\n"
          ]
        }
      ]
    },
    {
      "cell_type": "code",
      "source": [
        "# Confusion matrix of model\n",
        "ConfusionMatrixDisplay.from_estimator(logreg, X_test_vect, y_test)"
      ],
      "metadata": {
        "colab": {
          "base_uri": "https://localhost:8080/",
          "height": 469
        },
        "id": "tkr8pG3trrIN",
        "outputId": "68ace574-a999-4f77-80e5-316ab6e12c2d"
      },
      "execution_count": 101,
      "outputs": [
        {
          "output_type": "execute_result",
          "data": {
            "text/plain": [
              "<sklearn.metrics._plot.confusion_matrix.ConfusionMatrixDisplay at 0x7f54484f8370>"
            ]
          },
          "metadata": {},
          "execution_count": 101
        },
        {
          "output_type": "display_data",
          "data": {
            "text/plain": [
              "<Figure size 640x480 with 2 Axes>"
            ],
            "image/png": "[encoded data removed]"
          },
          "metadata": {}
        }
      ]
    },
    {
      "cell_type": "code",
      "source": [
        "# Prediction and classification report of model\n",
        "# Precision is as good as the logistic regression in the pipeline\n",
        "y_vect_pred = logreg.predict(X_test_vect)\n",
        "\n",
        "print(classification_report(y_test, y_vect_pred))"
      ],
      "metadata": {
        "colab": {
          "base_uri": "https://localhost:8080/"
        },
        "id": "LO0AtYFir2c8",
        "outputId": "2419f224-149e-424a-c401-68bfb3559957"
      },
      "execution_count": 102,
      "outputs": [
        {
          "output_type": "stream",
          "name": "stdout",
          "text": [
            "              precision    recall  f1-score   support\n",
            "\n",
            "           0       0.49      0.68      0.57       405\n",
            "           1       0.19      0.51      0.28       178\n",
            "           2       0.93      0.64      0.76      1417\n",
            "\n",
            "    accuracy                           0.64      2000\n",
            "   macro avg       0.54      0.61      0.54      2000\n",
            "weighted avg       0.78      0.64      0.68      2000\n",
            "\n"
          ]
        }
      ]
    },
    {
      "cell_type": "markdown",
      "source": [
        "## KNN, XGB, and Random Forest models"
      ],
      "metadata": {
        "id": "nNWEK7LB3X_l"
      }
    },
    {
      "cell_type": "code",
      "execution_count": null,
      "metadata": {
        "colab": {
          "base_uri": "https://localhost:8080/",
          "height": 221
        },
        "id": "soW7kaci4Olz",
        "outputId": "13c255b8-e38e-41e3-b960-504fca92c715"
      },
      "outputs": [
        {
          "output_type": "execute_result",
          "data": {
            "text/plain": [
              "Pipeline(steps=[('smote', SMOTE()),\n",
              "                ('knnmodel',\n",
              "                 StackingClassifier(estimators=[('knn1',\n",
              "                                                 KNeighborsClassifier())]))])"
            ],
            "text/html": [
              "<style>#sk-container-id-2 {color: black;background-color: white;}#sk-container-id-2 pre{padding: 0;}#sk-container-id-2 div.sk-toggleable {background-color: white;}#sk-container-id-2 label.sk-toggleable__label {cursor: pointer;display: block;width: 100%;margin-bottom: 0;padding: 0.3em;box-sizing: border-box;text-align: center;}#sk-container-id-2 label.sk-toggleable__label-arrow:before {content: \"▸\";float: left;margin-right: 0.25em;color: #696969;}#sk-container-id-2 label.sk-toggleable__label-arrow:hover:before {color: black;}#sk-container-id-2 div.sk-estimator:hover label.sk-toggleable__label-arrow:before {color: black;}#sk-container-id-2 div.sk-toggleable__content {max-height: 0;max-width: 0;overflow: hidden;text-align: left;background-color: #f0f8ff;}#sk-container-id-2 div.sk-toggleable__content pre {margin: 0.2em;color: black;border-radius: 0.25em;background-color: #f0f8ff;}#sk-container-id-2 input.sk-toggleable__control:checked~div.sk-toggleable__content {max-height: 200px;max-width: 100%;overflow: auto;}#sk-container-id-2 input.sk-toggleable__control:checked~label.sk-toggleable__label-arrow:before {content: \"▾\";}#sk-container-id-2 div.sk-estimator input.sk-toggleable__control:checked~label.sk-toggleable__label {background-color: #d4ebff;}#sk-container-id-2 div.sk-label input.sk-toggleable__control:checked~label.sk-toggleable__label {background-color: #d4ebff;}#sk-container-id-2 input.sk-hidden--visually {border: 0;clip: rect(1px 1px 1px 1px);clip: rect(1px, 1px, 1px, 1px);height: 1px;margin: -1px;overflow: hidden;padding: 0;position: absolute;width: 1px;}#sk-container-id-2 div.sk-estimator {font-family: monospace;background-color: #f0f8ff;border: 1px dotted black;border-radius: 0.25em;box-sizing: border-box;margin-bottom: 0.5em;}#sk-container-id-2 div.sk-estimator:hover {background-color: #d4ebff;}#sk-container-id-2 div.sk-parallel-item::after {content: \"\";width: 100%;border-bottom: 1px solid gray;flex-grow: 1;}#sk-container-id-2 div.sk-label:hover label.sk-toggleable__label {background-color: #d4ebff;}#sk-container-id-2 div.sk-serial::before {content: \"\";position: absolute;border-left: 1px solid gray;box-sizing: border-box;top: 0;bottom: 0;left: 50%;z-index: 0;}#sk-container-id-2 div.sk-serial {display: flex;flex-direction: column;align-items: center;background-color: white;padding-right: 0.2em;padding-left: 0.2em;position: relative;}#sk-container-id-2 div.sk-item {position: relative;z-index: 1;}#sk-container-id-2 div.sk-parallel {display: flex;align-items: stretch;justify-content: center;background-color: white;position: relative;}#sk-container-id-2 div.sk-item::before, #sk-container-id-2 div.sk-parallel-item::before {content: \"\";position: absolute;border-left: 1px solid gray;box-sizing: border-box;top: 0;bottom: 0;left: 50%;z-index: -1;}#sk-container-id-2 div.sk-parallel-item {display: flex;flex-direction: column;z-index: 1;position: relative;background-color: white;}#sk-container-id-2 div.sk-parallel-item:first-child::after {align-self: flex-end;width: 50%;}#sk-container-id-2 div.sk-parallel-item:last-child::after {align-self: flex-start;width: 50%;}#sk-container-id-2 div.sk-parallel-item:only-child::after {width: 0;}#sk-container-id-2 div.sk-dashed-wrapped {border: 1px dashed gray;margin: 0 0.4em 0.5em 0.4em;box-sizing: border-box;padding-bottom: 0.4em;background-color: white;}#sk-container-id-2 div.sk-label label {font-family: monospace;font-weight: bold;display: inline-block;line-height: 1.2em;}#sk-container-id-2 div.sk-label-container {text-align: center;}#sk-container-id-2 div.sk-container {/* jupyter's `normalize.less` sets `[hidden] { display: none; }` but bootstrap.min.css set `[hidden] { display: none !important; }` so we also need the `!important` here to be able to override the default hidden behavior on the sphinx rendered scikit-learn.org. See: https://github.com/scikit-learn/scikit-learn/issues/21755 */display: inline-block !important;position: relative;}#sk-container-id-2 div.sk-text-repr-fallback {display: none;}</style><div id=\"sk-container-id-2\" class=\"sk-top-container\"><div class=\"sk-text-repr-fallback\"><pre>Pipeline(steps=[(&#x27;smote&#x27;, SMOTE()),\n",
              "                (&#x27;knnmodel&#x27;,\n",
              "                 StackingClassifier(estimators=[(&#x27;knn1&#x27;,\n",
              "                                                 KNeighborsClassifier())]))])</pre><b>In a Jupyter environment, please rerun this cell to show the HTML representation or trust the notebook. <br />On GitHub, the HTML representation is unable to render, please try loading this page with nbviewer.org.</b></div><div class=\"sk-container\" hidden><div class=\"sk-item sk-dashed-wrapped\"><div class=\"sk-label-container\"><div class=\"sk-label sk-toggleable\"><input class=\"sk-toggleable__control sk-hidden--visually\" id=\"sk-estimator-id-6\" type=\"checkbox\" ><label for=\"sk-estimator-id-6\" class=\"sk-toggleable__label sk-toggleable__label-arrow\">Pipeline</label><div class=\"sk-toggleable__content\"><pre>Pipeline(steps=[(&#x27;smote&#x27;, SMOTE()),\n",
              "                (&#x27;knnmodel&#x27;,\n",
              "                 StackingClassifier(estimators=[(&#x27;knn1&#x27;,\n",
              "                                                 KNeighborsClassifier())]))])</pre></div></div></div><div class=\"sk-serial\"><div class=\"sk-item\"><div class=\"sk-estimator sk-toggleable\"><input class=\"sk-toggleable__control sk-hidden--visually\" id=\"sk-estimator-id-7\" type=\"checkbox\" ><label for=\"sk-estimator-id-7\" class=\"sk-toggleable__label sk-toggleable__label-arrow\">SMOTE</label><div class=\"sk-toggleable__content\"><pre>SMOTE()</pre></div></div></div><div class=\"sk-item\"><div class=\"sk-label-container\"><div class=\"sk-label sk-toggleable\"><input class=\"sk-toggleable__control sk-hidden--visually\" id=\"sk-estimator-id-8\" type=\"checkbox\" ><label for=\"sk-estimator-id-8\" class=\"sk-toggleable__label sk-toggleable__label-arrow\">knnmodel: StackingClassifier</label><div class=\"sk-toggleable__content\"><pre>StackingClassifier(estimators=[(&#x27;knn1&#x27;, KNeighborsClassifier())])</pre></div></div></div><div class=\"sk-serial\"><div class=\"sk-item\"><div class=\"sk-parallel\"><div class=\"sk-parallel-item\"><div class=\"sk-item\"><div class=\"sk-label-container\"><div class=\"sk-label sk-toggleable\"><label>knn1</label></div></div><div class=\"sk-serial\"><div class=\"sk-item\"><div class=\"sk-estimator sk-toggleable\"><input class=\"sk-toggleable__control sk-hidden--visually\" id=\"sk-estimator-id-9\" type=\"checkbox\" ><label for=\"sk-estimator-id-9\" class=\"sk-toggleable__label sk-toggleable__label-arrow\">KNeighborsClassifier</label><div class=\"sk-toggleable__content\"><pre>KNeighborsClassifier()</pre></div></div></div></div></div></div></div></div><div class=\"sk-item\"><div class=\"sk-parallel\"><div class=\"sk-parallel-item\"><div class=\"sk-item\"><div class=\"sk-label-container\"><div class=\"sk-label sk-toggleable\"><label>final_estimator</label></div></div><div class=\"sk-serial\"><div class=\"sk-item\"><div class=\"sk-estimator sk-toggleable\"><input class=\"sk-toggleable__control sk-hidden--visually\" id=\"sk-estimator-id-10\" type=\"checkbox\" ><label for=\"sk-estimator-id-10\" class=\"sk-toggleable__label sk-toggleable__label-arrow\">LogisticRegression</label><div class=\"sk-toggleable__content\"><pre>LogisticRegression()</pre></div></div></div></div></div></div></div></div></div></div></div></div></div></div>"
            ]
          },
          "metadata": {},
          "execution_count": 51
        }
      ],
      "source": [
        "# Fitting a KNN model with pipeline and stacking it\n",
        "kmodels = [('knn1', KNeighborsClassifier())]\n",
        "scknn = StackingClassifier(estimators=kmodels, final_estimator=None)\n",
        "knnpl = Pipeline([('smote', SMOTE()), ('knnmodel', scknn)])\n",
        "knnpl.fit(X_train_tf, y_train)"
      ]
    },
    {
      "cell_type": "code",
      "execution_count": null,
      "metadata": {
        "colab": {
          "base_uri": "https://localhost:8080/"
        },
        "id": "-29vFLm64epi",
        "outputId": "123105c4-bca5-4fa8-943f-e7f1129a2ff9"
      },
      "outputs": [
        {
          "output_type": "stream",
          "name": "stdout",
          "text": [
            "0.4965\n",
            "0.765\n"
          ]
        }
      ],
      "source": [
        "# Getting the scores of the train and test\n",
        "# There is overfitting\n",
        "print(knnpl.score(X_test_tf, y_test))\n",
        "print(knnpl.score(X_train_tf, y_train))"
      ]
    },
    {
      "cell_type": "code",
      "execution_count": null,
      "metadata": {
        "colab": {
          "base_uri": "https://localhost:8080/",
          "height": 467
        },
        "id": "tfZIygiS4vQo",
        "outputId": "cc6f78d5-dd32-4fc9-9ad8-e2c0a467be9e"
      },
      "outputs": [
        {
          "output_type": "execute_result",
          "data": {
            "text/plain": [
              "<sklearn.metrics._plot.confusion_matrix.ConfusionMatrixDisplay at 0x7f9f863908e0>"
            ]
          },
          "metadata": {},
          "execution_count": 53
        },
        {
          "output_type": "display_data",
          "data": {
            "text/plain": [
              "<Figure size 640x480 with 2 Axes>"
            ],
            "image/png": "[encoded data removed]"
          },
          "metadata": {}
        }
      ],
      "source": [
        "# Creating a confusion matrix from pipeline\n",
        "ConfusionMatrixDisplay.from_estimator(knnpl, X_test_tf, y_test)"
      ]
    },
    {
      "cell_type": "code",
      "execution_count": null,
      "metadata": {
        "colab": {
          "base_uri": "https://localhost:8080/"
        },
        "id": "LkcqLDtC4wI8",
        "outputId": "e05b8367-cab2-459e-9670-56d9e9f907ed"
      },
      "outputs": [
        {
          "output_type": "stream",
          "name": "stdout",
          "text": [
            "              precision    recall  f1-score   support\n",
            "\n",
            "           0       0.29      0.57      0.39       405\n",
            "           1       0.12      0.20      0.15       178\n",
            "           2       0.79      0.51      0.62      1417\n",
            "\n",
            "    accuracy                           0.50      2000\n",
            "   macro avg       0.40      0.43      0.39      2000\n",
            "weighted avg       0.63      0.50      0.53      2000\n",
            "\n"
          ]
        }
      ],
      "source": [
        "# Predicting and creating a classification report from pipeline\n",
        "# Not a great precision score\n",
        "knn_pred = knnpl.predict(X_test_tf)\n",
        "print(classification_report(y_test, knn_pred))"
      ]
    },
    {
      "cell_type": "code",
      "execution_count": null,
      "metadata": {
        "colab": {
          "base_uri": "https://localhost:8080/",
          "height": 247
        },
        "id": "65aI_M_Q9eUu",
        "outputId": "42d9cc17-8d2f-477c-81b7-0b3dea3fd5aa"
      },
      "outputs": [
        {
          "data": {
            "text/html": [
              "<style>#sk-container-id-4 {color: black;background-color: white;}#sk-container-id-4 pre{padding: 0;}#sk-container-id-4 div.sk-toggleable {background-color: white;}#sk-container-id-4 label.sk-toggleable__label {cursor: pointer;display: block;width: 100%;margin-bottom: 0;padding: 0.3em;box-sizing: border-box;text-align: center;}#sk-container-id-4 label.sk-toggleable__label-arrow:before {content: \"▸\";float: left;margin-right: 0.25em;color: #696969;}#sk-container-id-4 label.sk-toggleable__label-arrow:hover:before {color: black;}#sk-container-id-4 div.sk-estimator:hover label.sk-toggleable__label-arrow:before {color: black;}#sk-container-id-4 div.sk-toggleable__content {max-height: 0;max-width: 0;overflow: hidden;text-align: left;background-color: #f0f8ff;}#sk-container-id-4 div.sk-toggleable__content pre {margin: 0.2em;color: black;border-radius: 0.25em;background-color: #f0f8ff;}#sk-container-id-4 input.sk-toggleable__control:checked~div.sk-toggleable__content {max-height: 200px;max-width: 100%;overflow: auto;}#sk-container-id-4 input.sk-toggleable__control:checked~label.sk-toggleable__label-arrow:before {content: \"▾\";}#sk-container-id-4 div.sk-estimator input.sk-toggleable__control:checked~label.sk-toggleable__label {background-color: #d4ebff;}#sk-container-id-4 div.sk-label input.sk-toggleable__control:checked~label.sk-toggleable__label {background-color: #d4ebff;}#sk-container-id-4 input.sk-hidden--visually {border: 0;clip: rect(1px 1px 1px 1px);clip: rect(1px, 1px, 1px, 1px);height: 1px;margin: -1px;overflow: hidden;padding: 0;position: absolute;width: 1px;}#sk-container-id-4 div.sk-estimator {font-family: monospace;background-color: #f0f8ff;border: 1px dotted black;border-radius: 0.25em;box-sizing: border-box;margin-bottom: 0.5em;}#sk-container-id-4 div.sk-estimator:hover {background-color: #d4ebff;}#sk-container-id-4 div.sk-parallel-item::after {content: \"\";width: 100%;border-bottom: 1px solid gray;flex-grow: 1;}#sk-container-id-4 div.sk-label:hover label.sk-toggleable__label {background-color: #d4ebff;}#sk-container-id-4 div.sk-serial::before {content: \"\";position: absolute;border-left: 1px solid gray;box-sizing: border-box;top: 0;bottom: 0;left: 50%;z-index: 0;}#sk-container-id-4 div.sk-serial {display: flex;flex-direction: column;align-items: center;background-color: white;padding-right: 0.2em;padding-left: 0.2em;position: relative;}#sk-container-id-4 div.sk-item {position: relative;z-index: 1;}#sk-container-id-4 div.sk-parallel {display: flex;align-items: stretch;justify-content: center;background-color: white;position: relative;}#sk-container-id-4 div.sk-item::before, #sk-container-id-4 div.sk-parallel-item::before {content: \"\";position: absolute;border-left: 1px solid gray;box-sizing: border-box;top: 0;bottom: 0;left: 50%;z-index: -1;}#sk-container-id-4 div.sk-parallel-item {display: flex;flex-direction: column;z-index: 1;position: relative;background-color: white;}#sk-container-id-4 div.sk-parallel-item:first-child::after {align-self: flex-end;width: 50%;}#sk-container-id-4 div.sk-parallel-item:last-child::after {align-self: flex-start;width: 50%;}#sk-container-id-4 div.sk-parallel-item:only-child::after {width: 0;}#sk-container-id-4 div.sk-dashed-wrapped {border: 1px dashed gray;margin: 0 0.4em 0.5em 0.4em;box-sizing: border-box;padding-bottom: 0.4em;background-color: white;}#sk-container-id-4 div.sk-label label {font-family: monospace;font-weight: bold;display: inline-block;line-height: 1.2em;}#sk-container-id-4 div.sk-label-container {text-align: center;}#sk-container-id-4 div.sk-container {/* jupyter's `normalize.less` sets `[hidden] { display: none; }` but bootstrap.min.css set `[hidden] { display: none !important; }` so we also need the `!important` here to be able to override the default hidden behavior on the sphinx rendered scikit-learn.org. See: https://github.com/scikit-learn/scikit-learn/issues/21755 */display: inline-block !important;position: relative;}#sk-container-id-4 div.sk-text-repr-fallback {display: none;}</style><div id=\"sk-container-id-4\" class=\"sk-top-container\"><div class=\"sk-text-repr-fallback\"><pre>GridSearchCV(cv=5,\n",
              "             estimator=Pipeline(steps=[(&#x27;smote&#x27;, SMOTE()),\n",
              "                                       (&#x27;knnmodel&#x27;,\n",
              "                                        StackingClassifier(estimators=[(&#x27;knn1&#x27;,\n",
              "                                                                        KNeighborsClassifier())]))]),\n",
              "             n_jobs=-1,\n",
              "             param_grid={&#x27;knnmodel__knn1__n_neighbors&#x27;: [100, 150, 200, 250,\n",
              "                                                         300],\n",
              "                         &#x27;knnmodel__knn1__p&#x27;: [1, 2, 3, 4, 5]},\n",
              "             scoring=&#x27;roc_auc&#x27;)</pre><b>In a Jupyter environment, please rerun this cell to show the HTML representation or trust the notebook. <br />On GitHub, the HTML representation is unable to render, please try loading this page with nbviewer.org.</b></div><div class=\"sk-container\" hidden><div class=\"sk-item sk-dashed-wrapped\"><div class=\"sk-label-container\"><div class=\"sk-label sk-toggleable\"><input class=\"sk-toggleable__control sk-hidden--visually\" id=\"sk-estimator-id-20\" type=\"checkbox\" ><label for=\"sk-estimator-id-20\" class=\"sk-toggleable__label sk-toggleable__label-arrow\">GridSearchCV</label><div class=\"sk-toggleable__content\"><pre>GridSearchCV(cv=5,\n",
              "             estimator=Pipeline(steps=[(&#x27;smote&#x27;, SMOTE()),\n",
              "                                       (&#x27;knnmodel&#x27;,\n",
              "                                        StackingClassifier(estimators=[(&#x27;knn1&#x27;,\n",
              "                                                                        KNeighborsClassifier())]))]),\n",
              "             n_jobs=-1,\n",
              "             param_grid={&#x27;knnmodel__knn1__n_neighbors&#x27;: [100, 150, 200, 250,\n",
              "                                                         300],\n",
              "                         &#x27;knnmodel__knn1__p&#x27;: [1, 2, 3, 4, 5]},\n",
              "             scoring=&#x27;roc_auc&#x27;)</pre></div></div></div><div class=\"sk-parallel\"><div class=\"sk-parallel-item\"><div class=\"sk-item\"><div class=\"sk-label-container\"><div class=\"sk-label sk-toggleable\"><input class=\"sk-toggleable__control sk-hidden--visually\" id=\"sk-estimator-id-21\" type=\"checkbox\" ><label for=\"sk-estimator-id-21\" class=\"sk-toggleable__label sk-toggleable__label-arrow\">estimator: Pipeline</label><div class=\"sk-toggleable__content\"><pre>Pipeline(steps=[(&#x27;smote&#x27;, SMOTE()),\n",
              "                (&#x27;knnmodel&#x27;,\n",
              "                 StackingClassifier(estimators=[(&#x27;knn1&#x27;,\n",
              "                                                 KNeighborsClassifier())]))])</pre></div></div></div><div class=\"sk-serial\"><div class=\"sk-item\"><div class=\"sk-serial\"><div class=\"sk-item\"><div class=\"sk-estimator sk-toggleable\"><input class=\"sk-toggleable__control sk-hidden--visually\" id=\"sk-estimator-id-22\" type=\"checkbox\" ><label for=\"sk-estimator-id-22\" class=\"sk-toggleable__label sk-toggleable__label-arrow\">SMOTE</label><div class=\"sk-toggleable__content\"><pre>SMOTE()</pre></div></div></div><div class=\"sk-item\"><div class=\"sk-label-container\"><div class=\"sk-label sk-toggleable\"><input class=\"sk-toggleable__control sk-hidden--visually\" id=\"sk-estimator-id-23\" type=\"checkbox\" ><label for=\"sk-estimator-id-23\" class=\"sk-toggleable__label sk-toggleable__label-arrow\">knnmodel: StackingClassifier</label><div class=\"sk-toggleable__content\"><pre>StackingClassifier(estimators=[(&#x27;knn1&#x27;, KNeighborsClassifier())])</pre></div></div></div><div class=\"sk-serial\"><div class=\"sk-item\"><div class=\"sk-parallel\"><div class=\"sk-parallel-item\"><div class=\"sk-item\"><div class=\"sk-label-container\"><div class=\"sk-label sk-toggleable\"><label>knn1</label></div></div><div class=\"sk-serial\"><div class=\"sk-item\"><div class=\"sk-estimator sk-toggleable\"><input class=\"sk-toggleable__control sk-hidden--visually\" id=\"sk-estimator-id-24\" type=\"checkbox\" ><label for=\"sk-estimator-id-24\" class=\"sk-toggleable__label sk-toggleable__label-arrow\">KNeighborsClassifier</label><div class=\"sk-toggleable__content\"><pre>KNeighborsClassifier()</pre></div></div></div></div></div></div></div></div><div class=\"sk-item\"><div class=\"sk-parallel\"><div class=\"sk-parallel-item\"><div class=\"sk-item\"><div class=\"sk-label-container\"><div class=\"sk-label sk-toggleable\"><label>final_estimator</label></div></div><div class=\"sk-serial\"><div class=\"sk-item\"><div class=\"sk-estimator sk-toggleable\"><input class=\"sk-toggleable__control sk-hidden--visually\" id=\"sk-estimator-id-25\" type=\"checkbox\" ><label for=\"sk-estimator-id-25\" class=\"sk-toggleable__label sk-toggleable__label-arrow\">LogisticRegression</label><div class=\"sk-toggleable__content\"><pre>LogisticRegression()</pre></div></div></div></div></div></div></div></div></div></div></div></div></div></div></div></div></div></div></div>"
            ],
            "text/plain": [
              "GridSearchCV(cv=5,\n",
              "             estimator=Pipeline(steps=[('smote', SMOTE()),\n",
              "                                       ('knnmodel',\n",
              "                                        StackingClassifier(estimators=[('knn1',\n",
              "                                                                        KNeighborsClassifier())]))]),\n",
              "             n_jobs=-1,\n",
              "             param_grid={'knnmodel__knn1__n_neighbors': [100, 150, 200, 250,\n",
              "                                                         300],\n",
              "                         'knnmodel__knn1__p': [1, 2, 3, 4, 5]},\n",
              "             scoring='roc_auc')"
            ]
          },
          "execution_count": 71,
          "metadata": {},
          "output_type": "execute_result"
        }
      ],
      "source": [
        "# Doing hyperparameter tuning to get a better score\n",
        "knn_grid = {'knnmodel__knn1__n_neighbors': [100, 150, 200, 250, 300],\n",
        "            'knnmodel__knn1__p': [1, 2, 3, 4, 5]}\n",
        "\n",
        "knn_search = GridSearchCV(estimator=knnpl,\n",
        "                          param_grid=knn_grid,\n",
        "                          scoring='roc_auc',\n",
        "                          cv=5,\n",
        "                          n_jobs=-1)\n",
        "\n",
        "knn_search.fit(X_train_tf, y_train)"
      ]
    },
    {
      "cell_type": "code",
      "execution_count": null,
      "metadata": {
        "colab": {
          "base_uri": "https://localhost:8080/",
          "height": 35
        },
        "id": "bLSj15xJ-P2W",
        "outputId": "f9665726-380c-4673-d179-9013757a94c8"
      },
      "outputs": [
        {
          "data": {
            "text/plain": [
              "{'knnmodel__knn1__n_neighbors': 100, 'knnmodel__knn1__p': 1}"
            ]
          },
          "metadata": {},
          "output_type": "display_data"
        }
      ],
      "source": [
        "# Best params seem to be n_neighbors at 100 and p at 1\n",
        "display(knn_search.best_params_)"
      ]
    },
    {
      "cell_type": "code",
      "execution_count": null,
      "metadata": {
        "colab": {
          "base_uri": "https://localhost:8080/",
          "height": 74
        },
        "id": "ga1XULKtvwy3",
        "outputId": "bf3f977e-d61a-4dad-ddb3-246c4302e6d2"
      },
      "outputs": [
        {
          "output_type": "execute_result",
          "data": {
            "text/plain": [
              "KNeighborsClassifier(n_neighbors=50, p=1)"
            ],
            "text/html": [
              "<style>#sk-container-id-4 {color: black;background-color: white;}#sk-container-id-4 pre{padding: 0;}#sk-container-id-4 div.sk-toggleable {background-color: white;}#sk-container-id-4 label.sk-toggleable__label {cursor: pointer;display: block;width: 100%;margin-bottom: 0;padding: 0.3em;box-sizing: border-box;text-align: center;}#sk-container-id-4 label.sk-toggleable__label-arrow:before {content: \"▸\";float: left;margin-right: 0.25em;color: #696969;}#sk-container-id-4 label.sk-toggleable__label-arrow:hover:before {color: black;}#sk-container-id-4 div.sk-estimator:hover label.sk-toggleable__label-arrow:before {color: black;}#sk-container-id-4 div.sk-toggleable__content {max-height: 0;max-width: 0;overflow: hidden;text-align: left;background-color: #f0f8ff;}#sk-container-id-4 div.sk-toggleable__content pre {margin: 0.2em;color: black;border-radius: 0.25em;background-color: #f0f8ff;}#sk-container-id-4 input.sk-toggleable__control:checked~div.sk-toggleable__content {max-height: 200px;max-width: 100%;overflow: auto;}#sk-container-id-4 input.sk-toggleable__control:checked~label.sk-toggleable__label-arrow:before {content: \"▾\";}#sk-container-id-4 div.sk-estimator input.sk-toggleable__control:checked~label.sk-toggleable__label {background-color: #d4ebff;}#sk-container-id-4 div.sk-label input.sk-toggleable__control:checked~label.sk-toggleable__label {background-color: #d4ebff;}#sk-container-id-4 input.sk-hidden--visually {border: 0;clip: rect(1px 1px 1px 1px);clip: rect(1px, 1px, 1px, 1px);height: 1px;margin: -1px;overflow: hidden;padding: 0;position: absolute;width: 1px;}#sk-container-id-4 div.sk-estimator {font-family: monospace;background-color: #f0f8ff;border: 1px dotted black;border-radius: 0.25em;box-sizing: border-box;margin-bottom: 0.5em;}#sk-container-id-4 div.sk-estimator:hover {background-color: #d4ebff;}#sk-container-id-4 div.sk-parallel-item::after {content: \"\";width: 100%;border-bottom: 1px solid gray;flex-grow: 1;}#sk-container-id-4 div.sk-label:hover label.sk-toggleable__label {background-color: #d4ebff;}#sk-container-id-4 div.sk-serial::before {content: \"\";position: absolute;border-left: 1px solid gray;box-sizing: border-box;top: 0;bottom: 0;left: 50%;z-index: 0;}#sk-container-id-4 div.sk-serial {display: flex;flex-direction: column;align-items: center;background-color: white;padding-right: 0.2em;padding-left: 0.2em;position: relative;}#sk-container-id-4 div.sk-item {position: relative;z-index: 1;}#sk-container-id-4 div.sk-parallel {display: flex;align-items: stretch;justify-content: center;background-color: white;position: relative;}#sk-container-id-4 div.sk-item::before, #sk-container-id-4 div.sk-parallel-item::before {content: \"\";position: absolute;border-left: 1px solid gray;box-sizing: border-box;top: 0;bottom: 0;left: 50%;z-index: -1;}#sk-container-id-4 div.sk-parallel-item {display: flex;flex-direction: column;z-index: 1;position: relative;background-color: white;}#sk-container-id-4 div.sk-parallel-item:first-child::after {align-self: flex-end;width: 50%;}#sk-container-id-4 div.sk-parallel-item:last-child::after {align-self: flex-start;width: 50%;}#sk-container-id-4 div.sk-parallel-item:only-child::after {width: 0;}#sk-container-id-4 div.sk-dashed-wrapped {border: 1px dashed gray;margin: 0 0.4em 0.5em 0.4em;box-sizing: border-box;padding-bottom: 0.4em;background-color: white;}#sk-container-id-4 div.sk-label label {font-family: monospace;font-weight: bold;display: inline-block;line-height: 1.2em;}#sk-container-id-4 div.sk-label-container {text-align: center;}#sk-container-id-4 div.sk-container {/* jupyter's `normalize.less` sets `[hidden] { display: none; }` but bootstrap.min.css set `[hidden] { display: none !important; }` so we also need the `!important` here to be able to override the default hidden behavior on the sphinx rendered scikit-learn.org. See: https://github.com/scikit-learn/scikit-learn/issues/21755 */display: inline-block !important;position: relative;}#sk-container-id-4 div.sk-text-repr-fallback {display: none;}</style><div id=\"sk-container-id-4\" class=\"sk-top-container\"><div class=\"sk-text-repr-fallback\"><pre>KNeighborsClassifier(n_neighbors=50, p=1)</pre><b>In a Jupyter environment, please rerun this cell to show the HTML representation or trust the notebook. <br />On GitHub, the HTML representation is unable to render, please try loading this page with nbviewer.org.</b></div><div class=\"sk-container\" hidden><div class=\"sk-item\"><div class=\"sk-estimator sk-toggleable\"><input class=\"sk-toggleable__control sk-hidden--visually\" id=\"sk-estimator-id-12\" type=\"checkbox\" checked><label for=\"sk-estimator-id-12\" class=\"sk-toggleable__label sk-toggleable__label-arrow\">KNeighborsClassifier</label><div class=\"sk-toggleable__content\"><pre>KNeighborsClassifier(n_neighbors=50, p=1)</pre></div></div></div></div></div>"
            ]
          },
          "metadata": {},
          "execution_count": 59
        }
      ],
      "source": [
        "# Adding the paramters to the KNN without a pipeline\n",
        "kneigh = KNeighborsClassifier(n_neighbors= 50, p=1, weights='uniform')\n",
        "kneigh.fit(X_train_vect, y_train_resampled)"
      ]
    },
    {
      "cell_type": "code",
      "execution_count": null,
      "metadata": {
        "colab": {
          "base_uri": "https://localhost:8080/"
        },
        "id": "gfYNTw6hwFD5",
        "outputId": "68574e66-64be-48f1-c2e7-9df94446fc0d"
      },
      "outputs": [
        {
          "output_type": "stream",
          "name": "stdout",
          "text": [
            "0.6835\n",
            "0.36854791299235745\n"
          ]
        }
      ],
      "source": [
        "# Getting the test and train scores\n",
        "# Has a better test score but there is still overfitting\n",
        "print(kneigh.score(X_test_vect, y_test))\n",
        "print(kneigh.score(X_train_vect, y_train_resampled))"
      ]
    },
    {
      "cell_type": "code",
      "execution_count": null,
      "metadata": {
        "id": "JI8AGBShwTmt",
        "colab": {
          "base_uri": "https://localhost:8080/"
        },
        "outputId": "5e064e8c-58f5-483d-d0c2-476abfb03800"
      },
      "outputs": [
        {
          "output_type": "stream",
          "name": "stdout",
          "text": [
            "              precision    recall  f1-score   support\n",
            "\n",
            "           0       0.20      0.05      0.08       405\n",
            "           1       0.00      0.00      0.00       178\n",
            "           2       0.71      0.95      0.81      1417\n",
            "\n",
            "    accuracy                           0.68      2000\n",
            "   macro avg       0.30      0.33      0.30      2000\n",
            "weighted avg       0.54      0.68      0.59      2000\n",
            "\n"
          ]
        }
      ],
      "source": [
        "# Predicting and creating a classification report for KNN with hyperparamters\n",
        "# The precision score is worse than before\n",
        "y_knn1_pred = kneigh.predict(X_test_vect)\n",
        "print(classification_report(y_test, y_knn1_pred))"
      ]
    },
    {
      "cell_type": "code",
      "source": [
        "# Creating a confusion matrix\n",
        "ConfusionMatrixDisplay.from_estimator(kneigh, X_test_vect, y_test)"
      ],
      "metadata": {
        "colab": {
          "base_uri": "https://localhost:8080/",
          "height": 467
        },
        "id": "7QUmJPsS_A9e",
        "outputId": "123bf873-8aed-4b0e-b164-34c4ef563108"
      },
      "execution_count": null,
      "outputs": [
        {
          "output_type": "execute_result",
          "data": {
            "text/plain": [
              "<sklearn.metrics._plot.confusion_matrix.ConfusionMatrixDisplay at 0x7f9f858f0d60>"
            ]
          },
          "metadata": {},
          "execution_count": 62
        },
        {
          "output_type": "display_data",
          "data": {
            "text/plain": [
              "<Figure size 640x480 with 2 Axes>"
            ],
            "image/png": "[encoded data removed]"
          },
          "metadata": {}
        }
      ]
    },
    {
      "cell_type": "code",
      "source": [
        "# Trying to use a XGB Classifier in  a pipeline and no hyperparameters\n",
        "models = [('xgbc', XGBClassifier())]\n",
        "scxg = StackingClassifier(estimators=models, final_estimator=None)"
      ],
      "metadata": {
        "id": "YaO1mRtN6rNo"
      },
      "execution_count": null,
      "outputs": []
    },
    {
      "cell_type": "code",
      "source": [
        "# Fitting pipline with SMOTE\n",
        "plxg = Pipeline([('smote', SMOTE()), ('modelxg', scxg)])\n",
        "plxg.fit(X_train_tf, y_train)"
      ],
      "metadata": {
        "colab": {
          "base_uri": "https://localhost:8080/",
          "height": 221
        },
        "id": "flEYYB9c60xO",
        "outputId": "a79bc562-88af-4c06-91f7-8d8d5b39f63c"
      },
      "execution_count": null,
      "outputs": [
        {
          "output_type": "execute_result",
          "data": {
            "text/plain": [
              "Pipeline(steps=[('smote', SMOTE()),\n",
              "                ('modelxg',\n",
              "                 StackingClassifier(estimators=[('xgbc',\n",
              "                                                 XGBClassifier(base_score=None,\n",
              "                                                               booster=None,\n",
              "                                                               callbacks=None,\n",
              "                                                               colsample_bylevel=None,\n",
              "                                                               colsample_bynode=None,\n",
              "                                                               colsample_bytree=None,\n",
              "                                                               early_stopping_rounds=None,\n",
              "                                                               enable_categorical=False,\n",
              "                                                               eval_metric=None,\n",
              "                                                               feature_types=None,\n",
              "                                                               gamma=None,\n",
              "                                                               gpu_id=None,\n",
              "                                                               grow_policy=None,\n",
              "                                                               importance_type=None,\n",
              "                                                               interaction_constraints=None,\n",
              "                                                               learning_rate=None,\n",
              "                                                               max_bin=None,\n",
              "                                                               max_cat_threshold=None,\n",
              "                                                               max_cat_to_onehot=None,\n",
              "                                                               max_delta_step=None,\n",
              "                                                               max_depth=None,\n",
              "                                                               max_leaves=None,\n",
              "                                                               min_child_weight=None,\n",
              "                                                               missing=nan,\n",
              "                                                               monotone_constraints=None,\n",
              "                                                               n_estimators=100,\n",
              "                                                               n_jobs=None,\n",
              "                                                               num_parallel_tree=None,\n",
              "                                                               predictor=None,\n",
              "                                                               random_state=None, ...))]))])"
            ],
            "text/html": [
              "<style>#sk-container-id-5 {color: black;background-color: white;}#sk-container-id-5 pre{padding: 0;}#sk-container-id-5 div.sk-toggleable {background-color: white;}#sk-container-id-5 label.sk-toggleable__label {cursor: pointer;display: block;width: 100%;margin-bottom: 0;padding: 0.3em;box-sizing: border-box;text-align: center;}#sk-container-id-5 label.sk-toggleable__label-arrow:before {content: \"▸\";float: left;margin-right: 0.25em;color: #696969;}#sk-container-id-5 label.sk-toggleable__label-arrow:hover:before {color: black;}#sk-container-id-5 div.sk-estimator:hover label.sk-toggleable__label-arrow:before {color: black;}#sk-container-id-5 div.sk-toggleable__content {max-height: 0;max-width: 0;overflow: hidden;text-align: left;background-color: #f0f8ff;}#sk-container-id-5 div.sk-toggleable__content pre {margin: 0.2em;color: black;border-radius: 0.25em;background-color: #f0f8ff;}#sk-container-id-5 input.sk-toggleable__control:checked~div.sk-toggleable__content {max-height: 200px;max-width: 100%;overflow: auto;}#sk-container-id-5 input.sk-toggleable__control:checked~label.sk-toggleable__label-arrow:before {content: \"▾\";}#sk-container-id-5 div.sk-estimator input.sk-toggleable__control:checked~label.sk-toggleable__label {background-color: #d4ebff;}#sk-container-id-5 div.sk-label input.sk-toggleable__control:checked~label.sk-toggleable__label {background-color: #d4ebff;}#sk-container-id-5 input.sk-hidden--visually {border: 0;clip: rect(1px 1px 1px 1px);clip: rect(1px, 1px, 1px, 1px);height: 1px;margin: -1px;overflow: hidden;padding: 0;position: absolute;width: 1px;}#sk-container-id-5 div.sk-estimator {font-family: monospace;background-color: #f0f8ff;border: 1px dotted black;border-radius: 0.25em;box-sizing: border-box;margin-bottom: 0.5em;}#sk-container-id-5 div.sk-estimator:hover {background-color: #d4ebff;}#sk-container-id-5 div.sk-parallel-item::after {content: \"\";width: 100%;border-bottom: 1px solid gray;flex-grow: 1;}#sk-container-id-5 div.sk-label:hover label.sk-toggleable__label {background-color: #d4ebff;}#sk-container-id-5 div.sk-serial::before {content: \"\";position: absolute;border-left: 1px solid gray;box-sizing: border-box;top: 0;bottom: 0;left: 50%;z-index: 0;}#sk-container-id-5 div.sk-serial {display: flex;flex-direction: column;align-items: center;background-color: white;padding-right: 0.2em;padding-left: 0.2em;position: relative;}#sk-container-id-5 div.sk-item {position: relative;z-index: 1;}#sk-container-id-5 div.sk-parallel {display: flex;align-items: stretch;justify-content: center;background-color: white;position: relative;}#sk-container-id-5 div.sk-item::before, #sk-container-id-5 div.sk-parallel-item::before {content: \"\";position: absolute;border-left: 1px solid gray;box-sizing: border-box;top: 0;bottom: 0;left: 50%;z-index: -1;}#sk-container-id-5 div.sk-parallel-item {display: flex;flex-direction: column;z-index: 1;position: relative;background-color: white;}#sk-container-id-5 div.sk-parallel-item:first-child::after {align-self: flex-end;width: 50%;}#sk-container-id-5 div.sk-parallel-item:last-child::after {align-self: flex-start;width: 50%;}#sk-container-id-5 div.sk-parallel-item:only-child::after {width: 0;}#sk-container-id-5 div.sk-dashed-wrapped {border: 1px dashed gray;margin: 0 0.4em 0.5em 0.4em;box-sizing: border-box;padding-bottom: 0.4em;background-color: white;}#sk-container-id-5 div.sk-label label {font-family: monospace;font-weight: bold;display: inline-block;line-height: 1.2em;}#sk-container-id-5 div.sk-label-container {text-align: center;}#sk-container-id-5 div.sk-container {/* jupyter's `normalize.less` sets `[hidden] { display: none; }` but bootstrap.min.css set `[hidden] { display: none !important; }` so we also need the `!important` here to be able to override the default hidden behavior on the sphinx rendered scikit-learn.org. See: https://github.com/scikit-learn/scikit-learn/issues/21755 */display: inline-block !important;position: relative;}#sk-container-id-5 div.sk-text-repr-fallback {display: none;}</style><div id=\"sk-container-id-5\" class=\"sk-top-container\"><div class=\"sk-text-repr-fallback\"><pre>Pipeline(steps=[(&#x27;smote&#x27;, SMOTE()),\n",
              "                (&#x27;modelxg&#x27;,\n",
              "                 StackingClassifier(estimators=[(&#x27;xgbc&#x27;,\n",
              "                                                 XGBClassifier(base_score=None,\n",
              "                                                               booster=None,\n",
              "                                                               callbacks=None,\n",
              "                                                               colsample_bylevel=None,\n",
              "                                                               colsample_bynode=None,\n",
              "                                                               colsample_bytree=None,\n",
              "                                                               early_stopping_rounds=None,\n",
              "                                                               enable_categorical=False,\n",
              "                                                               eval_metric=None,\n",
              "                                                               feature_types=None,\n",
              "                                                               gamma=None,\n",
              "                                                               gpu_id=None,\n",
              "                                                               grow_policy=None,\n",
              "                                                               importance_type=None,\n",
              "                                                               interaction_constraints=None,\n",
              "                                                               learning_rate=None,\n",
              "                                                               max_bin=None,\n",
              "                                                               max_cat_threshold=None,\n",
              "                                                               max_cat_to_onehot=None,\n",
              "                                                               max_delta_step=None,\n",
              "                                                               max_depth=None,\n",
              "                                                               max_leaves=None,\n",
              "                                                               min_child_weight=None,\n",
              "                                                               missing=nan,\n",
              "                                                               monotone_constraints=None,\n",
              "                                                               n_estimators=100,\n",
              "                                                               n_jobs=None,\n",
              "                                                               num_parallel_tree=None,\n",
              "                                                               predictor=None,\n",
              "                                                               random_state=None, ...))]))])</pre><b>In a Jupyter environment, please rerun this cell to show the HTML representation or trust the notebook. <br />On GitHub, the HTML representation is unable to render, please try loading this page with nbviewer.org.</b></div><div class=\"sk-container\" hidden><div class=\"sk-item sk-dashed-wrapped\"><div class=\"sk-label-container\"><div class=\"sk-label sk-toggleable\"><input class=\"sk-toggleable__control sk-hidden--visually\" id=\"sk-estimator-id-13\" type=\"checkbox\" ><label for=\"sk-estimator-id-13\" class=\"sk-toggleable__label sk-toggleable__label-arrow\">Pipeline</label><div class=\"sk-toggleable__content\"><pre>Pipeline(steps=[(&#x27;smote&#x27;, SMOTE()),\n",
              "                (&#x27;modelxg&#x27;,\n",
              "                 StackingClassifier(estimators=[(&#x27;xgbc&#x27;,\n",
              "                                                 XGBClassifier(base_score=None,\n",
              "                                                               booster=None,\n",
              "                                                               callbacks=None,\n",
              "                                                               colsample_bylevel=None,\n",
              "                                                               colsample_bynode=None,\n",
              "                                                               colsample_bytree=None,\n",
              "                                                               early_stopping_rounds=None,\n",
              "                                                               enable_categorical=False,\n",
              "                                                               eval_metric=None,\n",
              "                                                               feature_types=None,\n",
              "                                                               gamma=None,\n",
              "                                                               gpu_id=None,\n",
              "                                                               grow_policy=None,\n",
              "                                                               importance_type=None,\n",
              "                                                               interaction_constraints=None,\n",
              "                                                               learning_rate=None,\n",
              "                                                               max_bin=None,\n",
              "                                                               max_cat_threshold=None,\n",
              "                                                               max_cat_to_onehot=None,\n",
              "                                                               max_delta_step=None,\n",
              "                                                               max_depth=None,\n",
              "                                                               max_leaves=None,\n",
              "                                                               min_child_weight=None,\n",
              "                                                               missing=nan,\n",
              "                                                               monotone_constraints=None,\n",
              "                                                               n_estimators=100,\n",
              "                                                               n_jobs=None,\n",
              "                                                               num_parallel_tree=None,\n",
              "                                                               predictor=None,\n",
              "                                                               random_state=None, ...))]))])</pre></div></div></div><div class=\"sk-serial\"><div class=\"sk-item\"><div class=\"sk-estimator sk-toggleable\"><input class=\"sk-toggleable__control sk-hidden--visually\" id=\"sk-estimator-id-14\" type=\"checkbox\" ><label for=\"sk-estimator-id-14\" class=\"sk-toggleable__label sk-toggleable__label-arrow\">SMOTE</label><div class=\"sk-toggleable__content\"><pre>SMOTE()</pre></div></div></div><div class=\"sk-item\"><div class=\"sk-label-container\"><div class=\"sk-label sk-toggleable\"><input class=\"sk-toggleable__control sk-hidden--visually\" id=\"sk-estimator-id-15\" type=\"checkbox\" ><label for=\"sk-estimator-id-15\" class=\"sk-toggleable__label sk-toggleable__label-arrow\">modelxg: StackingClassifier</label><div class=\"sk-toggleable__content\"><pre>StackingClassifier(estimators=[(&#x27;xgbc&#x27;,\n",
              "                                XGBClassifier(base_score=None, booster=None,\n",
              "                                              callbacks=None,\n",
              "                                              colsample_bylevel=None,\n",
              "                                              colsample_bynode=None,\n",
              "                                              colsample_bytree=None,\n",
              "                                              early_stopping_rounds=None,\n",
              "                                              enable_categorical=False,\n",
              "                                              eval_metric=None,\n",
              "                                              feature_types=None, gamma=None,\n",
              "                                              gpu_id=None, grow_policy=None,\n",
              "                                              importance_type=None,\n",
              "                                              interaction_constraints=None,\n",
              "                                              learning_rate=None, max_bin=None,\n",
              "                                              max_cat_threshold=None,\n",
              "                                              max_cat_to_onehot=None,\n",
              "                                              max_delta_step=None,\n",
              "                                              max_depth=None, max_leaves=None,\n",
              "                                              min_child_weight=None,\n",
              "                                              missing=nan,\n",
              "                                              monotone_constraints=None,\n",
              "                                              n_estimators=100, n_jobs=None,\n",
              "                                              num_parallel_tree=None,\n",
              "                                              predictor=None, random_state=None, ...))])</pre></div></div></div><div class=\"sk-serial\"><div class=\"sk-item\"><div class=\"sk-parallel\"><div class=\"sk-parallel-item\"><div class=\"sk-item\"><div class=\"sk-label-container\"><div class=\"sk-label sk-toggleable\"><label>xgbc</label></div></div><div class=\"sk-serial\"><div class=\"sk-item\"><div class=\"sk-estimator sk-toggleable\"><input class=\"sk-toggleable__control sk-hidden--visually\" id=\"sk-estimator-id-16\" type=\"checkbox\" ><label for=\"sk-estimator-id-16\" class=\"sk-toggleable__label sk-toggleable__label-arrow\">XGBClassifier</label><div class=\"sk-toggleable__content\"><pre>XGBClassifier(base_score=None, booster=None, callbacks=None,\n",
              "              colsample_bylevel=None, colsample_bynode=None,\n",
              "              colsample_bytree=None, early_stopping_rounds=None,\n",
              "              enable_categorical=False, eval_metric=None, feature_types=None,\n",
              "              gamma=None, gpu_id=None, grow_policy=None, importance_type=None,\n",
              "              interaction_constraints=None, learning_rate=None, max_bin=None,\n",
              "              max_cat_threshold=None, max_cat_to_onehot=None,\n",
              "              max_delta_step=None, max_depth=None, max_leaves=None,\n",
              "              min_child_weight=None, missing=nan, monotone_constraints=None,\n",
              "              n_estimators=100, n_jobs=None, num_parallel_tree=None,\n",
              "              predictor=None, random_state=None, ...)</pre></div></div></div></div></div></div></div></div><div class=\"sk-item\"><div class=\"sk-parallel\"><div class=\"sk-parallel-item\"><div class=\"sk-item\"><div class=\"sk-label-container\"><div class=\"sk-label sk-toggleable\"><label>final_estimator</label></div></div><div class=\"sk-serial\"><div class=\"sk-item\"><div class=\"sk-estimator sk-toggleable\"><input class=\"sk-toggleable__control sk-hidden--visually\" id=\"sk-estimator-id-17\" type=\"checkbox\" ><label for=\"sk-estimator-id-17\" class=\"sk-toggleable__label sk-toggleable__label-arrow\">LogisticRegression</label><div class=\"sk-toggleable__content\"><pre>LogisticRegression()</pre></div></div></div></div></div></div></div></div></div></div></div></div></div></div>"
            ]
          },
          "metadata": {},
          "execution_count": 65
        }
      ]
    },
    {
      "cell_type": "code",
      "source": [
        "# Getting scores from train and test\n",
        "# There is overfitting\n",
        "print(plxg.score(X_test_tf, y_test))\n",
        "print(plxg.score(X_train_tf, y_train))"
      ],
      "metadata": {
        "colab": {
          "base_uri": "https://localhost:8080/"
        },
        "id": "9P7ou8v06_IA",
        "outputId": "985ef293-38f5-42c4-8503-0b44f72822ff"
      },
      "execution_count": null,
      "outputs": [
        {
          "output_type": "stream",
          "name": "stdout",
          "text": [
            "0.7475\n",
            "0.917375\n"
          ]
        }
      ]
    },
    {
      "cell_type": "code",
      "source": [
        "# Creating a confusion matrix\n",
        "ConfusionMatrixDisplay.from_estimator(plxg, X_test_tf, y_test)"
      ],
      "metadata": {
        "colab": {
          "base_uri": "https://localhost:8080/",
          "height": 467
        },
        "id": "1kfuZQpJcTsD",
        "outputId": "b633c506-e84d-4aa0-da9d-fd1b02dfd146"
      },
      "execution_count": null,
      "outputs": [
        {
          "output_type": "execute_result",
          "data": {
            "text/plain": [
              "<sklearn.metrics._plot.confusion_matrix.ConfusionMatrixDisplay at 0x7f9f8cdb4910>"
            ]
          },
          "metadata": {},
          "execution_count": 67
        },
        {
          "output_type": "display_data",
          "data": {
            "text/plain": [
              "<Figure size 640x480 with 2 Axes>"
            ],
            "image/png": "[encoded data removed]"
          },
          "metadata": {}
        }
      ]
    },
    {
      "cell_type": "code",
      "source": [
        "# Predicting and creating a classification report from model\n",
        "# Not a bad precision score but not better than the best model\n",
        "xgbpl_predict1 = plxg.predict(X_test_tf)\n",
        "print(classification_report(y_test, xgbpl_predict1))"
      ],
      "metadata": {
        "colab": {
          "base_uri": "https://localhost:8080/"
        },
        "id": "Sq4OaGSbc5hx",
        "outputId": "d1e2e696-4697-48b8-d214-bf91715771f1"
      },
      "execution_count": null,
      "outputs": [
        {
          "output_type": "stream",
          "name": "stdout",
          "text": [
            "              precision    recall  f1-score   support\n",
            "\n",
            "           0       0.61      0.65      0.63       405\n",
            "           1       0.22      0.22      0.22       178\n",
            "           2       0.86      0.84      0.85      1417\n",
            "\n",
            "    accuracy                           0.75      2000\n",
            "   macro avg       0.56      0.57      0.57      2000\n",
            "weighted avg       0.75      0.75      0.75      2000\n",
            "\n"
          ]
        }
      ]
    },
    {
      "cell_type": "code",
      "source": [
        "# Adding hyperparmaters to XGB classifier model to imporve score and fix class imbalance\n",
        "pl_grid_xgb1 = {'modelxg__xgbc__max_depth': [1, 2, 3, 4, 5],\n",
        "            'modelxg__xgbc__max_leaves': [0, 1, 2, 3, 4]}\n",
        "\n",
        "pl_search_xgb1 = GridSearchCV(estimator=plxg,\n",
        "                         param_grid=pl_grid_xgb1,\n",
        "                         scoring='roc_auc',\n",
        "                         cv=5,\n",
        "                         n_jobs=-1)\n",
        "\n",
        "pl_search_xgb1.fit(X_train_tf, y_train)"
      ],
      "metadata": {
        "colab": {
          "base_uri": "https://localhost:8080/",
          "height": 247
        },
        "id": "1z_KJ6ba89OD",
        "outputId": "798de1c8-8cb5-4c19-da32-5ebf2d0b1431"
      },
      "execution_count": null,
      "outputs": [
        {
          "output_type": "execute_result",
          "data": {
            "text/plain": [
              "GridSearchCV(cv=5,\n",
              "             estimator=Pipeline(steps=[('smote', SMOTE()),\n",
              "                                       ('modelxg',\n",
              "                                        StackingClassifier(estimators=[('xgbc',\n",
              "                                                                        XGBClassifier(base_score=None,\n",
              "                                                                                      booster=None,\n",
              "                                                                                      callbacks=None,\n",
              "                                                                                      colsample_bylevel=None,\n",
              "                                                                                      colsample_bynode=None,\n",
              "                                                                                      colsample_bytree=None,\n",
              "                                                                                      early_stopping_rounds=None,\n",
              "                                                                                      enable_categorical=False,\n",
              "                                                                                      eval_metric=None,\n",
              "                                                                                      feature_types=None,\n",
              "                                                                                      gamma=None,\n",
              "                                                                                      gpu_id=None,\n",
              "                                                                                      gr...\n",
              "                                                                                      max_cat_to_onehot=None,\n",
              "                                                                                      max_delta_step=None,\n",
              "                                                                                      max_depth=None,\n",
              "                                                                                      max_leaves=None,\n",
              "                                                                                      min_child_weight=None,\n",
              "                                                                                      missing=nan,\n",
              "                                                                                      monotone_constraints=None,\n",
              "                                                                                      n_estimators=100,\n",
              "                                                                                      n_jobs=None,\n",
              "                                                                                      num_parallel_tree=None,\n",
              "                                                                                      predictor=None,\n",
              "                                                                                      random_state=None, ...))]))]),\n",
              "             n_jobs=-1,\n",
              "             param_grid={'modelxg__xgbc__max_depth': [1, 2, 3, 4, 5],\n",
              "                         'modelxg__xgbc__max_leaves': [0, 1, 2, 3, 4]},\n",
              "             scoring='roc_auc')"
            ],
            "text/html": [
              "<style>#sk-container-id-12 {color: black;background-color: white;}#sk-container-id-12 pre{padding: 0;}#sk-container-id-12 div.sk-toggleable {background-color: white;}#sk-container-id-12 label.sk-toggleable__label {cursor: pointer;display: block;width: 100%;margin-bottom: 0;padding: 0.3em;box-sizing: border-box;text-align: center;}#sk-container-id-12 label.sk-toggleable__label-arrow:before {content: \"▸\";float: left;margin-right: 0.25em;color: #696969;}#sk-container-id-12 label.sk-toggleable__label-arrow:hover:before {color: black;}#sk-container-id-12 div.sk-estimator:hover label.sk-toggleable__label-arrow:before {color: black;}#sk-container-id-12 div.sk-toggleable__content {max-height: 0;max-width: 0;overflow: hidden;text-align: left;background-color: #f0f8ff;}#sk-container-id-12 div.sk-toggleable__content pre {margin: 0.2em;color: black;border-radius: 0.25em;background-color: #f0f8ff;}#sk-container-id-12 input.sk-toggleable__control:checked~div.sk-toggleable__content {max-height: 200px;max-width: 100%;overflow: auto;}#sk-container-id-12 input.sk-toggleable__control:checked~label.sk-toggleable__label-arrow:before {content: \"▾\";}#sk-container-id-12 div.sk-estimator input.sk-toggleable__control:checked~label.sk-toggleable__label {background-color: #d4ebff;}#sk-container-id-12 div.sk-label input.sk-toggleable__control:checked~label.sk-toggleable__label {background-color: #d4ebff;}#sk-container-id-12 input.sk-hidden--visually {border: 0;clip: rect(1px 1px 1px 1px);clip: rect(1px, 1px, 1px, 1px);height: 1px;margin: -1px;overflow: hidden;padding: 0;position: absolute;width: 1px;}#sk-container-id-12 div.sk-estimator {font-family: monospace;background-color: #f0f8ff;border: 1px dotted black;border-radius: 0.25em;box-sizing: border-box;margin-bottom: 0.5em;}#sk-container-id-12 div.sk-estimator:hover {background-color: #d4ebff;}#sk-container-id-12 div.sk-parallel-item::after {content: \"\";width: 100%;border-bottom: 1px solid gray;flex-grow: 1;}#sk-container-id-12 div.sk-label:hover label.sk-toggleable__label {background-color: #d4ebff;}#sk-container-id-12 div.sk-serial::before {content: \"\";position: absolute;border-left: 1px solid gray;box-sizing: border-box;top: 0;bottom: 0;left: 50%;z-index: 0;}#sk-container-id-12 div.sk-serial {display: flex;flex-direction: column;align-items: center;background-color: white;padding-right: 0.2em;padding-left: 0.2em;position: relative;}#sk-container-id-12 div.sk-item {position: relative;z-index: 1;}#sk-container-id-12 div.sk-parallel {display: flex;align-items: stretch;justify-content: center;background-color: white;position: relative;}#sk-container-id-12 div.sk-item::before, #sk-container-id-12 div.sk-parallel-item::before {content: \"\";position: absolute;border-left: 1px solid gray;box-sizing: border-box;top: 0;bottom: 0;left: 50%;z-index: -1;}#sk-container-id-12 div.sk-parallel-item {display: flex;flex-direction: column;z-index: 1;position: relative;background-color: white;}#sk-container-id-12 div.sk-parallel-item:first-child::after {align-self: flex-end;width: 50%;}#sk-container-id-12 div.sk-parallel-item:last-child::after {align-self: flex-start;width: 50%;}#sk-container-id-12 div.sk-parallel-item:only-child::after {width: 0;}#sk-container-id-12 div.sk-dashed-wrapped {border: 1px dashed gray;margin: 0 0.4em 0.5em 0.4em;box-sizing: border-box;padding-bottom: 0.4em;background-color: white;}#sk-container-id-12 div.sk-label label {font-family: monospace;font-weight: bold;display: inline-block;line-height: 1.2em;}#sk-container-id-12 div.sk-label-container {text-align: center;}#sk-container-id-12 div.sk-container {/* jupyter's `normalize.less` sets `[hidden] { display: none; }` but bootstrap.min.css set `[hidden] { display: none !important; }` so we also need the `!important` here to be able to override the default hidden behavior on the sphinx rendered scikit-learn.org. See: https://github.com/scikit-learn/scikit-learn/issues/21755 */display: inline-block !important;position: relative;}#sk-container-id-12 div.sk-text-repr-fallback {display: none;}</style><div id=\"sk-container-id-12\" class=\"sk-top-container\"><div class=\"sk-text-repr-fallback\"><pre>GridSearchCV(cv=5,\n",
              "             estimator=Pipeline(steps=[(&#x27;smote&#x27;, SMOTE()),\n",
              "                                       (&#x27;modelxg&#x27;,\n",
              "                                        StackingClassifier(estimators=[(&#x27;xgbc&#x27;,\n",
              "                                                                        XGBClassifier(base_score=None,\n",
              "                                                                                      booster=None,\n",
              "                                                                                      callbacks=None,\n",
              "                                                                                      colsample_bylevel=None,\n",
              "                                                                                      colsample_bynode=None,\n",
              "                                                                                      colsample_bytree=None,\n",
              "                                                                                      early_stopping_rounds=None,\n",
              "                                                                                      enable_categorical=False,\n",
              "                                                                                      eval_metric=None,\n",
              "                                                                                      feature_types=None,\n",
              "                                                                                      gamma=None,\n",
              "                                                                                      gpu_id=None,\n",
              "                                                                                      gr...\n",
              "                                                                                      max_cat_to_onehot=None,\n",
              "                                                                                      max_delta_step=None,\n",
              "                                                                                      max_depth=None,\n",
              "                                                                                      max_leaves=None,\n",
              "                                                                                      min_child_weight=None,\n",
              "                                                                                      missing=nan,\n",
              "                                                                                      monotone_constraints=None,\n",
              "                                                                                      n_estimators=100,\n",
              "                                                                                      n_jobs=None,\n",
              "                                                                                      num_parallel_tree=None,\n",
              "                                                                                      predictor=None,\n",
              "                                                                                      random_state=None, ...))]))]),\n",
              "             n_jobs=-1,\n",
              "             param_grid={&#x27;modelxg__xgbc__max_depth&#x27;: [1, 2, 3, 4, 5],\n",
              "                         &#x27;modelxg__xgbc__max_leaves&#x27;: [0, 1, 2, 3, 4]},\n",
              "             scoring=&#x27;roc_auc&#x27;)</pre><b>In a Jupyter environment, please rerun this cell to show the HTML representation or trust the notebook. <br />On GitHub, the HTML representation is unable to render, please try loading this page with nbviewer.org.</b></div><div class=\"sk-container\" hidden><div class=\"sk-item sk-dashed-wrapped\"><div class=\"sk-label-container\"><div class=\"sk-label sk-toggleable\"><input class=\"sk-toggleable__control sk-hidden--visually\" id=\"sk-estimator-id-33\" type=\"checkbox\" ><label for=\"sk-estimator-id-33\" class=\"sk-toggleable__label sk-toggleable__label-arrow\">GridSearchCV</label><div class=\"sk-toggleable__content\"><pre>GridSearchCV(cv=5,\n",
              "             estimator=Pipeline(steps=[(&#x27;smote&#x27;, SMOTE()),\n",
              "                                       (&#x27;modelxg&#x27;,\n",
              "                                        StackingClassifier(estimators=[(&#x27;xgbc&#x27;,\n",
              "                                                                        XGBClassifier(base_score=None,\n",
              "                                                                                      booster=None,\n",
              "                                                                                      callbacks=None,\n",
              "                                                                                      colsample_bylevel=None,\n",
              "                                                                                      colsample_bynode=None,\n",
              "                                                                                      colsample_bytree=None,\n",
              "                                                                                      early_stopping_rounds=None,\n",
              "                                                                                      enable_categorical=False,\n",
              "                                                                                      eval_metric=None,\n",
              "                                                                                      feature_types=None,\n",
              "                                                                                      gamma=None,\n",
              "                                                                                      gpu_id=None,\n",
              "                                                                                      gr...\n",
              "                                                                                      max_cat_to_onehot=None,\n",
              "                                                                                      max_delta_step=None,\n",
              "                                                                                      max_depth=None,\n",
              "                                                                                      max_leaves=None,\n",
              "                                                                                      min_child_weight=None,\n",
              "                                                                                      missing=nan,\n",
              "                                                                                      monotone_constraints=None,\n",
              "                                                                                      n_estimators=100,\n",
              "                                                                                      n_jobs=None,\n",
              "                                                                                      num_parallel_tree=None,\n",
              "                                                                                      predictor=None,\n",
              "                                                                                      random_state=None, ...))]))]),\n",
              "             n_jobs=-1,\n",
              "             param_grid={&#x27;modelxg__xgbc__max_depth&#x27;: [1, 2, 3, 4, 5],\n",
              "                         &#x27;modelxg__xgbc__max_leaves&#x27;: [0, 1, 2, 3, 4]},\n",
              "             scoring=&#x27;roc_auc&#x27;)</pre></div></div></div><div class=\"sk-parallel\"><div class=\"sk-parallel-item\"><div class=\"sk-item\"><div class=\"sk-label-container\"><div class=\"sk-label sk-toggleable\"><input class=\"sk-toggleable__control sk-hidden--visually\" id=\"sk-estimator-id-34\" type=\"checkbox\" ><label for=\"sk-estimator-id-34\" class=\"sk-toggleable__label sk-toggleable__label-arrow\">estimator: Pipeline</label><div class=\"sk-toggleable__content\"><pre>Pipeline(steps=[(&#x27;smote&#x27;, SMOTE()),\n",
              "                (&#x27;modelxg&#x27;,\n",
              "                 StackingClassifier(estimators=[(&#x27;xgbc&#x27;,\n",
              "                                                 XGBClassifier(base_score=None,\n",
              "                                                               booster=None,\n",
              "                                                               callbacks=None,\n",
              "                                                               colsample_bylevel=None,\n",
              "                                                               colsample_bynode=None,\n",
              "                                                               colsample_bytree=None,\n",
              "                                                               early_stopping_rounds=None,\n",
              "                                                               enable_categorical=False,\n",
              "                                                               eval_metric=None,\n",
              "                                                               feature_types=None,\n",
              "                                                               gamma=None,\n",
              "                                                               gpu_id=None,\n",
              "                                                               grow_policy=None,\n",
              "                                                               importance_type=None,\n",
              "                                                               interaction_constraints=None,\n",
              "                                                               learning_rate=None,\n",
              "                                                               max_bin=None,\n",
              "                                                               max_cat_threshold=None,\n",
              "                                                               max_cat_to_onehot=None,\n",
              "                                                               max_delta_step=None,\n",
              "                                                               max_depth=None,\n",
              "                                                               max_leaves=None,\n",
              "                                                               min_child_weight=None,\n",
              "                                                               missing=nan,\n",
              "                                                               monotone_constraints=None,\n",
              "                                                               n_estimators=100,\n",
              "                                                               n_jobs=None,\n",
              "                                                               num_parallel_tree=None,\n",
              "                                                               predictor=None,\n",
              "                                                               random_state=None, ...))]))])</pre></div></div></div><div class=\"sk-serial\"><div class=\"sk-item\"><div class=\"sk-serial\"><div class=\"sk-item\"><div class=\"sk-estimator sk-toggleable\"><input class=\"sk-toggleable__control sk-hidden--visually\" id=\"sk-estimator-id-35\" type=\"checkbox\" ><label for=\"sk-estimator-id-35\" class=\"sk-toggleable__label sk-toggleable__label-arrow\">SMOTE</label><div class=\"sk-toggleable__content\"><pre>SMOTE()</pre></div></div></div><div class=\"sk-item\"><div class=\"sk-label-container\"><div class=\"sk-label sk-toggleable\"><input class=\"sk-toggleable__control sk-hidden--visually\" id=\"sk-estimator-id-36\" type=\"checkbox\" ><label for=\"sk-estimator-id-36\" class=\"sk-toggleable__label sk-toggleable__label-arrow\">modelxg: StackingClassifier</label><div class=\"sk-toggleable__content\"><pre>StackingClassifier(estimators=[(&#x27;xgbc&#x27;,\n",
              "                                XGBClassifier(base_score=None, booster=None,\n",
              "                                              callbacks=None,\n",
              "                                              colsample_bylevel=None,\n",
              "                                              colsample_bynode=None,\n",
              "                                              colsample_bytree=None,\n",
              "                                              early_stopping_rounds=None,\n",
              "                                              enable_categorical=False,\n",
              "                                              eval_metric=None,\n",
              "                                              feature_types=None, gamma=None,\n",
              "                                              gpu_id=None, grow_policy=None,\n",
              "                                              importance_type=None,\n",
              "                                              interaction_constraints=None,\n",
              "                                              learning_rate=None, max_bin=None,\n",
              "                                              max_cat_threshold=None,\n",
              "                                              max_cat_to_onehot=None,\n",
              "                                              max_delta_step=None,\n",
              "                                              max_depth=None, max_leaves=None,\n",
              "                                              min_child_weight=None,\n",
              "                                              missing=nan,\n",
              "                                              monotone_constraints=None,\n",
              "                                              n_estimators=100, n_jobs=None,\n",
              "                                              num_parallel_tree=None,\n",
              "                                              predictor=None, random_state=None, ...))])</pre></div></div></div><div class=\"sk-serial\"><div class=\"sk-item\"><div class=\"sk-parallel\"><div class=\"sk-parallel-item\"><div class=\"sk-item\"><div class=\"sk-label-container\"><div class=\"sk-label sk-toggleable\"><label>xgbc</label></div></div><div class=\"sk-serial\"><div class=\"sk-item\"><div class=\"sk-estimator sk-toggleable\"><input class=\"sk-toggleable__control sk-hidden--visually\" id=\"sk-estimator-id-37\" type=\"checkbox\" ><label for=\"sk-estimator-id-37\" class=\"sk-toggleable__label sk-toggleable__label-arrow\">XGBClassifier</label><div class=\"sk-toggleable__content\"><pre>XGBClassifier(base_score=None, booster=None, callbacks=None,\n",
              "              colsample_bylevel=None, colsample_bynode=None,\n",
              "              colsample_bytree=None, early_stopping_rounds=None,\n",
              "              enable_categorical=False, eval_metric=None, feature_types=None,\n",
              "              gamma=None, gpu_id=None, grow_policy=None, importance_type=None,\n",
              "              interaction_constraints=None, learning_rate=None, max_bin=None,\n",
              "              max_cat_threshold=None, max_cat_to_onehot=None,\n",
              "              max_delta_step=None, max_depth=None, max_leaves=None,\n",
              "              min_child_weight=None, missing=nan, monotone_constraints=None,\n",
              "              n_estimators=100, n_jobs=None, num_parallel_tree=None,\n",
              "              predictor=None, random_state=None, ...)</pre></div></div></div></div></div></div></div></div><div class=\"sk-item\"><div class=\"sk-parallel\"><div class=\"sk-parallel-item\"><div class=\"sk-item\"><div class=\"sk-label-container\"><div class=\"sk-label sk-toggleable\"><label>final_estimator</label></div></div><div class=\"sk-serial\"><div class=\"sk-item\"><div class=\"sk-estimator sk-toggleable\"><input class=\"sk-toggleable__control sk-hidden--visually\" id=\"sk-estimator-id-38\" type=\"checkbox\" ><label for=\"sk-estimator-id-38\" class=\"sk-toggleable__label sk-toggleable__label-arrow\">LogisticRegression</label><div class=\"sk-toggleable__content\"><pre>LogisticRegression()</pre></div></div></div></div></div></div></div></div></div></div></div></div></div></div></div></div></div></div></div>"
            ]
          },
          "metadata": {},
          "execution_count": 92
        }
      ]
    },
    {
      "cell_type": "code",
      "source": [
        "# Best params for XGB classifier is max depth at 1 and max leaves at 0\n",
        "display(pl_search_xgb1.best_params_)"
      ],
      "metadata": {
        "colab": {
          "base_uri": "https://localhost:8080/",
          "height": 35
        },
        "id": "s7QZ-mJJDI3R",
        "outputId": "3454d092-980f-40af-92a5-e05cb0cc9138"
      },
      "execution_count": null,
      "outputs": [
        {
          "output_type": "display_data",
          "data": {
            "text/plain": [
              "{'modelxg__xgbc__max_depth': 1, 'modelxg__xgbc__max_leaves': 0}"
            ]
          },
          "metadata": {}
        }
      ]
    },
    {
      "cell_type": "code",
      "source": [
        "# Adding hyperparamters to the XGB classifier without pipeline\n",
        "xgbclass = XGBClassifier(max_depth= 1, max_leaves= 0)\n",
        "xgbclass.fit(X_train_vect, y_train_resampled)"
      ],
      "metadata": {
        "colab": {
          "base_uri": "https://localhost:8080/",
          "height": 248
        },
        "id": "-Fopq6jDswMr",
        "outputId": "88340463-dde7-433a-e076-e0dd78f46795"
      },
      "execution_count": 103,
      "outputs": [
        {
          "output_type": "execute_result",
          "data": {
            "text/plain": [
              "XGBClassifier(base_score=None, booster=None, callbacks=None,\n",
              "              colsample_bylevel=None, colsample_bynode=None,\n",
              "              colsample_bytree=None, early_stopping_rounds=None,\n",
              "              enable_categorical=False, eval_metric=None, feature_types=None,\n",
              "              gamma=None, gpu_id=None, grow_policy=None, importance_type=None,\n",
              "              interaction_constraints=None, learning_rate=None, max_bin=None,\n",
              "              max_cat_threshold=None, max_cat_to_onehot=None,\n",
              "              max_delta_step=None, max_depth=1, max_leaves=0,\n",
              "              min_child_weight=None, missing=nan, monotone_constraints=None,\n",
              "              n_estimators=100, n_jobs=None, num_parallel_tree=None,\n",
              "              objective='multi:softprob', predictor=None, ...)"
            ],
            "text/html": [
              "<style>#sk-container-id-5 {color: black;background-color: white;}#sk-container-id-5 pre{padding: 0;}#sk-container-id-5 div.sk-toggleable {background-color: white;}#sk-container-id-5 label.sk-toggleable__label {cursor: pointer;display: block;width: 100%;margin-bottom: 0;padding: 0.3em;box-sizing: border-box;text-align: center;}#sk-container-id-5 label.sk-toggleable__label-arrow:before {content: \"▸\";float: left;margin-right: 0.25em;color: #696969;}#sk-container-id-5 label.sk-toggleable__label-arrow:hover:before {color: black;}#sk-container-id-5 div.sk-estimator:hover label.sk-toggleable__label-arrow:before {color: black;}#sk-container-id-5 div.sk-toggleable__content {max-height: 0;max-width: 0;overflow: hidden;text-align: left;background-color: #f0f8ff;}#sk-container-id-5 div.sk-toggleable__content pre {margin: 0.2em;color: black;border-radius: 0.25em;background-color: #f0f8ff;}#sk-container-id-5 input.sk-toggleable__control:checked~div.sk-toggleable__content {max-height: 200px;max-width: 100%;overflow: auto;}#sk-container-id-5 input.sk-toggleable__control:checked~label.sk-toggleable__label-arrow:before {content: \"▾\";}#sk-container-id-5 div.sk-estimator input.sk-toggleable__control:checked~label.sk-toggleable__label {background-color: #d4ebff;}#sk-container-id-5 div.sk-label input.sk-toggleable__control:checked~label.sk-toggleable__label {background-color: #d4ebff;}#sk-container-id-5 input.sk-hidden--visually {border: 0;clip: rect(1px 1px 1px 1px);clip: rect(1px, 1px, 1px, 1px);height: 1px;margin: -1px;overflow: hidden;padding: 0;position: absolute;width: 1px;}#sk-container-id-5 div.sk-estimator {font-family: monospace;background-color: #f0f8ff;border: 1px dotted black;border-radius: 0.25em;box-sizing: border-box;margin-bottom: 0.5em;}#sk-container-id-5 div.sk-estimator:hover {background-color: #d4ebff;}#sk-container-id-5 div.sk-parallel-item::after {content: \"\";width: 100%;border-bottom: 1px solid gray;flex-grow: 1;}#sk-container-id-5 div.sk-label:hover label.sk-toggleable__label {background-color: #d4ebff;}#sk-container-id-5 div.sk-serial::before {content: \"\";position: absolute;border-left: 1px solid gray;box-sizing: border-box;top: 0;bottom: 0;left: 50%;z-index: 0;}#sk-container-id-5 div.sk-serial {display: flex;flex-direction: column;align-items: center;background-color: white;padding-right: 0.2em;padding-left: 0.2em;position: relative;}#sk-container-id-5 div.sk-item {position: relative;z-index: 1;}#sk-container-id-5 div.sk-parallel {display: flex;align-items: stretch;justify-content: center;background-color: white;position: relative;}#sk-container-id-5 div.sk-item::before, #sk-container-id-5 div.sk-parallel-item::before {content: \"\";position: absolute;border-left: 1px solid gray;box-sizing: border-box;top: 0;bottom: 0;left: 50%;z-index: -1;}#sk-container-id-5 div.sk-parallel-item {display: flex;flex-direction: column;z-index: 1;position: relative;background-color: white;}#sk-container-id-5 div.sk-parallel-item:first-child::after {align-self: flex-end;width: 50%;}#sk-container-id-5 div.sk-parallel-item:last-child::after {align-self: flex-start;width: 50%;}#sk-container-id-5 div.sk-parallel-item:only-child::after {width: 0;}#sk-container-id-5 div.sk-dashed-wrapped {border: 1px dashed gray;margin: 0 0.4em 0.5em 0.4em;box-sizing: border-box;padding-bottom: 0.4em;background-color: white;}#sk-container-id-5 div.sk-label label {font-family: monospace;font-weight: bold;display: inline-block;line-height: 1.2em;}#sk-container-id-5 div.sk-label-container {text-align: center;}#sk-container-id-5 div.sk-container {/* jupyter's `normalize.less` sets `[hidden] { display: none; }` but bootstrap.min.css set `[hidden] { display: none !important; }` so we also need the `!important` here to be able to override the default hidden behavior on the sphinx rendered scikit-learn.org. See: https://github.com/scikit-learn/scikit-learn/issues/21755 */display: inline-block !important;position: relative;}#sk-container-id-5 div.sk-text-repr-fallback {display: none;}</style><div id=\"sk-container-id-5\" class=\"sk-top-container\"><div class=\"sk-text-repr-fallback\"><pre>XGBClassifier(base_score=None, booster=None, callbacks=None,\n",
              "              colsample_bylevel=None, colsample_bynode=None,\n",
              "              colsample_bytree=None, early_stopping_rounds=None,\n",
              "              enable_categorical=False, eval_metric=None, feature_types=None,\n",
              "              gamma=None, gpu_id=None, grow_policy=None, importance_type=None,\n",
              "              interaction_constraints=None, learning_rate=None, max_bin=None,\n",
              "              max_cat_threshold=None, max_cat_to_onehot=None,\n",
              "              max_delta_step=None, max_depth=1, max_leaves=0,\n",
              "              min_child_weight=None, missing=nan, monotone_constraints=None,\n",
              "              n_estimators=100, n_jobs=None, num_parallel_tree=None,\n",
              "              objective=&#x27;multi:softprob&#x27;, predictor=None, ...)</pre><b>In a Jupyter environment, please rerun this cell to show the HTML representation or trust the notebook. <br />On GitHub, the HTML representation is unable to render, please try loading this page with nbviewer.org.</b></div><div class=\"sk-container\" hidden><div class=\"sk-item\"><div class=\"sk-estimator sk-toggleable\"><input class=\"sk-toggleable__control sk-hidden--visually\" id=\"sk-estimator-id-5\" type=\"checkbox\" checked><label for=\"sk-estimator-id-5\" class=\"sk-toggleable__label sk-toggleable__label-arrow\">XGBClassifier</label><div class=\"sk-toggleable__content\"><pre>XGBClassifier(base_score=None, booster=None, callbacks=None,\n",
              "              colsample_bylevel=None, colsample_bynode=None,\n",
              "              colsample_bytree=None, early_stopping_rounds=None,\n",
              "              enable_categorical=False, eval_metric=None, feature_types=None,\n",
              "              gamma=None, gpu_id=None, grow_policy=None, importance_type=None,\n",
              "              interaction_constraints=None, learning_rate=None, max_bin=None,\n",
              "              max_cat_threshold=None, max_cat_to_onehot=None,\n",
              "              max_delta_step=None, max_depth=1, max_leaves=0,\n",
              "              min_child_weight=None, missing=nan, monotone_constraints=None,\n",
              "              n_estimators=100, n_jobs=None, num_parallel_tree=None,\n",
              "              objective=&#x27;multi:softprob&#x27;, predictor=None, ...)</pre></div></div></div></div></div>"
            ]
          },
          "metadata": {},
          "execution_count": 103
        }
      ]
    },
    {
      "cell_type": "code",
      "source": [
        "# Getting the scores of the test and train\n",
        "# fixed class imbalance\n",
        "print(xgbclass.score(X_test_vect, y_test))\n",
        "print(xgbclass.score(X_train_vect, y_train_resampled))"
      ],
      "metadata": {
        "colab": {
          "base_uri": "https://localhost:8080/"
        },
        "id": "vHFlsOjZsw7k",
        "outputId": "cbaeb53f-13de-4f9e-b78d-9e5c39b9d998"
      },
      "execution_count": 104,
      "outputs": [
        {
          "output_type": "stream",
          "name": "stdout",
          "text": [
            "0.6595\n",
            "0.6929453262786596\n"
          ]
        }
      ]
    },
    {
      "cell_type": "code",
      "source": [
        "# Creating a confusion matrix and it seems that predicting on class 0 and 1 are not as good as class 2\n",
        "ConfusionMatrixDisplay.from_estimator(xgbclass, X_test_vect, y_test)"
      ],
      "metadata": {
        "colab": {
          "base_uri": "https://localhost:8080/",
          "height": 466
        },
        "id": "tJhhJHnZsxD_",
        "outputId": "cad31268-1505-41d6-e4ab-70f93f0afd94"
      },
      "execution_count": 105,
      "outputs": [
        {
          "output_type": "execute_result",
          "data": {
            "text/plain": [
              "<sklearn.metrics._plot.confusion_matrix.ConfusionMatrixDisplay at 0x7f5450297280>"
            ]
          },
          "metadata": {},
          "execution_count": 105
        },
        {
          "output_type": "display_data",
          "data": {
            "text/plain": [
              "<Figure size 640x480 with 2 Axes>"
            ],
            "image/png": "[encoded data removed]"
          },
          "metadata": {}
        }
      ]
    },
    {
      "cell_type": "code",
      "source": [
        "# Predicting and creating a classification report on model\n",
        "# Precision score seems good but the logistic regression is still the best\n",
        "xgbclass_predict1 = xgbclass.predict(X_test_vect)\n",
        "print(classification_report(y_test, xgbclass_predict1))"
      ],
      "metadata": {
        "colab": {
          "base_uri": "https://localhost:8080/"
        },
        "id": "rDgyv68ZsxLs",
        "outputId": "3eee2264-4a8a-49c0-d22f-5e0d50b3436c"
      },
      "execution_count": 106,
      "outputs": [
        {
          "output_type": "stream",
          "name": "stdout",
          "text": [
            "              precision    recall  f1-score   support\n",
            "\n",
            "           0       0.49      0.68      0.57       405\n",
            "           1       0.21      0.46      0.29       178\n",
            "           2       0.92      0.68      0.78      1417\n",
            "\n",
            "    accuracy                           0.66      2000\n",
            "   macro avg       0.54      0.60      0.55      2000\n",
            "weighted avg       0.77      0.66      0.69      2000\n",
            "\n"
          ]
        }
      ]
    },
    {
      "cell_type": "code",
      "source": [
        "# Fitting a pipeline for random forest model with SMOTE\n",
        "modelrand = [('rfc', RandomForestClassifier())]\n",
        "scrand = StackingClassifier(estimators=modelrand, final_estimator=None)\n",
        "plrand = Pipeline([('smote', SMOTE()), ('modelforest', scrand)])\n",
        "plrand.fit(X_train_tf, y_train)"
      ],
      "metadata": {
        "colab": {
          "base_uri": "https://localhost:8080/",
          "height": 221
        },
        "id": "4B8asbh5-8Ws",
        "outputId": "c7466048-543a-45db-9586-c7cd2d9be6ce"
      },
      "execution_count": null,
      "outputs": [
        {
          "output_type": "execute_result",
          "data": {
            "text/plain": [
              "Pipeline(steps=[('smote', SMOTE()),\n",
              "                ('modelforest',\n",
              "                 StackingClassifier(estimators=[('rfc',\n",
              "                                                 RandomForestClassifier())]))])"
            ],
            "text/html": [
              "<style>#sk-container-id-6 {color: black;background-color: white;}#sk-container-id-6 pre{padding: 0;}#sk-container-id-6 div.sk-toggleable {background-color: white;}#sk-container-id-6 label.sk-toggleable__label {cursor: pointer;display: block;width: 100%;margin-bottom: 0;padding: 0.3em;box-sizing: border-box;text-align: center;}#sk-container-id-6 label.sk-toggleable__label-arrow:before {content: \"▸\";float: left;margin-right: 0.25em;color: #696969;}#sk-container-id-6 label.sk-toggleable__label-arrow:hover:before {color: black;}#sk-container-id-6 div.sk-estimator:hover label.sk-toggleable__label-arrow:before {color: black;}#sk-container-id-6 div.sk-toggleable__content {max-height: 0;max-width: 0;overflow: hidden;text-align: left;background-color: #f0f8ff;}#sk-container-id-6 div.sk-toggleable__content pre {margin: 0.2em;color: black;border-radius: 0.25em;background-color: #f0f8ff;}#sk-container-id-6 input.sk-toggleable__control:checked~div.sk-toggleable__content {max-height: 200px;max-width: 100%;overflow: auto;}#sk-container-id-6 input.sk-toggleable__control:checked~label.sk-toggleable__label-arrow:before {content: \"▾\";}#sk-container-id-6 div.sk-estimator input.sk-toggleable__control:checked~label.sk-toggleable__label {background-color: #d4ebff;}#sk-container-id-6 div.sk-label input.sk-toggleable__control:checked~label.sk-toggleable__label {background-color: #d4ebff;}#sk-container-id-6 input.sk-hidden--visually {border: 0;clip: rect(1px 1px 1px 1px);clip: rect(1px, 1px, 1px, 1px);height: 1px;margin: -1px;overflow: hidden;padding: 0;position: absolute;width: 1px;}#sk-container-id-6 div.sk-estimator {font-family: monospace;background-color: #f0f8ff;border: 1px dotted black;border-radius: 0.25em;box-sizing: border-box;margin-bottom: 0.5em;}#sk-container-id-6 div.sk-estimator:hover {background-color: #d4ebff;}#sk-container-id-6 div.sk-parallel-item::after {content: \"\";width: 100%;border-bottom: 1px solid gray;flex-grow: 1;}#sk-container-id-6 div.sk-label:hover label.sk-toggleable__label {background-color: #d4ebff;}#sk-container-id-6 div.sk-serial::before {content: \"\";position: absolute;border-left: 1px solid gray;box-sizing: border-box;top: 0;bottom: 0;left: 50%;z-index: 0;}#sk-container-id-6 div.sk-serial {display: flex;flex-direction: column;align-items: center;background-color: white;padding-right: 0.2em;padding-left: 0.2em;position: relative;}#sk-container-id-6 div.sk-item {position: relative;z-index: 1;}#sk-container-id-6 div.sk-parallel {display: flex;align-items: stretch;justify-content: center;background-color: white;position: relative;}#sk-container-id-6 div.sk-item::before, #sk-container-id-6 div.sk-parallel-item::before {content: \"\";position: absolute;border-left: 1px solid gray;box-sizing: border-box;top: 0;bottom: 0;left: 50%;z-index: -1;}#sk-container-id-6 div.sk-parallel-item {display: flex;flex-direction: column;z-index: 1;position: relative;background-color: white;}#sk-container-id-6 div.sk-parallel-item:first-child::after {align-self: flex-end;width: 50%;}#sk-container-id-6 div.sk-parallel-item:last-child::after {align-self: flex-start;width: 50%;}#sk-container-id-6 div.sk-parallel-item:only-child::after {width: 0;}#sk-container-id-6 div.sk-dashed-wrapped {border: 1px dashed gray;margin: 0 0.4em 0.5em 0.4em;box-sizing: border-box;padding-bottom: 0.4em;background-color: white;}#sk-container-id-6 div.sk-label label {font-family: monospace;font-weight: bold;display: inline-block;line-height: 1.2em;}#sk-container-id-6 div.sk-label-container {text-align: center;}#sk-container-id-6 div.sk-container {/* jupyter's `normalize.less` sets `[hidden] { display: none; }` but bootstrap.min.css set `[hidden] { display: none !important; }` so we also need the `!important` here to be able to override the default hidden behavior on the sphinx rendered scikit-learn.org. See: https://github.com/scikit-learn/scikit-learn/issues/21755 */display: inline-block !important;position: relative;}#sk-container-id-6 div.sk-text-repr-fallback {display: none;}</style><div id=\"sk-container-id-6\" class=\"sk-top-container\"><div class=\"sk-text-repr-fallback\"><pre>Pipeline(steps=[(&#x27;smote&#x27;, SMOTE()),\n",
              "                (&#x27;modelforest&#x27;,\n",
              "                 StackingClassifier(estimators=[(&#x27;rfc&#x27;,\n",
              "                                                 RandomForestClassifier())]))])</pre><b>In a Jupyter environment, please rerun this cell to show the HTML representation or trust the notebook. <br />On GitHub, the HTML representation is unable to render, please try loading this page with nbviewer.org.</b></div><div class=\"sk-container\" hidden><div class=\"sk-item sk-dashed-wrapped\"><div class=\"sk-label-container\"><div class=\"sk-label sk-toggleable\"><input class=\"sk-toggleable__control sk-hidden--visually\" id=\"sk-estimator-id-18\" type=\"checkbox\" ><label for=\"sk-estimator-id-18\" class=\"sk-toggleable__label sk-toggleable__label-arrow\">Pipeline</label><div class=\"sk-toggleable__content\"><pre>Pipeline(steps=[(&#x27;smote&#x27;, SMOTE()),\n",
              "                (&#x27;modelforest&#x27;,\n",
              "                 StackingClassifier(estimators=[(&#x27;rfc&#x27;,\n",
              "                                                 RandomForestClassifier())]))])</pre></div></div></div><div class=\"sk-serial\"><div class=\"sk-item\"><div class=\"sk-estimator sk-toggleable\"><input class=\"sk-toggleable__control sk-hidden--visually\" id=\"sk-estimator-id-19\" type=\"checkbox\" ><label for=\"sk-estimator-id-19\" class=\"sk-toggleable__label sk-toggleable__label-arrow\">SMOTE</label><div class=\"sk-toggleable__content\"><pre>SMOTE()</pre></div></div></div><div class=\"sk-item\"><div class=\"sk-label-container\"><div class=\"sk-label sk-toggleable\"><input class=\"sk-toggleable__control sk-hidden--visually\" id=\"sk-estimator-id-20\" type=\"checkbox\" ><label for=\"sk-estimator-id-20\" class=\"sk-toggleable__label sk-toggleable__label-arrow\">modelforest: StackingClassifier</label><div class=\"sk-toggleable__content\"><pre>StackingClassifier(estimators=[(&#x27;rfc&#x27;, RandomForestClassifier())])</pre></div></div></div><div class=\"sk-serial\"><div class=\"sk-item\"><div class=\"sk-parallel\"><div class=\"sk-parallel-item\"><div class=\"sk-item\"><div class=\"sk-label-container\"><div class=\"sk-label sk-toggleable\"><label>rfc</label></div></div><div class=\"sk-serial\"><div class=\"sk-item\"><div class=\"sk-estimator sk-toggleable\"><input class=\"sk-toggleable__control sk-hidden--visually\" id=\"sk-estimator-id-21\" type=\"checkbox\" ><label for=\"sk-estimator-id-21\" class=\"sk-toggleable__label sk-toggleable__label-arrow\">RandomForestClassifier</label><div class=\"sk-toggleable__content\"><pre>RandomForestClassifier()</pre></div></div></div></div></div></div></div></div><div class=\"sk-item\"><div class=\"sk-parallel\"><div class=\"sk-parallel-item\"><div class=\"sk-item\"><div class=\"sk-label-container\"><div class=\"sk-label sk-toggleable\"><label>final_estimator</label></div></div><div class=\"sk-serial\"><div class=\"sk-item\"><div class=\"sk-estimator sk-toggleable\"><input class=\"sk-toggleable__control sk-hidden--visually\" id=\"sk-estimator-id-22\" type=\"checkbox\" ><label for=\"sk-estimator-id-22\" class=\"sk-toggleable__label sk-toggleable__label-arrow\">LogisticRegression</label><div class=\"sk-toggleable__content\"><pre>LogisticRegression()</pre></div></div></div></div></div></div></div></div></div></div></div></div></div></div>"
            ]
          },
          "metadata": {},
          "execution_count": 69
        }
      ]
    },
    {
      "cell_type": "code",
      "source": [
        "# Getting the scores of the train and test\n",
        "# There is overfitting and seems like SMOTE is not helping with that\n",
        "print(plrand.score(X_test_tf, y_test))\n",
        "print(plrand.score(X_train_tf, y_train))"
      ],
      "metadata": {
        "colab": {
          "base_uri": "https://localhost:8080/"
        },
        "id": "o3IweypwD572",
        "outputId": "dc0d50c0-7788-4e51-9a3f-bd44e9ee0f60"
      },
      "execution_count": null,
      "outputs": [
        {
          "output_type": "stream",
          "name": "stdout",
          "text": [
            "0.7625\n",
            "0.988125\n"
          ]
        }
      ]
    },
    {
      "cell_type": "code",
      "source": [
        "# Adding hyperparameters to random forest to fix class imbalance and get a better score\n",
        "pl_grid_rand1 = {'modelforest__rfc__n_estimators': [50, 100, 150, 200],\n",
        "          'modelforest__rfc__max_depth': [2, 3, 4, 5, 6, 7]}\n",
        "\n",
        "pl_search_rand1 = GridSearchCV(estimator=plrand,\n",
        "                         param_grid=pl_grid_rand1,\n",
        "                         scoring='roc_auc',\n",
        "                         cv=5,\n",
        "                         n_jobs=-1)\n",
        "pl_search_rand1.fit(X_train_tf, y_train)"
      ],
      "metadata": {
        "id": "xlov_9ow_5xa",
        "colab": {
          "base_uri": "https://localhost:8080/",
          "height": 247
        },
        "outputId": "004f29fc-78f6-4a08-86e3-01fa1fc3bf23"
      },
      "execution_count": null,
      "outputs": [
        {
          "output_type": "execute_result",
          "data": {
            "text/plain": [
              "GridSearchCV(cv=5,\n",
              "             estimator=Pipeline(steps=[('smote', SMOTE()),\n",
              "                                       ('modelforest',\n",
              "                                        StackingClassifier(estimators=[('rfc',\n",
              "                                                                        RandomForestClassifier())]))]),\n",
              "             n_jobs=-1,\n",
              "             param_grid={'modelforest__rfc__max_depth': [2, 3, 4, 5, 6, 7],\n",
              "                         'modelforest__rfc__n_estimators': [50, 100, 150, 200]},\n",
              "             scoring='roc_auc')"
            ],
            "text/html": [
              "<style>#sk-container-id-7 {color: black;background-color: white;}#sk-container-id-7 pre{padding: 0;}#sk-container-id-7 div.sk-toggleable {background-color: white;}#sk-container-id-7 label.sk-toggleable__label {cursor: pointer;display: block;width: 100%;margin-bottom: 0;padding: 0.3em;box-sizing: border-box;text-align: center;}#sk-container-id-7 label.sk-toggleable__label-arrow:before {content: \"▸\";float: left;margin-right: 0.25em;color: #696969;}#sk-container-id-7 label.sk-toggleable__label-arrow:hover:before {color: black;}#sk-container-id-7 div.sk-estimator:hover label.sk-toggleable__label-arrow:before {color: black;}#sk-container-id-7 div.sk-toggleable__content {max-height: 0;max-width: 0;overflow: hidden;text-align: left;background-color: #f0f8ff;}#sk-container-id-7 div.sk-toggleable__content pre {margin: 0.2em;color: black;border-radius: 0.25em;background-color: #f0f8ff;}#sk-container-id-7 input.sk-toggleable__control:checked~div.sk-toggleable__content {max-height: 200px;max-width: 100%;overflow: auto;}#sk-container-id-7 input.sk-toggleable__control:checked~label.sk-toggleable__label-arrow:before {content: \"▾\";}#sk-container-id-7 div.sk-estimator input.sk-toggleable__control:checked~label.sk-toggleable__label {background-color: #d4ebff;}#sk-container-id-7 div.sk-label input.sk-toggleable__control:checked~label.sk-toggleable__label {background-color: #d4ebff;}#sk-container-id-7 input.sk-hidden--visually {border: 0;clip: rect(1px 1px 1px 1px);clip: rect(1px, 1px, 1px, 1px);height: 1px;margin: -1px;overflow: hidden;padding: 0;position: absolute;width: 1px;}#sk-container-id-7 div.sk-estimator {font-family: monospace;background-color: #f0f8ff;border: 1px dotted black;border-radius: 0.25em;box-sizing: border-box;margin-bottom: 0.5em;}#sk-container-id-7 div.sk-estimator:hover {background-color: #d4ebff;}#sk-container-id-7 div.sk-parallel-item::after {content: \"\";width: 100%;border-bottom: 1px solid gray;flex-grow: 1;}#sk-container-id-7 div.sk-label:hover label.sk-toggleable__label {background-color: #d4ebff;}#sk-container-id-7 div.sk-serial::before {content: \"\";position: absolute;border-left: 1px solid gray;box-sizing: border-box;top: 0;bottom: 0;left: 50%;z-index: 0;}#sk-container-id-7 div.sk-serial {display: flex;flex-direction: column;align-items: center;background-color: white;padding-right: 0.2em;padding-left: 0.2em;position: relative;}#sk-container-id-7 div.sk-item {position: relative;z-index: 1;}#sk-container-id-7 div.sk-parallel {display: flex;align-items: stretch;justify-content: center;background-color: white;position: relative;}#sk-container-id-7 div.sk-item::before, #sk-container-id-7 div.sk-parallel-item::before {content: \"\";position: absolute;border-left: 1px solid gray;box-sizing: border-box;top: 0;bottom: 0;left: 50%;z-index: -1;}#sk-container-id-7 div.sk-parallel-item {display: flex;flex-direction: column;z-index: 1;position: relative;background-color: white;}#sk-container-id-7 div.sk-parallel-item:first-child::after {align-self: flex-end;width: 50%;}#sk-container-id-7 div.sk-parallel-item:last-child::after {align-self: flex-start;width: 50%;}#sk-container-id-7 div.sk-parallel-item:only-child::after {width: 0;}#sk-container-id-7 div.sk-dashed-wrapped {border: 1px dashed gray;margin: 0 0.4em 0.5em 0.4em;box-sizing: border-box;padding-bottom: 0.4em;background-color: white;}#sk-container-id-7 div.sk-label label {font-family: monospace;font-weight: bold;display: inline-block;line-height: 1.2em;}#sk-container-id-7 div.sk-label-container {text-align: center;}#sk-container-id-7 div.sk-container {/* jupyter's `normalize.less` sets `[hidden] { display: none; }` but bootstrap.min.css set `[hidden] { display: none !important; }` so we also need the `!important` here to be able to override the default hidden behavior on the sphinx rendered scikit-learn.org. See: https://github.com/scikit-learn/scikit-learn/issues/21755 */display: inline-block !important;position: relative;}#sk-container-id-7 div.sk-text-repr-fallback {display: none;}</style><div id=\"sk-container-id-7\" class=\"sk-top-container\"><div class=\"sk-text-repr-fallback\"><pre>GridSearchCV(cv=5,\n",
              "             estimator=Pipeline(steps=[(&#x27;smote&#x27;, SMOTE()),\n",
              "                                       (&#x27;modelforest&#x27;,\n",
              "                                        StackingClassifier(estimators=[(&#x27;rfc&#x27;,\n",
              "                                                                        RandomForestClassifier())]))]),\n",
              "             n_jobs=-1,\n",
              "             param_grid={&#x27;modelforest__rfc__max_depth&#x27;: [2, 3, 4, 5, 6, 7],\n",
              "                         &#x27;modelforest__rfc__n_estimators&#x27;: [50, 100, 150, 200]},\n",
              "             scoring=&#x27;roc_auc&#x27;)</pre><b>In a Jupyter environment, please rerun this cell to show the HTML representation or trust the notebook. <br />On GitHub, the HTML representation is unable to render, please try loading this page with nbviewer.org.</b></div><div class=\"sk-container\" hidden><div class=\"sk-item sk-dashed-wrapped\"><div class=\"sk-label-container\"><div class=\"sk-label sk-toggleable\"><input class=\"sk-toggleable__control sk-hidden--visually\" id=\"sk-estimator-id-23\" type=\"checkbox\" ><label for=\"sk-estimator-id-23\" class=\"sk-toggleable__label sk-toggleable__label-arrow\">GridSearchCV</label><div class=\"sk-toggleable__content\"><pre>GridSearchCV(cv=5,\n",
              "             estimator=Pipeline(steps=[(&#x27;smote&#x27;, SMOTE()),\n",
              "                                       (&#x27;modelforest&#x27;,\n",
              "                                        StackingClassifier(estimators=[(&#x27;rfc&#x27;,\n",
              "                                                                        RandomForestClassifier())]))]),\n",
              "             n_jobs=-1,\n",
              "             param_grid={&#x27;modelforest__rfc__max_depth&#x27;: [2, 3, 4, 5, 6, 7],\n",
              "                         &#x27;modelforest__rfc__n_estimators&#x27;: [50, 100, 150, 200]},\n",
              "             scoring=&#x27;roc_auc&#x27;)</pre></div></div></div><div class=\"sk-parallel\"><div class=\"sk-parallel-item\"><div class=\"sk-item\"><div class=\"sk-label-container\"><div class=\"sk-label sk-toggleable\"><input class=\"sk-toggleable__control sk-hidden--visually\" id=\"sk-estimator-id-24\" type=\"checkbox\" ><label for=\"sk-estimator-id-24\" class=\"sk-toggleable__label sk-toggleable__label-arrow\">estimator: Pipeline</label><div class=\"sk-toggleable__content\"><pre>Pipeline(steps=[(&#x27;smote&#x27;, SMOTE()),\n",
              "                (&#x27;modelforest&#x27;,\n",
              "                 StackingClassifier(estimators=[(&#x27;rfc&#x27;,\n",
              "                                                 RandomForestClassifier())]))])</pre></div></div></div><div class=\"sk-serial\"><div class=\"sk-item\"><div class=\"sk-serial\"><div class=\"sk-item\"><div class=\"sk-estimator sk-toggleable\"><input class=\"sk-toggleable__control sk-hidden--visually\" id=\"sk-estimator-id-25\" type=\"checkbox\" ><label for=\"sk-estimator-id-25\" class=\"sk-toggleable__label sk-toggleable__label-arrow\">SMOTE</label><div class=\"sk-toggleable__content\"><pre>SMOTE()</pre></div></div></div><div class=\"sk-item\"><div class=\"sk-label-container\"><div class=\"sk-label sk-toggleable\"><input class=\"sk-toggleable__control sk-hidden--visually\" id=\"sk-estimator-id-26\" type=\"checkbox\" ><label for=\"sk-estimator-id-26\" class=\"sk-toggleable__label sk-toggleable__label-arrow\">modelforest: StackingClassifier</label><div class=\"sk-toggleable__content\"><pre>StackingClassifier(estimators=[(&#x27;rfc&#x27;, RandomForestClassifier())])</pre></div></div></div><div class=\"sk-serial\"><div class=\"sk-item\"><div class=\"sk-parallel\"><div class=\"sk-parallel-item\"><div class=\"sk-item\"><div class=\"sk-label-container\"><div class=\"sk-label sk-toggleable\"><label>rfc</label></div></div><div class=\"sk-serial\"><div class=\"sk-item\"><div class=\"sk-estimator sk-toggleable\"><input class=\"sk-toggleable__control sk-hidden--visually\" id=\"sk-estimator-id-27\" type=\"checkbox\" ><label for=\"sk-estimator-id-27\" class=\"sk-toggleable__label sk-toggleable__label-arrow\">RandomForestClassifier</label><div class=\"sk-toggleable__content\"><pre>RandomForestClassifier()</pre></div></div></div></div></div></div></div></div><div class=\"sk-item\"><div class=\"sk-parallel\"><div class=\"sk-parallel-item\"><div class=\"sk-item\"><div class=\"sk-label-container\"><div class=\"sk-label sk-toggleable\"><label>final_estimator</label></div></div><div class=\"sk-serial\"><div class=\"sk-item\"><div class=\"sk-estimator sk-toggleable\"><input class=\"sk-toggleable__control sk-hidden--visually\" id=\"sk-estimator-id-28\" type=\"checkbox\" ><label for=\"sk-estimator-id-28\" class=\"sk-toggleable__label sk-toggleable__label-arrow\">LogisticRegression</label><div class=\"sk-toggleable__content\"><pre>LogisticRegression()</pre></div></div></div></div></div></div></div></div></div></div></div></div></div></div></div></div></div></div></div>"
            ]
          },
          "metadata": {},
          "execution_count": 74
        }
      ]
    },
    {
      "cell_type": "code",
      "source": [
        "# best params are max depth at 2 and number of estimators at 50\n",
        "display(pl_search_rand1.best_params_)"
      ],
      "metadata": {
        "id": "JHvmXP72D-wr",
        "colab": {
          "base_uri": "https://localhost:8080/",
          "height": 35
        },
        "outputId": "93e4dede-01af-418b-a10b-fc736187e66b"
      },
      "execution_count": null,
      "outputs": [
        {
          "output_type": "display_data",
          "data": {
            "text/plain": [
              "{'modelforest__rfc__max_depth': 2, 'modelforest__rfc__n_estimators': 50}"
            ]
          },
          "metadata": {}
        }
      ]
    },
    {
      "cell_type": "code",
      "source": [
        "# Adding the hyperparamters to the random forest\n",
        "rforest = RandomForestClassifier(n_estimators=50, max_depth=2)\n",
        "rforest.fit(X_train_vect, y_train_resampled)"
      ],
      "metadata": {
        "colab": {
          "base_uri": "https://localhost:8080/",
          "height": 74
        },
        "id": "SK1Iaf4EGh_e",
        "outputId": "3db07aa8-585d-4549-9a3f-d031a73f72d9"
      },
      "execution_count": null,
      "outputs": [
        {
          "output_type": "execute_result",
          "data": {
            "text/plain": [
              "RandomForestClassifier(max_depth=2, n_estimators=50)"
            ],
            "text/html": [
              "<style>#sk-container-id-11 {color: black;background-color: white;}#sk-container-id-11 pre{padding: 0;}#sk-container-id-11 div.sk-toggleable {background-color: white;}#sk-container-id-11 label.sk-toggleable__label {cursor: pointer;display: block;width: 100%;margin-bottom: 0;padding: 0.3em;box-sizing: border-box;text-align: center;}#sk-container-id-11 label.sk-toggleable__label-arrow:before {content: \"▸\";float: left;margin-right: 0.25em;color: #696969;}#sk-container-id-11 label.sk-toggleable__label-arrow:hover:before {color: black;}#sk-container-id-11 div.sk-estimator:hover label.sk-toggleable__label-arrow:before {color: black;}#sk-container-id-11 div.sk-toggleable__content {max-height: 0;max-width: 0;overflow: hidden;text-align: left;background-color: #f0f8ff;}#sk-container-id-11 div.sk-toggleable__content pre {margin: 0.2em;color: black;border-radius: 0.25em;background-color: #f0f8ff;}#sk-container-id-11 input.sk-toggleable__control:checked~div.sk-toggleable__content {max-height: 200px;max-width: 100%;overflow: auto;}#sk-container-id-11 input.sk-toggleable__control:checked~label.sk-toggleable__label-arrow:before {content: \"▾\";}#sk-container-id-11 div.sk-estimator input.sk-toggleable__control:checked~label.sk-toggleable__label {background-color: #d4ebff;}#sk-container-id-11 div.sk-label input.sk-toggleable__control:checked~label.sk-toggleable__label {background-color: #d4ebff;}#sk-container-id-11 input.sk-hidden--visually {border: 0;clip: rect(1px 1px 1px 1px);clip: rect(1px, 1px, 1px, 1px);height: 1px;margin: -1px;overflow: hidden;padding: 0;position: absolute;width: 1px;}#sk-container-id-11 div.sk-estimator {font-family: monospace;background-color: #f0f8ff;border: 1px dotted black;border-radius: 0.25em;box-sizing: border-box;margin-bottom: 0.5em;}#sk-container-id-11 div.sk-estimator:hover {background-color: #d4ebff;}#sk-container-id-11 div.sk-parallel-item::after {content: \"\";width: 100%;border-bottom: 1px solid gray;flex-grow: 1;}#sk-container-id-11 div.sk-label:hover label.sk-toggleable__label {background-color: #d4ebff;}#sk-container-id-11 div.sk-serial::before {content: \"\";position: absolute;border-left: 1px solid gray;box-sizing: border-box;top: 0;bottom: 0;left: 50%;z-index: 0;}#sk-container-id-11 div.sk-serial {display: flex;flex-direction: column;align-items: center;background-color: white;padding-right: 0.2em;padding-left: 0.2em;position: relative;}#sk-container-id-11 div.sk-item {position: relative;z-index: 1;}#sk-container-id-11 div.sk-parallel {display: flex;align-items: stretch;justify-content: center;background-color: white;position: relative;}#sk-container-id-11 div.sk-item::before, #sk-container-id-11 div.sk-parallel-item::before {content: \"\";position: absolute;border-left: 1px solid gray;box-sizing: border-box;top: 0;bottom: 0;left: 50%;z-index: -1;}#sk-container-id-11 div.sk-parallel-item {display: flex;flex-direction: column;z-index: 1;position: relative;background-color: white;}#sk-container-id-11 div.sk-parallel-item:first-child::after {align-self: flex-end;width: 50%;}#sk-container-id-11 div.sk-parallel-item:last-child::after {align-self: flex-start;width: 50%;}#sk-container-id-11 div.sk-parallel-item:only-child::after {width: 0;}#sk-container-id-11 div.sk-dashed-wrapped {border: 1px dashed gray;margin: 0 0.4em 0.5em 0.4em;box-sizing: border-box;padding-bottom: 0.4em;background-color: white;}#sk-container-id-11 div.sk-label label {font-family: monospace;font-weight: bold;display: inline-block;line-height: 1.2em;}#sk-container-id-11 div.sk-label-container {text-align: center;}#sk-container-id-11 div.sk-container {/* jupyter's `normalize.less` sets `[hidden] { display: none; }` but bootstrap.min.css set `[hidden] { display: none !important; }` so we also need the `!important` here to be able to override the default hidden behavior on the sphinx rendered scikit-learn.org. See: https://github.com/scikit-learn/scikit-learn/issues/21755 */display: inline-block !important;position: relative;}#sk-container-id-11 div.sk-text-repr-fallback {display: none;}</style><div id=\"sk-container-id-11\" class=\"sk-top-container\"><div class=\"sk-text-repr-fallback\"><pre>RandomForestClassifier(max_depth=2, n_estimators=50)</pre><b>In a Jupyter environment, please rerun this cell to show the HTML representation or trust the notebook. <br />On GitHub, the HTML representation is unable to render, please try loading this page with nbviewer.org.</b></div><div class=\"sk-container\" hidden><div class=\"sk-item\"><div class=\"sk-estimator sk-toggleable\"><input class=\"sk-toggleable__control sk-hidden--visually\" id=\"sk-estimator-id-32\" type=\"checkbox\" checked><label for=\"sk-estimator-id-32\" class=\"sk-toggleable__label sk-toggleable__label-arrow\">RandomForestClassifier</label><div class=\"sk-toggleable__content\"><pre>RandomForestClassifier(max_depth=2, n_estimators=50)</pre></div></div></div></div></div>"
            ]
          },
          "metadata": {},
          "execution_count": 88
        }
      ]
    },
    {
      "cell_type": "code",
      "source": [
        "# Getting the scores of test and train\n",
        "# fixed class imbalance\n",
        "print(rforest.score(X_test_vect, y_test))\n",
        "print(rforest.score(X_train_vect, y_train_resampled))"
      ],
      "metadata": {
        "colab": {
          "base_uri": "https://localhost:8080/"
        },
        "id": "_zJK6SfIG_Kv",
        "outputId": "f891fc53-decb-4375-e646-0410ed4b02e8"
      },
      "execution_count": null,
      "outputs": [
        {
          "output_type": "stream",
          "name": "stdout",
          "text": [
            "0.6225\n",
            "0.61657848324515\n"
          ]
        }
      ]
    },
    {
      "cell_type": "code",
      "source": [
        "# Creating confusion matrix\n",
        "ConfusionMatrixDisplay.from_estimator(rforest, X_test_vect, y_test)"
      ],
      "metadata": {
        "colab": {
          "base_uri": "https://localhost:8080/",
          "height": 467
        },
        "id": "ubcsD6s0HGGO",
        "outputId": "627243b4-9ff7-44b5-ed13-f461fa58c8bf"
      },
      "execution_count": null,
      "outputs": [
        {
          "output_type": "execute_result",
          "data": {
            "text/plain": [
              "<sklearn.metrics._plot.confusion_matrix.ConfusionMatrixDisplay at 0x7f9f842bf100>"
            ]
          },
          "metadata": {},
          "execution_count": 90
        },
        {
          "output_type": "display_data",
          "data": {
            "text/plain": [
              "<Figure size 640x480 with 2 Axes>"
            ],
            "image/png": "[encoded data removed]"
          },
          "metadata": {}
        }
      ]
    },
    {
      "cell_type": "code",
      "source": [
        "# Predicting and creating a classification report from the model\n",
        "# Precision score is 72 but is still not as good as the logistic regression model\n",
        "rforest_predict1 = rforest.predict(X_test_vect)\n",
        "print(classification_report(y_test, rforest_predict1))"
      ],
      "metadata": {
        "colab": {
          "base_uri": "https://localhost:8080/"
        },
        "id": "P3LLkjbEHTOG",
        "outputId": "b36a2513-4c64-464f-cc7f-3e8bf33a0f0d"
      },
      "execution_count": null,
      "outputs": [
        {
          "output_type": "stream",
          "name": "stdout",
          "text": [
            "              precision    recall  f1-score   support\n",
            "\n",
            "           0       0.48      0.53      0.50       405\n",
            "           1       0.16      0.39      0.23       178\n",
            "           2       0.86      0.68      0.76      1417\n",
            "\n",
            "    accuracy                           0.62      2000\n",
            "   macro avg       0.50      0.53      0.50      2000\n",
            "weighted avg       0.72      0.62      0.66      2000\n",
            "\n"
          ]
        }
      ]
    }
  ],
  "metadata": {
    "colab": {
      "provenance": []
    },
    "gpuClass": "standard",
    "kernelspec": {
      "display_name": "Python (learn-env)",
      "language": "python",
      "name": "learn-env"
    },
    "language_info": {
      "codemirror_mode": {
        "name": "ipython",
        "version": 3
      },
      "file_extension": ".py",
      "mimetype": "text/x-python",
      "name": "python",
      "nbconvert_exporter": "python",
      "pygments_lexer": "ipython3",
      "version": "3.8.5"
    }
  },
  "nbformat": 4,
  "nbformat_minor": 0
}